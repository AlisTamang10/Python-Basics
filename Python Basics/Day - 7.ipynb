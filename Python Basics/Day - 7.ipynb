{
 "cells": [
  {
   "cell_type": "markdown",
   "id": "b2c0bfd5",
   "metadata": {},
   "source": [
    "# Operator Overloading"
   ]
  },
  {
   "cell_type": "code",
   "execution_count": 10,
   "id": "9aef5d6b",
   "metadata": {},
   "outputs": [
    {
     "name": "stdout",
     "output_type": "stream",
     "text": [
      "3i+5j+6k\n",
      "1i+2j+3k\n",
      "2i+7j+9k\n"
     ]
    }
   ],
   "source": [
    "class Vector:\n",
    "    def __init__(self,i,j,k):\n",
    "        self.i = i\n",
    "        self.j = j\n",
    "        self.k = k\n",
    "        \n",
    "    def __str__(self):\n",
    "        return(f'{self.i}i+{self.j}j+{self.k}k')\n",
    "    \n",
    "    def __add__(self,other):\n",
    "        return Vector(self.i - other.i, self.j + other.j , self.k + other.k)\n",
    "        \n",
    "    \n",
    "v1 = Vector(3,5,6)\n",
    "print(v1)\n",
    "v2 = Vector(1,2,3) \n",
    "print(v2)\n",
    "\n",
    "v3 = v1  + v2 \n",
    "print(v3)\n",
    "\n",
    "    "
   ]
  },
  {
   "cell_type": "markdown",
   "id": "719f892c",
   "metadata": {},
   "source": [
    "#data types \n",
    "- args\n",
    "- kwargs\n"
   ]
  },
  {
   "cell_type": "code",
   "execution_count": 11,
   "id": "42a5544d",
   "metadata": {},
   "outputs": [
    {
     "name": "stdout",
     "output_type": "stream",
     "text": [
      "1 2 3 4\n"
     ]
    }
   ],
   "source": [
    "def functuon_name(a,b,c,d):\n",
    "    print(a,b,c,d)\n",
    "\n",
    "a = functuon_name(1,2,3,4)\n"
   ]
  },
  {
   "cell_type": "code",
   "execution_count": 23,
   "id": "add1c768",
   "metadata": {},
   "outputs": [
    {
     "name": "stdout",
     "output_type": "stream",
     "text": [
      "abc\n",
      "a\n",
      "b\n",
      "c\n",
      "rohan teacher\n",
      "alis prod\n"
     ]
    }
   ],
   "source": [
    "def add_name(norm,*args,**kwargs):\n",
    "    print(norm)\n",
    "    for item in args:\n",
    "        print(item)\n",
    "    for i , j in kwargs.items():\n",
    "        print(i,j)\n",
    "        \n",
    "#     print(type(args))\n",
    "        \n",
    "names = ['a','b','c']\n",
    "nrml = 'abc'\n",
    "kw = {'rohan':'teacher','alis':'prod'}\n",
    "add_name(nrml,*names,**kw)\n"
   ]
  },
  {
   "cell_type": "code",
   "execution_count": 29,
   "id": "6632cad7",
   "metadata": {},
   "outputs": [
    {
     "data": {
      "text/plain": [
       "6"
      ]
     },
     "execution_count": 29,
     "metadata": {},
     "output_type": "execute_result"
    }
   ],
   "source": [
    "\n",
    "    \n",
    "def add(x,y):\n",
    "        return x + y\n",
    "    \n",
    "def add(x,y,z):\n",
    "        return x+y+z\n",
    "        \n",
    "\n",
    "add(1,2,3)\n",
    "\n"
   ]
  },
  {
   "cell_type": "markdown",
   "id": "7832d6ae",
   "metadata": {},
   "source": [
    "# Error Handling"
   ]
  },
  {
   "cell_type": "code",
   "execution_count": 31,
   "id": "5f12669b",
   "metadata": {},
   "outputs": [],
   "source": []
  },
  {
   "cell_type": "code",
   "execution_count": 8,
   "id": "9d2e9549",
   "metadata": {},
   "outputs": [
    {
     "name": "stdout",
     "output_type": "stream",
     "text": [
      "Enter the 1 num:2\n",
      "Enter the 2 num:0\n",
      "Can not be divided by zero\n",
      "Enter the 2 num again: 2\n",
      "1.0\n",
      "Error did not occur\n"
     ]
    }
   ],
   "source": [
    "try: \n",
    "    a = float(input('Enter the 1 num:'))\n",
    "    b = float(input('Enter the 2 num:'))\n",
    "    \n",
    "    div = a/b\n",
    "   \n",
    "    \n",
    "except ZeroDivisionError:\n",
    "    print(\"Can not be divided by zero\")\n",
    "    b = float(input(\"Enter the 2 num again: \"))\n",
    "    div = a/b\n",
    "    print(div)\n",
    "else:\n",
    "    print(div)\n",
    "finally:\n",
    "    print(\"Error did not occur\")"
   ]
  },
  {
   "cell_type": "code",
   "execution_count": 12,
   "id": "95ed5b6e",
   "metadata": {},
   "outputs": [
    {
     "name": "stdout",
     "output_type": "stream",
     "text": [
      "Addition of the two arguments 3\n",
      "Code Executed\n",
      "Addition of the two arguments Alis Tamang\n",
      "Code Executed\n",
      "Integer and String Cannot be added\n",
      "Code Executed\n"
     ]
    }
   ],
   "source": [
    "# WAP error handling like add int and int , str concat str and catch error str and int\n",
    "\n",
    "def add(x,y):\n",
    "    \n",
    "    try:\n",
    "        add = x + y\n",
    "    \n",
    "    except TypeError:\n",
    "        print(\"Integer and String Cannot be added\")\n",
    "    else:\n",
    "        print(\"Addition of the two arguments\",add)\n",
    "    finally:\n",
    "        print(\"Code Executed\")\n",
    "        \n",
    "add(1,2) \n",
    "add(\"Alis \",\"Tamang\")\n",
    "add(\"A\",2)\n"
   ]
  },
  {
   "cell_type": "code",
   "execution_count": null,
   "id": "60fe65d0",
   "metadata": {},
   "outputs": [],
   "source": []
  }
 ],
 "metadata": {
  "kernelspec": {
   "display_name": "Python 3 (ipykernel)",
   "language": "python",
   "name": "python3"
  },
  "language_info": {
   "codemirror_mode": {
    "name": "ipython",
    "version": 3
   },
   "file_extension": ".py",
   "mimetype": "text/x-python",
   "name": "python",
   "nbconvert_exporter": "python",
   "pygments_lexer": "ipython3",
   "version": "3.9.13"
  }
 },
 "nbformat": 4,
 "nbformat_minor": 5
}
