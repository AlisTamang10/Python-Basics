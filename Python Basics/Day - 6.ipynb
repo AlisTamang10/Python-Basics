{
 "cells": [
  {
   "cell_type": "code",
   "execution_count": 11,
   "id": "4e623f68",
   "metadata": {},
   "outputs": [
    {
     "name": "stdout",
     "output_type": "stream",
     "text": [
      "My name is ALis\n"
     ]
    }
   ],
   "source": [
    "# File Handling \n",
    "#write mode\n",
    "writefile = open('new_txt.txt','w+')\n",
    "writefile.write(\"My name is ALis\")\n",
    "writefile.seek(0)\n",
    "print(writefile.read())\n",
    "#print(var)\n"
   ]
  },
  {
   "cell_type": "code",
   "execution_count": 17,
   "id": "7b666ec5",
   "metadata": {},
   "outputs": [
    {
     "ename": "ValueError",
     "evalue": "I/O operation on closed file.",
     "output_type": "error",
     "traceback": [
      "\u001b[1;31m---------------------------------------------------------------------------\u001b[0m",
      "\u001b[1;31mValueError\u001b[0m                                Traceback (most recent call last)",
      "\u001b[1;32m~\\AppData\\Local\\Temp\\ipykernel_13992\\3177788862.py\u001b[0m in \u001b[0;36m<module>\u001b[1;34m\u001b[0m\n\u001b[0;32m      1\u001b[0m \u001b[1;31m#writelines\u001b[0m\u001b[1;33m\u001b[0m\u001b[1;33m\u001b[0m\u001b[0m\n\u001b[1;32m----> 2\u001b[1;33m \u001b[0mwritefile\u001b[0m\u001b[1;33m.\u001b[0m\u001b[0mwritelines\u001b[0m\u001b[1;33m(\u001b[0m\u001b[1;33m[\u001b[0m\u001b[1;34m'\\n number1 \\n number2'\u001b[0m\u001b[1;33m]\u001b[0m\u001b[1;33m)\u001b[0m\u001b[1;33m\u001b[0m\u001b[1;33m\u001b[0m\u001b[0m\n\u001b[0m\u001b[0;32m      3\u001b[0m \u001b[0mwritefile\u001b[0m\u001b[1;33m.\u001b[0m\u001b[0mseek\u001b[0m\u001b[1;33m(\u001b[0m\u001b[1;36m0\u001b[0m\u001b[1;33m)\u001b[0m\u001b[1;33m\u001b[0m\u001b[1;33m\u001b[0m\u001b[0m\n\u001b[0;32m      4\u001b[0m \u001b[0mprint\u001b[0m\u001b[1;33m(\u001b[0m\u001b[0mwritefile\u001b[0m\u001b[1;33m.\u001b[0m\u001b[0mread\u001b[0m\u001b[1;33m(\u001b[0m\u001b[1;33m)\u001b[0m\u001b[1;33m)\u001b[0m\u001b[1;33m\u001b[0m\u001b[1;33m\u001b[0m\u001b[0m\n\u001b[0;32m      5\u001b[0m \u001b[0mwritefile\u001b[0m\u001b[1;33m.\u001b[0m\u001b[0mclose\u001b[0m\u001b[1;33m(\u001b[0m\u001b[1;33m)\u001b[0m\u001b[1;33m\u001b[0m\u001b[1;33m\u001b[0m\u001b[0m\n",
      "\u001b[1;31mValueError\u001b[0m: I/O operation on closed file."
     ]
    }
   ],
   "source": [
    "#writelines\n",
    "writefile.writelines(['\\n number1 \\n number2'])\n",
    "writefile.seek(0)\n",
    "print(writefile.read())\n",
    "writefile.close()"
   ]
  },
  {
   "cell_type": "code",
   "execution_count": 21,
   "id": "4fb57712",
   "metadata": {},
   "outputs": [
    {
     "name": "stdout",
     "output_type": "stream",
     "text": [
      "My name is ALis\n",
      " number1 \n",
      " number2\n",
      " number1 \n",
      " number2\n",
      " this is append txt\n"
     ]
    }
   ],
   "source": [
    "file = open('new_txt.txt','a+')\n",
    "file.write('\\n this is append txt')\n",
    "file.seek(0)\n",
    "print(file.read())\n",
    "file.close()"
   ]
  },
  {
   "cell_type": "code",
   "execution_count": 22,
   "id": "7a27bff6",
   "metadata": {},
   "outputs": [],
   "source": [
    "import os \n",
    "#os.remove('new_txt.txt')"
   ]
  },
  {
   "cell_type": "markdown",
   "id": "6f8645e6",
   "metadata": {},
   "source": [
    "# Super \n"
   ]
  },
  {
   "cell_type": "code",
   "execution_count": 26,
   "id": "b2e1aa09",
   "metadata": {},
   "outputs": [
    {
     "name": "stdout",
     "output_type": "stream",
     "text": [
      "I am in instance of class A\n"
     ]
    }
   ],
   "source": [
    "class A:\n",
    "    \n",
    "    classvar1 = 'I am in class A'\n",
    "    \n",
    "    def __init__(self):\n",
    "        \n",
    "        self.classvar1 = \"I am in instance of class A\"\n",
    "        \n",
    "class B(A):\n",
    "    classvar1 = 'I am in class B'\n",
    "    \n",
    "a = A()\n",
    "b = B()\n",
    "\n",
    "print(b.classvar1)"
   ]
  },
  {
   "cell_type": "code",
   "execution_count": 31,
   "id": "f260929f",
   "metadata": {},
   "outputs": [
    {
     "name": "stdout",
     "output_type": "stream",
     "text": [
      "I am in instance of class A I am special\n"
     ]
    }
   ],
   "source": [
    "class A:\n",
    "    \n",
    "    classvar1 = 'I am in class A'\n",
    "    \n",
    "    def __init__(self):\n",
    "        \n",
    "        self.classvar1 = \"I am in instance of class A\"\n",
    "        self.special = \"I am special\"\n",
    "        \n",
    "class B(A):\n",
    "    \n",
    "    def __init__(self):\n",
    "        \n",
    "        self.classvar1 = \" I am in instance of class B\"\n",
    "        super().__init__()\n",
    "        \n",
    "    \n",
    "a = A()\n",
    "b = B()\n",
    "\n",
    "print(b.classvar1,b.special)"
   ]
  },
  {
   "cell_type": "code",
   "execution_count": 33,
   "id": "8aa40f35",
   "metadata": {},
   "outputs": [
    {
     "name": "stdout",
     "output_type": "stream",
     "text": [
      "[4, 9, 16, 25, 36, 49, 64, 81, 100]\n"
     ]
    }
   ],
   "source": [
    "mylist = [2,3,4,5,6,7,8,9,10]\n",
    "square = list(map(lambda num1:num1**2,mylist))\n",
    "print(square)"
   ]
  },
  {
   "cell_type": "code",
   "execution_count": 39,
   "id": "8a4df005",
   "metadata": {},
   "outputs": [
    {
     "name": "stdout",
     "output_type": "stream",
     "text": [
      "[3, 5, 7, 9]\n"
     ]
    }
   ],
   "source": [
    "even_num = list(filter(lambda num1:num1%2 != 0,mylist))\n",
    "print(even_num)\n"
   ]
  },
  {
   "cell_type": "code",
   "execution_count": 44,
   "id": "fa7d6cca",
   "metadata": {},
   "outputs": [
    {
     "name": "stdout",
     "output_type": "stream",
     "text": [
      "Kathmandu\n",
      "Lalitpur\n"
     ]
    }
   ],
   "source": [
    "district = {\n",
    "    'Kathmandu':'Kathmandu',\n",
    "    'Jhapa':'Birtamode',\n",
    "    'Lalitpur':'Lalitpur',\n",
    "    \n",
    "}\n",
    "for i in district:\n",
    "    if i == district[i]:\n",
    "        print(i)"
   ]
  },
  {
   "cell_type": "code",
   "execution_count": null,
   "id": "af3df833",
   "metadata": {},
   "outputs": [],
   "source": []
  }
 ],
 "metadata": {
  "kernelspec": {
   "display_name": "Python 3 (ipykernel)",
   "language": "python",
   "name": "python3"
  },
  "language_info": {
   "codemirror_mode": {
    "name": "ipython",
    "version": 3
   },
   "file_extension": ".py",
   "mimetype": "text/x-python",
   "name": "python",
   "nbconvert_exporter": "python",
   "pygments_lexer": "ipython3",
   "version": "3.9.13"
  }
 },
 "nbformat": 4,
 "nbformat_minor": 5
}
