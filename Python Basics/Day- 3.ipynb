{
 "cells": [
  {
   "cell_type": "markdown",
   "id": "b0a45acc",
   "metadata": {},
   "source": [
    "# Class & Object"
   ]
  },
  {
   "cell_type": "code",
   "execution_count": 3,
   "id": "35974152",
   "metadata": {},
   "outputs": [
    {
     "name": "stdout",
     "output_type": "stream",
     "text": [
      "ram\n",
      "1000\n",
      "Hari\n",
      "Sportsman\n"
     ]
    }
   ],
   "source": [
    "#creating class \n",
    "class Person:\n",
    "    name = \"ram\"\n",
    "    job = 'Teacher'\n",
    "    salary = 1000\n",
    "    \n",
    "a = Person()\n",
    "b = Person()\n",
    "print(a.name)\n",
    "print(a.salary)\n",
    "b.name = 'Hari'\n",
    "b.job = \"Sportsman\"\n",
    "print(b.name)\n",
    "print(b.job)"
   ]
  },
  {
   "cell_type": "code",
   "execution_count": 6,
   "id": "c2983a29",
   "metadata": {},
   "outputs": [
    {
     "name": "stdout",
     "output_type": "stream",
     "text": [
      "hari is a Teacher\n"
     ]
    }
   ],
   "source": [
    "#defining method\n",
    "\n",
    "class Person:\n",
    "    name = \"ram\"\n",
    "    job = 'Teacher'\n",
    "    salary = 1000\n",
    "    \n",
    "    def info(self): #methods\n",
    "        print(f\"{self.name} is a {self.job}\")\n",
    "    \n",
    "a = Person()\n",
    "a.name =\"hari\"\n",
    "a.info()\n"
   ]
  },
  {
   "cell_type": "code",
   "execution_count": 13,
   "id": "e0a773e6",
   "metadata": {},
   "outputs": [
    {
     "name": "stdout",
     "output_type": "stream",
     "text": [
      "initial radius 5\n",
      "Initial area 78.5\n"
     ]
    }
   ],
   "source": [
    "#find the radius of circle \n",
    "class Cricle:\n",
    "    PI = 3.14\n",
    "    def __init__(self,radius = 4):\n",
    "        self.radius = radius\n",
    "        self.calculate_area()\n",
    "    def calculate_area(self):\n",
    "        self.area= self.PI*self.radius**2\n",
    "        \n",
    "    def Radius(self,raddi):\n",
    "        self.radius = raddi\n",
    "        self.calculate_area()\n",
    "        \n",
    "circle =Cricle(5)\n",
    "#print\n",
    "print(\"initial radius\", circle.radius)\n",
    "print(\"Initial area\",circle.area)\n",
    "\n",
    "\n"
   ]
  },
  {
   "cell_type": "code",
   "execution_count": 12,
   "id": "18bdd830",
   "metadata": {},
   "outputs": [
    {
     "name": "stdout",
     "output_type": "stream",
     "text": [
      "50.24\n",
      "25.12\n"
     ]
    }
   ],
   "source": [
    "class Circle:\n",
    "    PI = 3.14\n",
    "    def setRadius(self,rad):\n",
    "        self.radius = rad\n",
    "        self.area = self.PI * rad**2\n",
    "    def circumference(self):\n",
    "        self.circum = 2*self.PI*self.radius\n",
    "\n",
    "c = Circle()\n",
    "\n",
    "c.setRadius(4)\n",
    "print(c.area)\n",
    "c.circumference()\n",
    "print(c.circum)\n",
    "\n",
    "# #new obj\n",
    "# cr = Circle()\n",
    "# c.setRadius(5)\n",
    "# print(\"New area\", c.area)"
   ]
  },
  {
   "cell_type": "code",
   "execution_count": 17,
   "id": "fe29ce82",
   "metadata": {},
   "outputs": [
    {
     "name": "stdout",
     "output_type": "stream",
     "text": [
      "37.5\n"
     ]
    }
   ],
   "source": [
    " class Student:\n",
    "        attendence = 80\n",
    "        \n",
    "        def __init__ (self, working_days = 30):\n",
    "            self.working_days = working_days\n",
    "            self.calculate_marks()\n",
    "        \n",
    "        def calculate_marks(self):\n",
    "            self.obtained_marks = (self.working_days/self.attendence)* 100\n",
    "            \n",
    "a = Student()\n",
    "\n",
    "print(a.obtained_marks)\n",
    "\n",
    "            \n",
    "        \n",
    "         \n",
    "        \n",
    "    "
   ]
  },
  {
   "cell_type": "code",
   "execution_count": 8,
   "id": "451bb105",
   "metadata": {},
   "outputs": [
    {
     "name": "stdout",
     "output_type": "stream",
     "text": [
      "12000.0\n"
     ]
    },
    {
     "ename": "TypeError",
     "evalue": "Developer() takes no arguments",
     "output_type": "error",
     "traceback": [
      "\u001b[1;31m---------------------------------------------------------------------------\u001b[0m",
      "\u001b[1;31mTypeError\u001b[0m                                 Traceback (most recent call last)",
      "\u001b[1;32m~\\AppData\\Local\\Temp\\ipykernel_4200\\1980129867.py\u001b[0m in \u001b[0;36m<module>\u001b[1;34m\u001b[0m\n\u001b[0;32m     20\u001b[0m \u001b[0mprint\u001b[0m\u001b[1;33m(\u001b[0m\u001b[0mobj_mng\u001b[0m\u001b[1;33m.\u001b[0m\u001b[0mtotal_salary\u001b[0m\u001b[1;33m)\u001b[0m\u001b[1;33m\u001b[0m\u001b[1;33m\u001b[0m\u001b[0m\n\u001b[0;32m     21\u001b[0m \u001b[1;33m\u001b[0m\u001b[0m\n\u001b[1;32m---> 22\u001b[1;33m \u001b[0mobj_dev\u001b[0m \u001b[1;33m=\u001b[0m \u001b[0mDeveloper\u001b[0m\u001b[1;33m(\u001b[0m\u001b[1;36m10000\u001b[0m\u001b[1;33m)\u001b[0m\u001b[1;33m\u001b[0m\u001b[1;33m\u001b[0m\u001b[0m\n\u001b[0m\u001b[0;32m     23\u001b[0m \u001b[0mprint\u001b[0m\u001b[1;33m(\u001b[0m\u001b[0mobj_dev\u001b[0m\u001b[1;33m.\u001b[0m\u001b[0mcalculate_salary\u001b[0m\u001b[1;33m)\u001b[0m\u001b[1;33m\u001b[0m\u001b[1;33m\u001b[0m\u001b[0m\n\u001b[0;32m     24\u001b[0m \u001b[1;33m\u001b[0m\u001b[0m\n",
      "\u001b[1;31mTypeError\u001b[0m: Developer() takes no arguments"
     ]
    }
   ],
   "source": [
    "\n",
    "\n",
    "class Employee:\n",
    "    \n",
    "    def claculate_salary(self):\n",
    "        print(\"the salary of employee\")\n",
    "        \n",
    "    \n",
    "class Manager(Employee):\n",
    "    def calculate_salary(self,salary):\n",
    "        self.salary = salary\n",
    "        self.total_salary = self.salary + (self.salary * 20)/100\n",
    "\n",
    "class Developer(Employee):\n",
    "    def calculate_salary(self,sal):\n",
    "        self.salary = sal \n",
    "        self.total_salary = self.salary + (self.salary * 10)/100\n",
    "    \n",
    "obj_emp = Employee()\n",
    "obj_mng = Manager()\n",
    "obj_mng.calculate_salary(10000)\n",
    "print(obj_mng.total_salary)\n",
    "\n",
    "obj_dev = Developer(10000)\n",
    "print(obj_dev.calculate_salary)\n",
    "\n",
    "    \n",
    "\n",
    "    "
   ]
  },
  {
   "cell_type": "code",
   "execution_count": 1,
   "id": "9cd011bf",
   "metadata": {},
   "outputs": [],
   "source": [
    "# create a class as shape( depending upon their shape calculate area and perimeter )\n",
    "# WAP when user input any number from 1 to 7 "
   ]
  },
  {
   "cell_type": "code",
   "execution_count": 7,
   "id": "8187495a",
   "metadata": {},
   "outputs": [
    {
     "name": "stdout",
     "output_type": "stream",
     "text": [
      "Enter the number from 1 to 7: 4\n",
      "Wednesday\n"
     ]
    }
   ],
   "source": [
    "list_days = [\"Sunday\",\"Monday\",\"Tuesday\",\"Wednesday\",\"Thursday\",\"Friday\",\"Saturday\"]\n",
    "num = int(input(\"Enter the number from 1 to 7: \"))\n",
    "\n",
    "if num >= 1 and num <= 7:\n",
    "    #print(num)\n",
    "    print(list_days[num-1])\n",
    "else:\n",
    "    print(\"Entered number is out of range\")"
   ]
  },
  {
   "cell_type": "code",
   "execution_count": 1,
   "id": "60e06a8d",
   "metadata": {},
   "outputs": [
    {
     "name": "stdout",
     "output_type": "stream",
     "text": [
      "Circle - Area: 50.24\n",
      "Circle - Perimeter: 25.12\n",
      "Square - Area: 4\n",
      "Square - Perimeter: 8\n",
      "Rectangle - Area: 8\n",
      "Rectangle - Perimeter: 12\n",
      "Triangle - Area: 3.0\n",
      "Triangle - Perimeter: 6\n"
     ]
    }
   ],
   "source": [
    "class Shape:\n",
    "    PI = 3.14 \n",
    "    def area(self):\n",
    "        pass\n",
    "    def perimeter(self):\n",
    "        pass\n",
    "\n",
    "class Circle(Shape):\n",
    "    def __init__(self,radius):\n",
    "        self.radius = radius\n",
    "        self.calculate_area()\n",
    "        self.calculate_perimeter()\n",
    "        \n",
    "    def calculate_area(self):\n",
    "        self.area= self.PI*self.radius**2\n",
    "        \n",
    "    def calculate_perimeter(self):\n",
    "        self.perimeter = 2 * self.PI * self.radius\n",
    "        \n",
    "class Square(Shape):\n",
    "    \n",
    "    def __init__(self, side):\n",
    "        self.side = side\n",
    "        self.calculate_area()\n",
    "        self.calculate_perimeter()\n",
    "        \n",
    "    def calculate_area(self):\n",
    "        self.area = self.side ** 2\n",
    "        \n",
    "    def calculate_perimeter(self):\n",
    "        self.perimeter = self.side * 4\n",
    "        \n",
    "class Rectange(Shape):\n",
    "    \n",
    "    def __init__(self,length,breadth):\n",
    "        self.length = length\n",
    "        self.breadth = breadth\n",
    "        self.calculate_area()\n",
    "        self.calculate_perimeter()\n",
    "        \n",
    "    def calculate_area(self):\n",
    "        self.area = self.length * self.breadth\n",
    "        \n",
    "    def calculate_perimeter(self):\n",
    "        self.perimeter = 2 * (self.length + self.breadth)\n",
    "        \n",
    "class Triangle(Shape):\n",
    "    \n",
    "    def __init__(self,base,height):\n",
    "        self.base = base\n",
    "        self.height = height\n",
    "        self.calculate_area()\n",
    "        \n",
    "    def calculate_area(self):\n",
    "        self.area = (1/2) * self.base * self.height\n",
    "        \n",
    "    def perimeter(self,side1,side2,side3):\n",
    "        self.perim = side1 + side2 + side3\n",
    "        return(self.perim)\n",
    "        \n",
    "        \n",
    "#objects of circle       \n",
    "circle = Circle(4)\n",
    "print(\"Circle - Area:\", circle.area)\n",
    "print(\"Circle - Perimeter:\",circle.perimeter)\n",
    "\n",
    "#object of square\n",
    "square = Square(2)\n",
    "print(\"Square - Area:\",square.area)\n",
    "print(\"Square - Perimeter:\",square.perimeter)\n",
    "\n",
    "#objects of Rectangle\n",
    "rect = Rectange(4,2)\n",
    "print(\"Rectangle - Area:\",rect.area)\n",
    "print(\"Rectangle - Perimeter:\",rect.perimeter)\n",
    "\n",
    "#objects of triangle\n",
    "triangle = Triangle(2,3)\n",
    "print(\"Triangle - Area:\",triangle.area)\n",
    "print(\"Triangle - Perimeter:\",triangle.perimeter(1,2,3))\n",
    "\n",
    "\n",
    "\n",
    "        "
   ]
  },
  {
   "cell_type": "code",
   "execution_count": null,
   "id": "3ac584b5",
   "metadata": {},
   "outputs": [],
   "source": []
  }
 ],
 "metadata": {
  "kernelspec": {
   "display_name": "Python 3 (ipykernel)",
   "language": "python",
   "name": "python3"
  },
  "language_info": {
   "codemirror_mode": {
    "name": "ipython",
    "version": 3
   },
   "file_extension": ".py",
   "mimetype": "text/x-python",
   "name": "python",
   "nbconvert_exporter": "python",
   "pygments_lexer": "ipython3",
   "version": "3.9.13"
  }
 },
 "nbformat": 4,
 "nbformat_minor": 5
}
