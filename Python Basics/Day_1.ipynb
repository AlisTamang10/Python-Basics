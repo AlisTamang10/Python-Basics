{
 "cells": [
  {
   "cell_type": "markdown",
   "id": "085ed070",
   "metadata": {},
   "source": [
    "# Data Types in Python"
   ]
  },
  {
   "cell_type": "code",
   "execution_count": 1,
   "id": "f301c14b",
   "metadata": {},
   "outputs": [
    {
     "name": "stdout",
     "output_type": "stream",
     "text": [
      "Enter your name:alis\n",
      "alis\n"
     ]
    }
   ],
   "source": [
    "a = input (\"Enter your name:\")\n",
    "print(a)"
   ]
  },
  {
   "cell_type": "markdown",
   "id": "7865bf43",
   "metadata": {},
   "source": [
    "# Operations in Python"
   ]
  },
  {
   "cell_type": "code",
   "execution_count": 2,
   "id": "dfeed33c",
   "metadata": {},
   "outputs": [
    {
     "name": "stdout",
     "output_type": "stream",
     "text": [
      "Enter num1:2\n",
      "Enter num2:4\n",
      "6\n"
     ]
    }
   ],
   "source": [
    "#addition\n",
    "x = int(input (\"Enter num1:\"))\n",
    "y = int(input (\"Enter num2:\"))\n",
    "add = x + y\n",
    "print(add)"
   ]
  },
  {
   "cell_type": "code",
   "execution_count": 3,
   "id": "5d10965a",
   "metadata": {},
   "outputs": [
    {
     "name": "stdout",
     "output_type": "stream",
     "text": [
      "namelastname\n"
     ]
    }
   ],
   "source": [
    "#concat\n",
    "str1 = \"name\"\n",
    "str2 = \"lastname\"\n",
    "print(str1+str2)"
   ]
  },
  {
   "cell_type": "markdown",
   "id": "c95c62cd",
   "metadata": {},
   "source": [
    "## WAP to find amount offer after discount(10%)\n"
   ]
  },
  {
   "cell_type": "code",
   "execution_count": 5,
   "id": "403319d9",
   "metadata": {},
   "outputs": [
    {
     "name": "stdout",
     "output_type": "stream",
     "text": [
      "Enter amount:100\n",
      "Enter discount %:10\n",
      "90.0\n"
     ]
    }
   ],
   "source": [
    "amount  = int(input (\"Enter amount:\"))\n",
    "dis = int(input (\"Enter discount %:\"))\n",
    "discount_amount = (amount * dis)/100\n",
    "discount = amount - discount_amount\n",
    "print(discount)"
   ]
  },
  {
   "cell_type": "markdown",
   "id": "d4b4eab0",
   "metadata": {},
   "source": [
    "# Wap to convert KM to Mile\n"
   ]
  },
  {
   "cell_type": "code",
   "execution_count": 9,
   "id": "a24a23c8",
   "metadata": {},
   "outputs": [
    {
     "name": "stdout",
     "output_type": "stream",
     "text": [
      "Enter the distance KM you want to convert in mile:100\n",
      "62.0\n"
     ]
    }
   ],
   "source": [
    "#1km = 0.62 mile\n",
    "km  = int(input (\"Enter the distance KM you want to convert in mile:\"))\n",
    "calculation = km * 0.62\n",
    "print(calculation )"
   ]
  },
  {
   "cell_type": "markdown",
   "id": "6ddab942",
   "metadata": {},
   "source": [
    "### Boolean and comparison operators\n"
   ]
  },
  {
   "cell_type": "markdown",
   "id": "40603003",
   "metadata": {},
   "source": [
    "1.<less than\n",
    "2.>greater than\n",
    "3.== equals to\n",
    "4.!= not equals to \n",
    "5.>= greater thans equals to\n",
    "6.<= smaller than equals to \n",
    "\n"
   ]
  },
  {
   "cell_type": "code",
   "execution_count": 11,
   "id": "32925b94",
   "metadata": {},
   "outputs": [
    {
     "name": "stdout",
     "output_type": "stream",
     "text": [
      "enter number:0\n",
      "False\n"
     ]
    }
   ],
   "source": [
    "a = int(input(\"enter number:\"))\n",
    "print(a!=0)"
   ]
  },
  {
   "cell_type": "markdown",
   "id": "35433a20",
   "metadata": {},
   "source": [
    "# Logical Operator \n",
    "And,\n",
    "OR,\n",
    "NOT"
   ]
  },
  {
   "cell_type": "code",
   "execution_count": 20,
   "id": "ca748161",
   "metadata": {},
   "outputs": [
    {
     "name": "stdout",
     "output_type": "stream",
     "text": [
      "Enter num11\n",
      "Enter num20\n"
     ]
    }
   ],
   "source": [
    "#and operation\n",
    "a = int(input(\"Enter num1\")) \n",
    "b = int(input(\"Enter num2\"))\n",
    "if (a>=1) & (b>0):\n",
    "    c = a*b\n",
    "    print(c)\n",
    "    print(\"input format is wrong\")\n",
    "    "
   ]
  },
  {
   "cell_type": "code",
   "execution_count": 23,
   "id": "aa7bfdd2",
   "metadata": {},
   "outputs": [
    {
     "name": "stdout",
     "output_type": "stream",
     "text": [
      "Enter num10\n",
      "Enter num20\n"
     ]
    }
   ],
   "source": [
    "#or operation\n",
    "a = int(input(\"Enter num1\")) \n",
    "b = int(input(\"Enter num2\"))\n",
    "if (a>=1)  | (b>0):\n",
    "    c = a*b\n",
    "    print(c)\n"
   ]
  },
  {
   "cell_type": "code",
   "execution_count": 26,
   "id": "2a7257e7",
   "metadata": {},
   "outputs": [
    {
     "name": "stdout",
     "output_type": "stream",
     "text": [
      "Enter amount : 100\n",
      "Enter discount % : 12\n",
      "final amount is 88.0\n"
     ]
    }
   ],
   "source": [
    "amount = int(input(\"Enter amount : \")) \n",
    "dis = int(input(\"Enter discount % : \"))\n",
    "if discount > 10:\n",
    "    discount_amount = (amount * dis)/100\n",
    "    final_amount = amount - discount_amount\n",
    "    print(\"final amount is\" , final_amount)\n",
    "else:\n",
    "    pass"
   ]
  },
  {
   "cell_type": "code",
   "execution_count": 3,
   "id": "ae0c50cd",
   "metadata": {},
   "outputs": [
    {
     "name": "stdout",
     "output_type": "stream",
     "text": [
      "Enter discount % : 12\n",
      "acceptable discount\n"
     ]
    }
   ],
   "source": [
    "discount = int(input(\"Enter discount % : \"))\n",
    "\n",
    "if (discount >= 10) & (discount <= 20):\n",
    "    print(\"acceptable discount\")\n",
    "elif (discount >= 20) | (discount == 20):\n",
    "    print(\"not acceptable \")\n",
    "\n"
   ]
  },
  {
   "cell_type": "code",
   "execution_count": 7,
   "id": "52d02006",
   "metadata": {},
   "outputs": [
    {
     "name": "stdout",
     "output_type": "stream",
     "text": [
      "1\n",
      "2\n",
      "3\n",
      "4\n",
      "5\n"
     ]
    }
   ],
   "source": [
    "for count in range(1,6):\n",
    "    print (count)"
   ]
  },
  {
   "cell_type": "code",
   "execution_count": null,
   "id": "b397d81f",
   "metadata": {},
   "outputs": [],
   "source": []
  }
 ],
 "metadata": {
  "kernelspec": {
   "display_name": "Python 3 (ipykernel)",
   "language": "python",
   "name": "python3"
  },
  "language_info": {
   "codemirror_mode": {
    "name": "ipython",
    "version": 3
   },
   "file_extension": ".py",
   "mimetype": "text/x-python",
   "name": "python",
   "nbconvert_exporter": "python",
   "pygments_lexer": "ipython3",
   "version": "3.9.13"
  }
 },
 "nbformat": 4,
 "nbformat_minor": 5
}
