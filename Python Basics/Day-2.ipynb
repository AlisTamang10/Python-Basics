{
 "cells": [
  {
   "cell_type": "markdown",
   "id": "84a71a99",
   "metadata": {},
   "source": [
    "# Day- 2"
   ]
  },
  {
   "cell_type": "markdown",
   "id": "087600bf",
   "metadata": {},
   "source": [
    "## Memebership Operator\n",
    "- it is used to check if a sequance is present in object or not.\n",
    "- not ,\n",
    "- not in\n"
   ]
  },
  {
   "cell_type": "code",
   "execution_count": 1,
   "id": "2bac2e30",
   "metadata": {},
   "outputs": [
    {
     "name": "stdout",
     "output_type": "stream",
     "text": [
      "True\n"
     ]
    }
   ],
   "source": [
    "lis = ['mango', 'apple', 'orange']\n",
    "print('mango' in lis)"
   ]
  },
  {
   "cell_type": "code",
   "execution_count": 2,
   "id": "fbd03c95",
   "metadata": {},
   "outputs": [
    {
     "name": "stdout",
     "output_type": "stream",
     "text": [
      "True\n"
     ]
    }
   ],
   "source": [
    "lis = ['mango', 'apple', 'orange']\n",
    "print('grape' not in lis)"
   ]
  },
  {
   "cell_type": "code",
   "execution_count": 9,
   "id": "2728548a",
   "metadata": {},
   "outputs": [
    {
     "name": "stdout",
     "output_type": "stream",
     "text": [
      "Anythin\n"
     ]
    }
   ],
   "source": [
    "#Indexing \n",
    "text = 'Anything'\n",
    "print(text[0:-1])"
   ]
  },
  {
   "cell_type": "code",
   "execution_count": 13,
   "id": "8b0eb61f",
   "metadata": {},
   "outputs": [
    {
     "name": "stdout",
     "output_type": "stream",
     "text": [
      "grain\n"
     ]
    }
   ],
   "source": [
    "lis = ['mango', 'apple', 'orange']\n",
    "lis2 = ['rice','grain','flour']\n",
    "lis3 = [lis,lis2]\n",
    "print(lis3 [1][1])"
   ]
  },
  {
   "cell_type": "code",
   "execution_count": 14,
   "id": "04e2b683",
   "metadata": {},
   "outputs": [
    {
     "name": "stdout",
     "output_type": "stream",
     "text": [
      "['mango', 'apple', 'orange', 'banana']\n"
     ]
    }
   ],
   "source": [
    "lis.append('banana')\n",
    "print(lis)"
   ]
  },
  {
   "cell_type": "code",
   "execution_count": 18,
   "id": "15f341d2",
   "metadata": {},
   "outputs": [
    {
     "data": {
      "text/plain": [
       "'banana'"
      ]
     },
     "execution_count": 18,
     "metadata": {},
     "output_type": "execute_result"
    }
   ],
   "source": [
    "lis.pop()"
   ]
  },
  {
   "cell_type": "code",
   "execution_count": 20,
   "id": "02b821a3",
   "metadata": {},
   "outputs": [
    {
     "data": {
      "text/plain": [
       "'orange'"
      ]
     },
     "execution_count": 20,
     "metadata": {},
     "output_type": "execute_result"
    }
   ],
   "source": [
    "lis.pop(2)"
   ]
  },
  {
   "cell_type": "code",
   "execution_count": 21,
   "id": "5bf3a1a7",
   "metadata": {},
   "outputs": [
    {
     "name": "stdout",
     "output_type": "stream",
     "text": [
      "['mango', 'apple', 'banana']\n"
     ]
    }
   ],
   "source": [
    "lis.append('banana')\n",
    "print(lis)"
   ]
  },
  {
   "cell_type": "code",
   "execution_count": 22,
   "id": "6a1340f2",
   "metadata": {},
   "outputs": [
    {
     "name": "stdout",
     "output_type": "stream",
     "text": [
      "['apple', 'banana', 'mango']\n"
     ]
    }
   ],
   "source": [
    "lis.sort()\n",
    "print(lis)"
   ]
  },
  {
   "cell_type": "code",
   "execution_count": 23,
   "id": "dd3c316f",
   "metadata": {},
   "outputs": [
    {
     "name": "stdout",
     "output_type": "stream",
     "text": [
      "['mango', 'banana', 'apple']\n"
     ]
    }
   ],
   "source": [
    "lis.reverse()\n",
    "print(lis)"
   ]
  },
  {
   "cell_type": "code",
   "execution_count": 24,
   "id": "92452470",
   "metadata": {},
   "outputs": [],
   "source": [
    "#tuples\n",
    "#similar to list but unchangeable"
   ]
  },
  {
   "cell_type": "code",
   "execution_count": 27,
   "id": "bd633a18",
   "metadata": {},
   "outputs": [
    {
     "name": "stdout",
     "output_type": "stream",
     "text": [
      "21\n"
     ]
    }
   ],
   "source": [
    "## disctionary \n",
    "# collection of key:value pairs\n",
    "student={\n",
    "    'firstname':'alis',\n",
    "    'lastname':'tamang',\n",
    "    'age':21,\n",
    "    'height':5.7\n",
    "}\n",
    "print(student['age'])\n"
   ]
  },
  {
   "cell_type": "code",
   "execution_count": 30,
   "id": "7b904e0c",
   "metadata": {},
   "outputs": [
    {
     "name": "stdout",
     "output_type": "stream",
     "text": [
      "dict_keys(['firstname', 'lastname', 'age', 'height'])\n"
     ]
    }
   ],
   "source": [
    "## disctionary \n",
    "# collection of key:value pairs\n",
    "student={\n",
    "    'firstname':'alis',\n",
    "    'lastname':'tamang',\n",
    "    'age':21,\n",
    "    'height':5.7\n",
    "}\n",
    "print(student.keys())\n"
   ]
  },
  {
   "cell_type": "code",
   "execution_count": 31,
   "id": "92f659e5",
   "metadata": {},
   "outputs": [
    {
     "name": "stdout",
     "output_type": "stream",
     "text": [
      "dict_values(['alis', 'tamang', 21, 5.7])\n"
     ]
    }
   ],
   "source": [
    "## disctionary \n",
    "# collection of key:value pairs\n",
    "student={\n",
    "    'firstname':'alis',\n",
    "    'lastname':'tamang',\n",
    "    'age':21,\n",
    "    'height':5.7\n",
    "}\n",
    "print(student.values())\n"
   ]
  },
  {
   "cell_type": "code",
   "execution_count": 32,
   "id": "93fb42cb",
   "metadata": {},
   "outputs": [
    {
     "data": {
      "text/plain": [
       "{'firstname': 'alis',\n",
       " 'lastname': 'tamang',\n",
       " 'age': 21,\n",
       " 'height': 5.7,\n",
       " 'roll': 22}"
      ]
     },
     "execution_count": 32,
     "metadata": {},
     "output_type": "execute_result"
    }
   ],
   "source": [
    "#add\n",
    "student['roll'] = 22\n",
    "student"
   ]
  },
  {
   "cell_type": "code",
   "execution_count": 35,
   "id": "3e5488ef",
   "metadata": {},
   "outputs": [
    {
     "name": "stdout",
     "output_type": "stream",
     "text": [
      "{'key_1': {'sub_key': {'nest_key': 'final_value'}}}\n"
     ]
    }
   ],
   "source": [
    "#nested dict\n",
    "nest_disct={\n",
    "    'key_1':{\n",
    "        'sub_key':{\n",
    "            'nest_key':'final_value'\n",
    "        }\n",
    "    }\n",
    "}\n",
    "print(nest_disct)"
   ]
  },
  {
   "cell_type": "code",
   "execution_count": 37,
   "id": "264d6929",
   "metadata": {},
   "outputs": [
    {
     "name": "stdout",
     "output_type": "stream",
     "text": [
      "final_value\n"
     ]
    }
   ],
   "source": [
    "print(nest_disct['key_1']['sub_key']['nest_key'])"
   ]
  },
  {
   "cell_type": "code",
   "execution_count": 38,
   "id": "ed21bf33",
   "metadata": {},
   "outputs": [
    {
     "data": {
      "text/plain": [
       "{1, 'more'}"
      ]
     },
     "execution_count": 38,
     "metadata": {},
     "output_type": "execute_result"
    }
   ],
   "source": [
    "#set\n",
    "xyz = set()\n",
    "xyz.add(1)\n",
    "xyz.add('more')\n",
    "xyz\n"
   ]
  },
  {
   "cell_type": "code",
   "execution_count": 40,
   "id": "879be317",
   "metadata": {},
   "outputs": [
    {
     "name": "stdout",
     "output_type": "stream",
     "text": [
      "10\n"
     ]
    }
   ],
   "source": [
    "lis = [10,12,13,15,20]\n",
    "i = 0\n",
    "print(min(lis))\n"
   ]
  },
  {
   "cell_type": "code",
   "execution_count": 44,
   "id": "90724ab1",
   "metadata": {},
   "outputs": [
    {
     "data": {
      "text/plain": [
       "[13, 15, 10, 12, 20]"
      ]
     },
     "execution_count": 44,
     "metadata": {},
     "output_type": "execute_result"
    }
   ],
   "source": [
    "#shuffle\n",
    "from random import shuffle\n",
    "shuffle(lis)\n",
    "lis\n"
   ]
  },
  {
   "cell_type": "code",
   "execution_count": 46,
   "id": "faec10b8",
   "metadata": {},
   "outputs": [
    {
     "name": "stdout",
     "output_type": "stream",
     "text": [
      "this is a function\n"
     ]
    }
   ],
   "source": [
    "#functions\n",
    "def demofunction():\n",
    "    print('this is a function')\n",
    "demofunction()"
   ]
  },
  {
   "cell_type": "code",
   "execution_count": 47,
   "id": "1262ff85",
   "metadata": {},
   "outputs": [
    {
     "name": "stdout",
     "output_type": "stream",
     "text": [
      "26\n"
     ]
    }
   ],
   "source": [
    "def add(a,b):\n",
    "    z = a + b\n",
    "    print(z)\n",
    "add(12,14)"
   ]
  },
  {
   "cell_type": "code",
   "execution_count": 49,
   "id": "7cf357ac",
   "metadata": {},
   "outputs": [
    {
     "data": {
      "text/plain": [
       "6"
      ]
     },
     "execution_count": 49,
     "metadata": {},
     "output_type": "execute_result"
    }
   ],
   "source": [
    "#function with return type\n",
    "def mul(a,b):\n",
    "    z = a * b\n",
    "    return z\n",
    "mul(2,3)"
   ]
  },
  {
   "cell_type": "code",
   "execution_count": 50,
   "id": "2f8d4434",
   "metadata": {},
   "outputs": [
    {
     "name": "stdout",
     "output_type": "stream",
     "text": [
      "80\n"
     ]
    }
   ],
   "source": [
    "result = mul(40, 2)\n",
    "print(result)"
   ]
  },
  {
   "cell_type": "markdown",
   "id": "c7addb16",
   "metadata": {},
   "source": [
    "# Assignment\n"
   ]
  },
  {
   "cell_type": "code",
   "execution_count": 1,
   "id": "edd93fe0",
   "metadata": {},
   "outputs": [],
   "source": [
    "#multiples of 5\n",
    "#check greater among 3 provided\n",
    "#check prime or not\n",
    "#check divisible by 5 or not "
   ]
  },
  {
   "cell_type": "code",
   "execution_count": 3,
   "id": "35e85727",
   "metadata": {},
   "outputs": [
    {
     "name": "stdout",
     "output_type": "stream",
     "text": [
      "multiples of 5 [15, 10, 20, 25]\n"
     ]
    }
   ],
   "source": [
    "def mulOf5():\n",
    "    org_list = [12,15,14,10,18,20,21,25]\n",
    "    new_list = []\n",
    "    for numbers in org_list:\n",
    "        if numbers % 5 == 0:\n",
    "            new_list.append(numbers)\n",
    "    print(\"multiples of 5\", new_list)\n",
    "    \n",
    "mulOf5()"
   ]
  },
  {
   "cell_type": "code",
   "execution_count": 2,
   "id": "8e0aea29",
   "metadata": {},
   "outputs": [
    {
     "name": "stdout",
     "output_type": "stream",
     "text": [
      "Enter the first number: 3\n",
      "Enter the second number: 4\n",
      "Enter the third number: 1\n",
      "4  is greatest among provided numbers\n"
     ]
    }
   ],
   "source": [
    "input1 = int(input(\"Enter the first number: \"))\n",
    "input2 = int(input(\"Enter the second number: \"))\n",
    "input3 = int(input(\"Enter the third number: \"))\n",
    "\n",
    "if input1 > input2 and input1 > input3:\n",
    "    print(input1, \" is greatest among provided numbers\")\n",
    "elif input2 > input1 and input2 > input3:\n",
    "    print(input2, \" is greatest among provided numbers\")\n",
    "else:\n",
    "    print(input3, \" is greatest among provided numbers\")\n",
    "    "
   ]
  },
  {
   "cell_type": "code",
   "execution_count": 4,
   "id": "28c86931",
   "metadata": {},
   "outputs": [
    {
     "name": "stdout",
     "output_type": "stream",
     "text": [
      "Enter the number: 77\n",
      "77 is not a prime number\n"
     ]
    }
   ],
   "source": [
    "num = int(input(\"Enter the number: \"))\n",
    "\n",
    "if num > 1:\n",
    "    for i in range(2, num):\n",
    "        if num % i == 0:\n",
    "            print(num, \"is not a prime number\")\n",
    "            break\n",
    "    else:\n",
    "        print(num, \"is a prime number\")\n",
    "else:\n",
    "    print(num, \"is not a prime number\")\n"
   ]
  },
  {
   "cell_type": "code",
   "execution_count": 7,
   "id": "04ed68f9",
   "metadata": {},
   "outputs": [
    {
     "name": "stdout",
     "output_type": "stream",
     "text": [
      "Enter the number: 0\n",
      "0 is not divisible by 5\n"
     ]
    }
   ],
   "source": [
    "def divi_of_5(num):\n",
    "\n",
    "    if num > 1:\n",
    "        if num % 5 == 0:\n",
    "            print(num,\"is divisible by 5\")\n",
    "        else:\n",
    "            print(num,\"is not divisible by 5\")\n",
    "        \n",
    "    else:\n",
    "        print(num,\"is not divisible by 5\")\n",
    "\n",
    "num = int(input(\"Enter the number: \"))\n",
    "divi_of_5(num)\n",
    "    "
   ]
  },
  {
   "cell_type": "code",
   "execution_count": null,
   "id": "2d9b5b3d",
   "metadata": {},
   "outputs": [],
   "source": []
  }
 ],
 "metadata": {
  "kernelspec": {
   "display_name": "Python 3 (ipykernel)",
   "language": "python",
   "name": "python3"
  },
  "language_info": {
   "codemirror_mode": {
    "name": "ipython",
    "version": 3
   },
   "file_extension": ".py",
   "mimetype": "text/x-python",
   "name": "python",
   "nbconvert_exporter": "python",
   "pygments_lexer": "ipython3",
   "version": "3.9.13"
  }
 },
 "nbformat": 4,
 "nbformat_minor": 5
}
