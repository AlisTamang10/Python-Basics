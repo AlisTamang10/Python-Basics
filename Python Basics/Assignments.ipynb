{
 "cells": [
  {
   "cell_type": "markdown",
   "id": "ec6177fe",
   "metadata": {},
   "source": [
    "# Day-2\n"
   ]
  },
  {
   "cell_type": "code",
   "execution_count": 1,
   "id": "c9f77500",
   "metadata": {},
   "outputs": [],
   "source": [
    "#multiples of 5\n",
    "#check greater among 3 provided\n",
    "#check prime or not\n",
    "#check divisible by 5 or not "
   ]
  },
  {
   "cell_type": "code",
   "execution_count": 2,
   "id": "f0bd388e",
   "metadata": {},
   "outputs": [
    {
     "name": "stdout",
     "output_type": "stream",
     "text": [
      "multiples of 5 [15, 10, 20, 25]\n"
     ]
    }
   ],
   "source": [
    "def mulOf5():\n",
    "    org_list = [12,15,14,10,18,20,21,25]\n",
    "    new_list = []\n",
    "    for numbers in org_list:\n",
    "        if numbers % 5 == 0:\n",
    "            new_list.append(numbers)\n",
    "    print(\"multiples of 5\", new_list)\n",
    "    \n",
    "mulOf5()"
   ]
  },
  {
   "cell_type": "code",
   "execution_count": 3,
   "id": "3834740c",
   "metadata": {},
   "outputs": [
    {
     "name": "stdout",
     "output_type": "stream",
     "text": [
      "Enter the first number: 2\n",
      "Enter the second number: 3\n",
      "Enter the third number: 4\n",
      "4  is greatest among provided numbers\n"
     ]
    }
   ],
   "source": [
    "input1 = int(input(\"Enter the first number: \"))\n",
    "input2 = int(input(\"Enter the second number: \"))\n",
    "input3 = int(input(\"Enter the third number: \"))\n",
    "\n",
    "if input1 > input2 and input1 > input3:\n",
    "    print(input1, \" is greatest among provided numbers\")\n",
    "elif input2 > input1 and input2 > input3:\n",
    "    print(input2, \" is greatest among provided numbers\")\n",
    "else:\n",
    "    print(input3, \" is greatest among provided numbers\")\n",
    "    "
   ]
  },
  {
   "cell_type": "code",
   "execution_count": 4,
   "id": "3aa6dcd1",
   "metadata": {},
   "outputs": [
    {
     "name": "stdout",
     "output_type": "stream",
     "text": [
      "Enter the number: 3\n",
      "3 is a prime number\n"
     ]
    }
   ],
   "source": [
    "num = int(input(\"Enter the number: \"))\n",
    "\n",
    "if num > 1:\n",
    "    for i in range(2, num):\n",
    "        if num % i == 0:\n",
    "            print(num, \"is not a prime number\")\n",
    "            break\n",
    "    else:\n",
    "        print(num, \"is a prime number\")\n",
    "else:\n",
    "    print(num, \"is not a prime number\")\n"
   ]
  },
  {
   "cell_type": "code",
   "execution_count": 5,
   "id": "cb9a5769",
   "metadata": {},
   "outputs": [
    {
     "name": "stdout",
     "output_type": "stream",
     "text": [
      "Enter the number: 10\n",
      "10 is divisible by 5\n"
     ]
    }
   ],
   "source": [
    "def divi_of_5(num):\n",
    "\n",
    "    if num > 1:\n",
    "        if num % 5 == 0:\n",
    "            print(num,\"is divisible by 5\")\n",
    "        else:\n",
    "            print(num,\"is not divisible by 5\")\n",
    "        \n",
    "    else:\n",
    "        print(num,\"is not divisible by 5\")\n",
    "\n",
    "num = int(input(\"Enter the number: \"))\n",
    "divi_of_5(num)\n",
    "    "
   ]
  },
  {
   "cell_type": "markdown",
   "id": "7c478c44",
   "metadata": {},
   "source": [
    "# Day-3"
   ]
  },
  {
   "cell_type": "code",
   "execution_count": 6,
   "id": "c71c9279",
   "metadata": {},
   "outputs": [],
   "source": [
    "# create a class as shape( depending upon their shape calculate area and perimeter )\n",
    "# WAP when user input any number from 1 to 7 "
   ]
  },
  {
   "cell_type": "code",
   "execution_count": 7,
   "id": "7ae0506c",
   "metadata": {},
   "outputs": [
    {
     "name": "stdout",
     "output_type": "stream",
     "text": [
      "Enter the number from 1 to 7: 4\n",
      "Wednesday\n"
     ]
    }
   ],
   "source": [
    "list_days = [\"Sunday\",\"Monday\",\"Tuesday\",\"Wednesday\",\"Thursday\",\"Friday\",\"Saturday\"]\n",
    "num = int(input(\"Enter the number from 1 to 7: \"))\n",
    "\n",
    "if num >= 1 and num <= 7:\n",
    "    #print(num)\n",
    "    print(list_days[num-1])\n",
    "else:\n",
    "    print(\"Entered number is out of range\")"
   ]
  },
  {
   "cell_type": "code",
   "execution_count": 4,
   "id": "49d12a92",
   "metadata": {},
   "outputs": [
    {
     "name": "stdout",
     "output_type": "stream",
     "text": [
      "Circle - Area: 50.24\n",
      "Circle - Perimeter: 25.12\n",
      "Square - Area: 4\n",
      "Square - Perimeter: 8\n",
      "Rectangle - Area: 8\n",
      "Rectangle - Perimeter: 12\n",
      "Triangle - Area: 3.0\n",
      "Triangle - Perimeter: 6\n"
     ]
    }
   ],
   "source": [
    "class Shape:\n",
    "    PI = 3.14 \n",
    "    def area(self):\n",
    "        pass\n",
    "    def perimeter(self):\n",
    "        pass\n",
    "\n",
    "class Circle(Shape):\n",
    "    def __init__(self,radius):\n",
    "        self.radius = radius\n",
    "        self.calculate_area()\n",
    "        self.calculate_perimeter()\n",
    "        \n",
    "    def calculate_area(self):\n",
    "        self.area= self.PI*self.radius**2\n",
    "        \n",
    "    def calculate_perimeter(self):\n",
    "        self.perimeter = 2 * self.PI * self.radius\n",
    "        \n",
    "class Square(Shape):\n",
    "    \n",
    "    def __init__(self, side):\n",
    "        self.side = side\n",
    "        self.calculate_area()\n",
    "        self.calculate_perimeter()\n",
    "        \n",
    "    def calculate_area(self):\n",
    "        self.area = self.side ** 2\n",
    "        \n",
    "    def calculate_perimeter(self):\n",
    "        self.perimeter = self.side * 4\n",
    "        \n",
    "class Rectange(Shape):\n",
    "    \n",
    "    def __init__(self,length,breadth):\n",
    "        self.length = length\n",
    "        self.breadth = breadth\n",
    "        self.calculate_area()\n",
    "        self.calculate_perimeter()\n",
    "        \n",
    "    def calculate_area(self):\n",
    "        self.area = self.length * self.breadth\n",
    "        \n",
    "    def calculate_perimeter(self):\n",
    "        self.perimeter = 2 * (self.length + self.breadth)\n",
    "        \n",
    "class Triangle(Shape):\n",
    "    \n",
    "    def __init__(self,base,height):\n",
    "        self.base = base\n",
    "        self.height = height\n",
    "        self.calculate_area()\n",
    "        \n",
    "    def calculate_area(self):\n",
    "        self.area = (1/2) * self.base * self.height\n",
    "        \n",
    "    def perimeter(self,side1,side2,side3):\n",
    "        self.perim = side1 + side2 + side3\n",
    "        return(self.perim)\n",
    "        \n",
    "        \n",
    "#objects of circle       \n",
    "circle = Circle(4)\n",
    "print(\"Circle - Area:\", circle.area)\n",
    "print(\"Circle - Perimeter:\",circle.perimeter)\n",
    "\n",
    "#object of square\n",
    "square = Square(2)\n",
    "print(\"Square - Area:\",square.area)\n",
    "print(\"Square - Perimeter:\",square.perimeter)\n",
    "\n",
    "#objects of Rectangle\n",
    "rect = Rectange(4,2)\n",
    "print(\"Rectangle - Area:\",rect.area)\n",
    "print(\"Rectangle - Perimeter:\",rect.perimeter)\n",
    "\n",
    "#objects of triangle\n",
    "triangle = Triangle(2,3)\n",
    "print(\"Triangle - Area:\",triangle.area)\n",
    "print(\"Triangle - Perimeter:\",triangle.perimeter(1,2,3))\n"
   ]
  },
  {
   "cell_type": "code",
   "execution_count": 36,
   "id": "a0634981",
   "metadata": {},
   "outputs": [],
   "source": [
    "# #match statement\n",
    "# from matchlib import match\n",
    "\n",
    "# day_input = int(input(\"Enter a number from 1 - 7 : \"))\n",
    "# day = None\n",
    "\n",
    "# match day_input:\n",
    "#     case 1: \n",
    "#         day = 'Sunday'\n",
    "#     case 2:\n",
    "#         day = 'Monday'\n",
    "#     case 3:\n",
    "#         day = 'Tuesday'\n",
    "#     case 4:\n",
    "#         day = 'Wednesday'\n",
    "#     case 5:\n",
    "#         day ='thursday'\n",
    "#     case 6:\n",
    "#         day = 'friday'\n",
    "#     case 7:\n",
    "#         day = 'saturday'\n",
    "    \n",
    "# if day is not None:\n",
    "#     print(\"the day is \",day)\n",
    "# else:\n",
    "#     print(\"invalid input\")"
   ]
  },
  {
   "cell_type": "markdown",
   "id": "10617dbc",
   "metadata": {},
   "source": [
    "# Day 4\n",
    "#implemet a simple banking system using inheritance (with function overriding),with classes such  as account, saving account and \n",
    "checking account"
   ]
  },
  {
   "cell_type": "code",
   "execution_count": 1,
   "id": "57bc7cbc",
   "metadata": {},
   "outputs": [
    {
     "name": "stdout",
     "output_type": "stream",
     "text": [
      "Account number  343 has balnce:  1000\n",
      "2000 has added , New balance is: 3000\n",
      "With 10 % New balance is: 3300.0\n",
      "1000 has been withdrawn from saving account, New balance is 2300.0\n",
      "------------------------------------------------------------------\n",
      "Account number  456 has balnce:  2000 and has overdraft limit: 2000\n",
      "4000 has been withdrawn from saving account, New balance is -2000\n",
      "Balance is in negative therefore you have to repay overdraft in time\n"
     ]
    }
   ],
   "source": [
    "class Account:\n",
    "    \n",
    "    def __init__(self,account_num,balance):\n",
    "        self.account_num = account_num\n",
    "        self.balance = balance \n",
    "        \n",
    "    def deposit(self,amount):\n",
    "        self.balance = self.balance + amount\n",
    "        print(amount,\"has added , New balance is:\",self.balance)\n",
    "    def withdraw(self,amount):\n",
    "        if amount <= self.balance:\n",
    "            self.balance = self.balance - amount\n",
    "            print(amount,\"has been withdrawn , New balance is\",self.balance)\n",
    "        else:\n",
    "            print(\"Insufficient balance\")\n",
    "            \n",
    "    def display_balance(self):\n",
    "        print(\"Account number \",self.account_num, \"has balnce: \",self.balance)\n",
    "            \n",
    "class Saving_Acc(Account):\n",
    "        \n",
    "    def balance_with_interest(self,interest_rate):\n",
    "        self.interest_rate = interest_rate\n",
    "        interest = self.balance * (self.interest_rate/100)\n",
    "        self.balance = self.balance + interest\n",
    "        print(\"With\",interest_rate,\"% New balance is:\",self.balance)\n",
    "        \n",
    "    def withdraw(self,amount):\n",
    "        if amount<= self.balance:\n",
    "            self.balance = self.balance - amount\n",
    "            print(amount,\"has been withdrawn from saving account, New balance is\",self.balance)\n",
    "        else:\n",
    "            print(\"Insufficient balance\")\n",
    "            \n",
    "class Checking_Acc(Account):\n",
    "    overdraft_limit = 2000\n",
    "    \n",
    "    def withdraw(self,amount):   # Method overriding\n",
    "        \n",
    "        if amount<= self.balance + self.overdraft_limit:\n",
    "            self.balance = self.balance - amount\n",
    "            print(amount,\"has been withdrawn from saving account, New balance is\",self.balance)\n",
    "            \n",
    "            if self.balance < 0:\n",
    "                print(\"Balance is in negative therefore you have to repay overdraft in time\")\n",
    "        else:\n",
    "            print(\"Insufficient balance\")\n",
    "    \n",
    "    def display_balance(self):\n",
    "        print(\"Account number \",self.account_num, \"has balnce: \",self.balance, \"and has overdraft limit:\",self.overdraft_limit)\n",
    "    \n",
    "        \n",
    "\n",
    "        \n",
    "account = Account(123,2000)\n",
    "\n",
    "#objects for saving account\n",
    "\n",
    "saving_acc = Saving_Acc(343,1000)\n",
    "saving_acc.display_balance()\n",
    "saving_acc.deposit(2000)\n",
    "saving_acc.balance_with_interest(10)\n",
    "saving_acc.withdraw(1000)\n",
    "\n",
    "print(\"------------------------------------------------------------------\")\n",
    "\n",
    "#object for checking account \n",
    "checking_acc = Checking_Acc(456,2000)\n",
    "checking_acc.display_balance()\n",
    "checking_acc.withdraw(4000)\n",
    "\n",
    "\n"
   ]
  },
  {
   "cell_type": "markdown",
   "id": "04717559",
   "metadata": {},
   "source": [
    "## Day - 6 assignment"
   ]
  },
  {
   "cell_type": "code",
   "execution_count": 5,
   "id": "34156b32",
   "metadata": {},
   "outputs": [
    {
     "name": "stdout",
     "output_type": "stream",
     "text": [
      "[1, 6, 12, 13, 15, 19, 20, 22]\n",
      "second largest number is 20\n"
     ]
    }
   ],
   "source": [
    "#make a list and find it's second largest number\n",
    "\n",
    "\n",
    "def second_largest():\n",
    "    num_list = [12,13,15,1,6,20,19,22]\n",
    "    num_list.sort()\n",
    "    print(num_list)\n",
    "    print(f'second largest number is {num_list[-2]}')\n",
    "    \n",
    "    \n",
    "\n",
    "\n",
    "second_largest()"
   ]
  },
  {
   "cell_type": "code",
   "execution_count": 16,
   "id": "b49eb282",
   "metadata": {},
   "outputs": [
    {
     "name": "stdout",
     "output_type": "stream",
     "text": [
      "name: Alis \n",
      "\n",
      "roll_num: 123 \n",
      "\n",
      "Marks: [41, 44, 57, 78] \n",
      "\n",
      "----updated---\n",
      "\n",
      "name: Alis \n",
      "\n",
      "roll_num: 123 \n",
      "\n",
      "Marks: [76, 79, 77, 78] \n",
      "\n",
      "only marks - [76, 79, 77, 78]\n"
     ]
    }
   ],
   "source": [
    "#WAP using encapsulation\n",
    "\n",
    "class Student:\n",
    "    \n",
    "    def __init__(self,name,roll_num,marks):\n",
    "        self.name = name \n",
    "        self.roll_num = roll_num \n",
    "        self.__marks = marks \n",
    "    \n",
    "    def set_new_marks(self,new_marks):\n",
    "        self.__marks = new_marks\n",
    "        \n",
    "    def display(self):\n",
    "        print(\"name:\",self.name,'\\n')\n",
    "        print(\"roll_num:\",self.roll_num,'\\n')\n",
    "        print(\"Marks:\",self.__marks,'\\n')\n",
    "        \n",
    "\n",
    "student1 = Student('Alis',123,[41,44,57,78])\n",
    "student1.display()\n",
    "\n",
    "print(\"----updated---\\n\")\n",
    "\n",
    "student1.set_new_marks([76,79,77,78])\n",
    "student1.display()\n",
    "\n",
    "only_marks = student1._Student__marks\n",
    "print(\"only marks -\",only_marks)\n",
    "       \n",
    "    \n",
    "    \n",
    "    "
   ]
  },
  {
   "cell_type": "code",
   "execution_count": null,
   "id": "3ae3e355",
   "metadata": {},
   "outputs": [],
   "source": []
  }
 ],
 "metadata": {
  "kernelspec": {
   "display_name": "Python 3 (ipykernel)",
   "language": "python",
   "name": "python3"
  },
  "language_info": {
   "codemirror_mode": {
    "name": "ipython",
    "version": 3
   },
   "file_extension": ".py",
   "mimetype": "text/x-python",
   "name": "python",
   "nbconvert_exporter": "python",
   "pygments_lexer": "ipython3",
   "version": "3.9.13"
  }
 },
 "nbformat": 4,
 "nbformat_minor": 5
}
