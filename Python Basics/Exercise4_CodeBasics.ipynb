{
 "cells": [
  {
   "cell_type": "markdown",
   "id": "2948371b",
   "metadata": {},
   "source": [
    "# Functions\n",
    "    1. Write a function called calculate_area that takes base and height as an input and returns and area of a triangle. Equation of an area of a triangle is,\n",
    "    area = (1/2)*base*height"
   ]
  },
  {
   "cell_type": "code",
   "execution_count": 1,
   "id": "2089a3de",
   "metadata": {},
   "outputs": [
    {
     "name": "stdout",
     "output_type": "stream",
     "text": [
      "Enter the base of Triangle: 2\n",
      "Enter the height of Triangle: 4\n",
      "Area of Triangle is 4.0\n"
     ]
    }
   ],
   "source": [
    "def calculate_area(base,height):\n",
    "    \n",
    "    area = (1/2)*base*height\n",
    "    return area\n",
    "base = int(input(\"Enter the base of Triangle: \"))\n",
    "height = int(input(\"Enter the height of Triangle: \"))\n",
    "display = calculate_area(base,height)\n",
    "print(f'Area of Triangle is {display}')\n",
    "    "
   ]
  },
  {
   "cell_type": "markdown",
   "id": "450477b7",
   "metadata": {},
   "source": [
    "    Modify above function to take third parameter shape type. It can be either \"triangle\" or \"rectangle\". Based on shape type it will calculate area. Equation of rectangle's area is,\n",
    "    rectangle area=length*width"
   ]
  },
  {
   "cell_type": "code",
   "execution_count": 8,
   "id": "4dc1c9e3",
   "metadata": {},
   "outputs": [
    {
     "name": "stdout",
     "output_type": "stream",
     "text": [
      "Enter the dimension one:3\n",
      "Enter the  dimension two: 3\n",
      "Area of Triangle is 4.5\n",
      "Area of rectangle is 9\n"
     ]
    }
   ],
   "source": [
    "def calculate_area(dim1,dim2,shape):\n",
    "    \n",
    "    if shape == 'triangle':\n",
    "        area = (1/2)*dim1*dim2\n",
    "        return area\n",
    "    elif shape == 'rectangle':\n",
    "        area = dim1 * dim2\n",
    "        return area\n",
    "    else:\n",
    "        print(\"choose the shape appropriately\")\n",
    "        \n",
    "dim1 = int(input(\"Enter the dimension one:\"))\n",
    "dim2 = int(input(\"Enter the  dimension two: \"))\n",
    "display_traingle = calculate_area(dim1,dim2,'triangle')\n",
    "print(f'Area of Triangle is {display_traingle}')\n",
    "\n",
    "display_retangle = calculate_area(dim1,dim2,'rectangle')\n",
    "print(f'Area of rectangle is {display_retangle}')\n",
    "    "
   ]
  },
  {
   "cell_type": "markdown",
   "id": "bc7b4412",
   "metadata": {},
   "source": [
    "    Write a function called print_pattern that takes integer number as an argument and prints following pattern if input number is 3,\n",
    "    *\n",
    "    **\n",
    "    ***\n"
   ]
  },
  {
   "cell_type": "code",
   "execution_count": 22,
   "id": "891aed76",
   "metadata": {},
   "outputs": [
    {
     "name": "stdout",
     "output_type": "stream",
     "text": [
      "Enter the number: 3\n",
      "*\n",
      "**\n",
      "***\n"
     ]
    }
   ],
   "source": [
    "def print_pattern(num=5):\n",
    "    \n",
    "    for i in range(1,num+1):\n",
    "        pattern = '*'* i\n",
    "        print(pattern)\n",
    "        \n",
    "input1 = int(input(\"Enter the number: \"))  \n",
    "print_pattern(input1)\n",
    "# print_pattern()\n",
    "\n"
   ]
  },
  {
   "cell_type": "markdown",
   "id": "f9f06ecd",
   "metadata": {},
   "source": [
    "# Dictionary & Tuples\n",
    "\n",
    "    We have following information on countries and their population (population is in crores),\n",
    "\n",
    "    Country\tPopulation\n",
    "    China\t143\n",
    "    India\t136\n",
    "    USA\t32\n",
    "    Pakistan\t21\n",
    "    Using above create a dictionary of countries and its population\n",
    "    Write a program that asks user for three type of inputs,\n",
    "    print: if user enter print then it should print all countries with their population in this format,\n",
    "    china==>143\n",
    "    india==>136\n",
    "    usa==>32\n",
    "    pakistan==>21\n",
    "    add: if user input add then it should further ask for a country name to add. If country already exist in our dataset then it should print that it exist and do nothing. If it doesn't then it asks for population and add that new country/population in our dictionary and print it\n",
    "    remove: when user inputs remove it should ask for a country to remove. If country exist in our dictionary then remove it and print new dictionary using format shown above in (a). Else print that country doesn't exist!\n",
    "    query: on this again ask user for which country he or she wants to query. When user inputs that country it will print population of that country."
   ]
  },
  {
   "cell_type": "code",
   "execution_count": 2,
   "id": "c68ec95d",
   "metadata": {},
   "outputs": [
    {
     "name": "stdout",
     "output_type": "stream",
     "text": [
      "china==>143\n",
      "india==>136\n",
      "usa==>32\n",
      "pakistan==>21\n"
     ]
    }
   ],
   "source": [
    "# Given dictionary\n",
    "country_population = {\n",
    "    'china': 143,\n",
    "    'india': 136,\n",
    "    'usa': 32,\n",
    "    'pakistan': 21\n",
    "}\n",
    "def display():\n",
    "    \n",
    "    for key , value in country_population.items():\n",
    "        print(f'{key}==>{value}')\n",
    "    \n",
    "display()"
   ]
  },
  {
   "cell_type": "code",
   "execution_count": 6,
   "id": "6b02a72a",
   "metadata": {},
   "outputs": [
    {
     "name": "stdout",
     "output_type": "stream",
     "text": [
      "Enter the counrty you want to add: nepal\n",
      "Enter the population of country: 123\n",
      "china==>143\n",
      "india==>136\n",
      "usa==>32\n",
      "pakistan==>21\n",
      "nepal==>123\n"
     ]
    }
   ],
   "source": [
    "def add():\n",
    "    \n",
    "    country = input(\"Enter the counrty you want to add: \")\n",
    "    \n",
    "    if country in country_population:\n",
    "        print(\"Country already exists\")\n",
    "        \n",
    "    else:\n",
    "        population = int(input(\"Enter the population of country: \"))\n",
    "        country_population[country] = population\n",
    "        \n",
    "add()\n",
    "\n",
    "\n"
   ]
  },
  {
   "cell_type": "code",
   "execution_count": 12,
   "id": "ad7624ef",
   "metadata": {},
   "outputs": [
    {
     "name": "stdout",
     "output_type": "stream",
     "text": [
      "Enter the counrty you want to remove: nepal\n",
      "Deleted \n",
      "china==>143\n",
      "india==>136\n",
      "usa==>32\n",
      "pakistan==>21\n"
     ]
    }
   ],
   "source": [
    "def remove():\n",
    "    \n",
    "    country = input(\"Enter the counrty you want to remove: \")\n",
    "    if country in country_population:\n",
    "        del country_population[country]\n",
    "        print(\"Deleted \")\n",
    "        display()\n",
    "        \n",
    "    else:\n",
    "        print(\"Country doesnot exist\")\n",
    "\n",
    "remove()\n",
    "        \n",
    "        "
   ]
  },
  {
   "cell_type": "code",
   "execution_count": 17,
   "id": "6d5e61b3",
   "metadata": {},
   "outputs": [
    {
     "name": "stdout",
     "output_type": "stream",
     "text": [
      "Enter the country you want query: china\n",
      "country china :143\n"
     ]
    }
   ],
   "source": [
    "def querY():\n",
    "    country = input(\"Enter the country you want query: \")\n",
    "    \n",
    "    if country not in country_population:\n",
    "        print(\"Country doesnot exist\")\n",
    "    else:\n",
    "        print(f'country {country} :{country_population[country]}')\n",
    "querY()"
   ]
  },
  {
   "cell_type": "markdown",
   "id": "032557bb",
   "metadata": {},
   "source": [
    "    You are given following list of stocks and their prices in last 3 days,\n",
    "\n",
    "    Stock\tPrices\n",
    "    info\t[600,630,620]\n",
    "    ril\t[1430,1490,1567]\n",
    "    mtl\t[234,180,160]\n",
    "    Write a program that asks user for operation. Value of operations could be,\n",
    "    print: When user enters print it should print following,\n",
    "    info ==> [600, 630, 620] ==> avg:  616.67\n",
    "    ril ==> [1430, 1490, 1567] ==> avg:  1495.67\n",
    "    mtl ==> [234, 180, 160] ==> avg:  191.33\n",
    "    add: When user enters 'add', it asks for stock ticker and price. If stock already exist in your list (like info, ril etc) then it will append the price to the list. Otherwise it will create new entry in your dictionary. For example entering 'tata' and 560 will add tata ==> [560] to the dictionary of stocks."
   ]
  },
  {
   "cell_type": "markdown",
   "id": "cec68d2f",
   "metadata": {},
   "source": [
    "    You are given following list of stocks and their prices in last 3 days,\n",
    "\n",
    "    Stock\tPrices\n",
    "    info\t[600,630,620]\n",
    "    ril\t[1430,1490,1567]\n",
    "    mtl\t[234,180,160]\n",
    "    Write a program that asks user for operation. Value of operations could be,\n",
    "    print: When user enters print it should print following,\n",
    "    info ==> [600, 630, 620] ==> avg:  616.67\n",
    "    ril ==> [1430, 1490, 1567] ==> avg:  1495.67\n",
    "    mtl ==> [234, 180, 160] ==> avg:  191.33\n",
    "    add: When user enters 'add', it asks for stock ticker and price. If stock already exist in your list (like info, ril etc) then it will append the price to the list. Otherwise it will create new entry in your dictionary. For example entering 'tata' and 560 will add tata ==> [560] to the dictionary of stocks."
   ]
  },
  {
   "cell_type": "code",
   "execution_count": 9,
   "id": "5e338eae",
   "metadata": {},
   "outputs": [
    {
     "name": "stdout",
     "output_type": "stream",
     "text": [
      "info ==> [600, 630, 620] ==> 616.6666666666666\n",
      "ril ==> [1430, 1490, 1567] ==> 1495.6666666666667\n",
      "mtl ==> [234, 180, 160] ==> 191.33333333333334\n"
     ]
    }
   ],
   "source": [
    "stock = {\n",
    "    'info':[600,630,620],\n",
    "    'ril':[1430,1490,1567],\n",
    "    'mtl':[234,180,160]\n",
    "}\n",
    "\n",
    "def display():\n",
    "    \n",
    "    for key,value in stock.items():\n",
    "        average = sum(value)/len(value)\n",
    "        print(f'{key} ==> {value} ==> {average}')\n",
    "        \n",
    "display()"
   ]
  },
  {
   "cell_type": "code",
   "execution_count": 16,
   "id": "8e2e68b0",
   "metadata": {},
   "outputs": [
    {
     "name": "stdout",
     "output_type": "stream",
     "text": [
      "Enter the name of the stock: mrl\n",
      "Enter the price: 100\n"
     ]
    }
   ],
   "source": [
    "def add():\n",
    "    stockn = input(\"Enter the name of the stock: \")\n",
    "    price = int(input(\"Enter the price: \"))\n",
    "    \n",
    "    if stockn in stock:\n",
    "        print(\"stock name exist\")\n",
    "        stock[stockn].append(price)\n",
    "    else:\n",
    "        stock[stockn] = [price]\n",
    "add()\n",
    "        \n"
   ]
  },
  {
   "cell_type": "code",
   "execution_count": 17,
   "id": "2a8a757d",
   "metadata": {},
   "outputs": [
    {
     "name": "stdout",
     "output_type": "stream",
     "text": [
      "info ==> [600, 630, 620, 600] ==> 612.5\n",
      "ril ==> [1430, 1490, 1567] ==> 1495.6666666666667\n",
      "mtl ==> [234, 180, 160] ==> 191.33333333333334\n",
      "mrl ==> [100] ==> 100.0\n"
     ]
    }
   ],
   "source": [
    "display()"
   ]
  },
  {
   "cell_type": "markdown",
   "id": "819d348a",
   "metadata": {},
   "source": [
    "    Write circle_calc() function that takes radius of a circle as an input from user and then it calculates and returns area, \n",
    "    circumference and diameter. You should get these values in your main program by calling circle_calc function and then print them"
   ]
  },
  {
   "cell_type": "code",
   "execution_count": 20,
   "id": "9517d56b",
   "metadata": {},
   "outputs": [
    {
     "name": "stdout",
     "output_type": "stream",
     "text": [
      "Enter the radius: 2\n",
      "circle  12.56,4,12.56\n"
     ]
    }
   ],
   "source": [
    "def circle_calc(radius):\n",
    "    PI = 3.14\n",
    "    \n",
    "    area = PI * (radius)**2\n",
    "    diameter = 2 * radius\n",
    "    circumference = 2 * PI * radius\n",
    "    print(f'circle  {area},{diameter},{circumference}')\n",
    "    \n",
    "radius = int(input(\"Enter the radius: \"))\n",
    "circle_calc(radius)\n",
    "\n",
    "    "
   ]
  },
  {
   "cell_type": "code",
   "execution_count": null,
   "id": "02a7776f",
   "metadata": {},
   "outputs": [],
   "source": []
  }
 ],
 "metadata": {
  "kernelspec": {
   "display_name": "Python 3 (ipykernel)",
   "language": "python",
   "name": "python3"
  },
  "language_info": {
   "codemirror_mode": {
    "name": "ipython",
    "version": 3
   },
   "file_extension": ".py",
   "mimetype": "text/x-python",
   "name": "python",
   "nbconvert_exporter": "python",
   "pygments_lexer": "ipython3",
   "version": "3.9.13"
  }
 },
 "nbformat": 4,
 "nbformat_minor": 5
}
