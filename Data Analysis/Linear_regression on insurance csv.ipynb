{
 "cells": [
  {
   "cell_type": "code",
   "execution_count": 1,
   "id": "f644ebe7",
   "metadata": {},
   "outputs": [],
   "source": [
    "import pandas as pd\n",
    "import matplotlib.pyplot as plt\n",
    "import seaborn as sns"
   ]
  },
  {
   "cell_type": "code",
   "execution_count": 2,
   "id": "c1c97115",
   "metadata": {},
   "outputs": [],
   "source": [
    "df = pd.read_csv('insurance.csv')"
   ]
  },
  {
   "cell_type": "code",
   "execution_count": 3,
   "id": "7da6ea5e",
   "metadata": {},
   "outputs": [
    {
     "data": {
      "text/html": [
       "<div>\n",
       "<style scoped>\n",
       "    .dataframe tbody tr th:only-of-type {\n",
       "        vertical-align: middle;\n",
       "    }\n",
       "\n",
       "    .dataframe tbody tr th {\n",
       "        vertical-align: top;\n",
       "    }\n",
       "\n",
       "    .dataframe thead th {\n",
       "        text-align: right;\n",
       "    }\n",
       "</style>\n",
       "<table border=\"1\" class=\"dataframe\">\n",
       "  <thead>\n",
       "    <tr style=\"text-align: right;\">\n",
       "      <th></th>\n",
       "      <th>age</th>\n",
       "      <th>sex</th>\n",
       "      <th>bmi</th>\n",
       "      <th>children</th>\n",
       "      <th>smoker</th>\n",
       "      <th>region</th>\n",
       "      <th>charges</th>\n",
       "    </tr>\n",
       "  </thead>\n",
       "  <tbody>\n",
       "    <tr>\n",
       "      <th>0</th>\n",
       "      <td>19</td>\n",
       "      <td>female</td>\n",
       "      <td>27.900</td>\n",
       "      <td>0</td>\n",
       "      <td>yes</td>\n",
       "      <td>southwest</td>\n",
       "      <td>16884.92400</td>\n",
       "    </tr>\n",
       "    <tr>\n",
       "      <th>1</th>\n",
       "      <td>18</td>\n",
       "      <td>male</td>\n",
       "      <td>33.770</td>\n",
       "      <td>1</td>\n",
       "      <td>no</td>\n",
       "      <td>southeast</td>\n",
       "      <td>1725.55230</td>\n",
       "    </tr>\n",
       "    <tr>\n",
       "      <th>2</th>\n",
       "      <td>28</td>\n",
       "      <td>male</td>\n",
       "      <td>33.000</td>\n",
       "      <td>3</td>\n",
       "      <td>no</td>\n",
       "      <td>southeast</td>\n",
       "      <td>4449.46200</td>\n",
       "    </tr>\n",
       "    <tr>\n",
       "      <th>3</th>\n",
       "      <td>33</td>\n",
       "      <td>male</td>\n",
       "      <td>22.705</td>\n",
       "      <td>0</td>\n",
       "      <td>no</td>\n",
       "      <td>northwest</td>\n",
       "      <td>21984.47061</td>\n",
       "    </tr>\n",
       "    <tr>\n",
       "      <th>4</th>\n",
       "      <td>32</td>\n",
       "      <td>male</td>\n",
       "      <td>28.880</td>\n",
       "      <td>0</td>\n",
       "      <td>no</td>\n",
       "      <td>northwest</td>\n",
       "      <td>3866.85520</td>\n",
       "    </tr>\n",
       "    <tr>\n",
       "      <th>...</th>\n",
       "      <td>...</td>\n",
       "      <td>...</td>\n",
       "      <td>...</td>\n",
       "      <td>...</td>\n",
       "      <td>...</td>\n",
       "      <td>...</td>\n",
       "      <td>...</td>\n",
       "    </tr>\n",
       "    <tr>\n",
       "      <th>1333</th>\n",
       "      <td>50</td>\n",
       "      <td>male</td>\n",
       "      <td>30.970</td>\n",
       "      <td>3</td>\n",
       "      <td>no</td>\n",
       "      <td>northwest</td>\n",
       "      <td>10600.54830</td>\n",
       "    </tr>\n",
       "    <tr>\n",
       "      <th>1334</th>\n",
       "      <td>18</td>\n",
       "      <td>female</td>\n",
       "      <td>31.920</td>\n",
       "      <td>0</td>\n",
       "      <td>no</td>\n",
       "      <td>northeast</td>\n",
       "      <td>2205.98080</td>\n",
       "    </tr>\n",
       "    <tr>\n",
       "      <th>1335</th>\n",
       "      <td>18</td>\n",
       "      <td>female</td>\n",
       "      <td>36.850</td>\n",
       "      <td>0</td>\n",
       "      <td>no</td>\n",
       "      <td>southeast</td>\n",
       "      <td>1629.83350</td>\n",
       "    </tr>\n",
       "    <tr>\n",
       "      <th>1336</th>\n",
       "      <td>21</td>\n",
       "      <td>female</td>\n",
       "      <td>25.800</td>\n",
       "      <td>0</td>\n",
       "      <td>no</td>\n",
       "      <td>southwest</td>\n",
       "      <td>2007.94500</td>\n",
       "    </tr>\n",
       "    <tr>\n",
       "      <th>1337</th>\n",
       "      <td>61</td>\n",
       "      <td>female</td>\n",
       "      <td>29.070</td>\n",
       "      <td>0</td>\n",
       "      <td>yes</td>\n",
       "      <td>northwest</td>\n",
       "      <td>29141.36030</td>\n",
       "    </tr>\n",
       "  </tbody>\n",
       "</table>\n",
       "<p>1338 rows × 7 columns</p>\n",
       "</div>"
      ],
      "text/plain": [
       "      age     sex     bmi  children smoker     region      charges\n",
       "0      19  female  27.900         0    yes  southwest  16884.92400\n",
       "1      18    male  33.770         1     no  southeast   1725.55230\n",
       "2      28    male  33.000         3     no  southeast   4449.46200\n",
       "3      33    male  22.705         0     no  northwest  21984.47061\n",
       "4      32    male  28.880         0     no  northwest   3866.85520\n",
       "...   ...     ...     ...       ...    ...        ...          ...\n",
       "1333   50    male  30.970         3     no  northwest  10600.54830\n",
       "1334   18  female  31.920         0     no  northeast   2205.98080\n",
       "1335   18  female  36.850         0     no  southeast   1629.83350\n",
       "1336   21  female  25.800         0     no  southwest   2007.94500\n",
       "1337   61  female  29.070         0    yes  northwest  29141.36030\n",
       "\n",
       "[1338 rows x 7 columns]"
      ]
     },
     "execution_count": 3,
     "metadata": {},
     "output_type": "execute_result"
    }
   ],
   "source": [
    "df"
   ]
  },
  {
   "cell_type": "code",
   "execution_count": 4,
   "id": "ca7c68ab",
   "metadata": {},
   "outputs": [
    {
     "data": {
      "text/html": [
       "<div>\n",
       "<style scoped>\n",
       "    .dataframe tbody tr th:only-of-type {\n",
       "        vertical-align: middle;\n",
       "    }\n",
       "\n",
       "    .dataframe tbody tr th {\n",
       "        vertical-align: top;\n",
       "    }\n",
       "\n",
       "    .dataframe thead th {\n",
       "        text-align: right;\n",
       "    }\n",
       "</style>\n",
       "<table border=\"1\" class=\"dataframe\">\n",
       "  <thead>\n",
       "    <tr style=\"text-align: right;\">\n",
       "      <th></th>\n",
       "      <th>age</th>\n",
       "      <th>sex</th>\n",
       "      <th>bmi</th>\n",
       "      <th>children</th>\n",
       "      <th>smoker</th>\n",
       "      <th>region</th>\n",
       "      <th>charges</th>\n",
       "    </tr>\n",
       "  </thead>\n",
       "  <tbody>\n",
       "    <tr>\n",
       "      <th>0</th>\n",
       "      <td>19</td>\n",
       "      <td>female</td>\n",
       "      <td>27.900</td>\n",
       "      <td>0</td>\n",
       "      <td>yes</td>\n",
       "      <td>southwest</td>\n",
       "      <td>16884.92400</td>\n",
       "    </tr>\n",
       "    <tr>\n",
       "      <th>1</th>\n",
       "      <td>18</td>\n",
       "      <td>male</td>\n",
       "      <td>33.770</td>\n",
       "      <td>1</td>\n",
       "      <td>no</td>\n",
       "      <td>southeast</td>\n",
       "      <td>1725.55230</td>\n",
       "    </tr>\n",
       "    <tr>\n",
       "      <th>2</th>\n",
       "      <td>28</td>\n",
       "      <td>male</td>\n",
       "      <td>33.000</td>\n",
       "      <td>3</td>\n",
       "      <td>no</td>\n",
       "      <td>southeast</td>\n",
       "      <td>4449.46200</td>\n",
       "    </tr>\n",
       "    <tr>\n",
       "      <th>3</th>\n",
       "      <td>33</td>\n",
       "      <td>male</td>\n",
       "      <td>22.705</td>\n",
       "      <td>0</td>\n",
       "      <td>no</td>\n",
       "      <td>northwest</td>\n",
       "      <td>21984.47061</td>\n",
       "    </tr>\n",
       "    <tr>\n",
       "      <th>4</th>\n",
       "      <td>32</td>\n",
       "      <td>male</td>\n",
       "      <td>28.880</td>\n",
       "      <td>0</td>\n",
       "      <td>no</td>\n",
       "      <td>northwest</td>\n",
       "      <td>3866.85520</td>\n",
       "    </tr>\n",
       "  </tbody>\n",
       "</table>\n",
       "</div>"
      ],
      "text/plain": [
       "   age     sex     bmi  children smoker     region      charges\n",
       "0   19  female  27.900         0    yes  southwest  16884.92400\n",
       "1   18    male  33.770         1     no  southeast   1725.55230\n",
       "2   28    male  33.000         3     no  southeast   4449.46200\n",
       "3   33    male  22.705         0     no  northwest  21984.47061\n",
       "4   32    male  28.880         0     no  northwest   3866.85520"
      ]
     },
     "execution_count": 4,
     "metadata": {},
     "output_type": "execute_result"
    }
   ],
   "source": [
    "df.head()"
   ]
  },
  {
   "cell_type": "code",
   "execution_count": 5,
   "id": "c900a571",
   "metadata": {},
   "outputs": [
    {
     "data": {
      "text/html": [
       "<div>\n",
       "<style scoped>\n",
       "    .dataframe tbody tr th:only-of-type {\n",
       "        vertical-align: middle;\n",
       "    }\n",
       "\n",
       "    .dataframe tbody tr th {\n",
       "        vertical-align: top;\n",
       "    }\n",
       "\n",
       "    .dataframe thead th {\n",
       "        text-align: right;\n",
       "    }\n",
       "</style>\n",
       "<table border=\"1\" class=\"dataframe\">\n",
       "  <thead>\n",
       "    <tr style=\"text-align: right;\">\n",
       "      <th></th>\n",
       "      <th>age</th>\n",
       "      <th>sex</th>\n",
       "      <th>bmi</th>\n",
       "      <th>children</th>\n",
       "      <th>smoker</th>\n",
       "      <th>region</th>\n",
       "      <th>charges</th>\n",
       "    </tr>\n",
       "  </thead>\n",
       "  <tbody>\n",
       "    <tr>\n",
       "      <th>1333</th>\n",
       "      <td>50</td>\n",
       "      <td>male</td>\n",
       "      <td>30.97</td>\n",
       "      <td>3</td>\n",
       "      <td>no</td>\n",
       "      <td>northwest</td>\n",
       "      <td>10600.5483</td>\n",
       "    </tr>\n",
       "    <tr>\n",
       "      <th>1334</th>\n",
       "      <td>18</td>\n",
       "      <td>female</td>\n",
       "      <td>31.92</td>\n",
       "      <td>0</td>\n",
       "      <td>no</td>\n",
       "      <td>northeast</td>\n",
       "      <td>2205.9808</td>\n",
       "    </tr>\n",
       "    <tr>\n",
       "      <th>1335</th>\n",
       "      <td>18</td>\n",
       "      <td>female</td>\n",
       "      <td>36.85</td>\n",
       "      <td>0</td>\n",
       "      <td>no</td>\n",
       "      <td>southeast</td>\n",
       "      <td>1629.8335</td>\n",
       "    </tr>\n",
       "    <tr>\n",
       "      <th>1336</th>\n",
       "      <td>21</td>\n",
       "      <td>female</td>\n",
       "      <td>25.80</td>\n",
       "      <td>0</td>\n",
       "      <td>no</td>\n",
       "      <td>southwest</td>\n",
       "      <td>2007.9450</td>\n",
       "    </tr>\n",
       "    <tr>\n",
       "      <th>1337</th>\n",
       "      <td>61</td>\n",
       "      <td>female</td>\n",
       "      <td>29.07</td>\n",
       "      <td>0</td>\n",
       "      <td>yes</td>\n",
       "      <td>northwest</td>\n",
       "      <td>29141.3603</td>\n",
       "    </tr>\n",
       "  </tbody>\n",
       "</table>\n",
       "</div>"
      ],
      "text/plain": [
       "      age     sex    bmi  children smoker     region     charges\n",
       "1333   50    male  30.97         3     no  northwest  10600.5483\n",
       "1334   18  female  31.92         0     no  northeast   2205.9808\n",
       "1335   18  female  36.85         0     no  southeast   1629.8335\n",
       "1336   21  female  25.80         0     no  southwest   2007.9450\n",
       "1337   61  female  29.07         0    yes  northwest  29141.3603"
      ]
     },
     "execution_count": 5,
     "metadata": {},
     "output_type": "execute_result"
    }
   ],
   "source": [
    "df.tail()"
   ]
  },
  {
   "cell_type": "code",
   "execution_count": 6,
   "id": "f04f42c4",
   "metadata": {},
   "outputs": [
    {
     "name": "stdout",
     "output_type": "stream",
     "text": [
      "rows 1338\n",
      "columns 7\n"
     ]
    }
   ],
   "source": [
    "print('rows',df.shape[0])\n",
    "print('columns',df.shape[1])"
   ]
  },
  {
   "cell_type": "code",
   "execution_count": 7,
   "id": "a2f0c39d",
   "metadata": {},
   "outputs": [
    {
     "name": "stdout",
     "output_type": "stream",
     "text": [
      "<class 'pandas.core.frame.DataFrame'>\n",
      "RangeIndex: 1338 entries, 0 to 1337\n",
      "Data columns (total 7 columns):\n",
      " #   Column    Non-Null Count  Dtype  \n",
      "---  ------    --------------  -----  \n",
      " 0   age       1338 non-null   int64  \n",
      " 1   sex       1338 non-null   object \n",
      " 2   bmi       1338 non-null   float64\n",
      " 3   children  1338 non-null   int64  \n",
      " 4   smoker    1338 non-null   object \n",
      " 5   region    1338 non-null   object \n",
      " 6   charges   1338 non-null   float64\n",
      "dtypes: float64(2), int64(2), object(3)\n",
      "memory usage: 73.3+ KB\n"
     ]
    }
   ],
   "source": [
    "df.info()"
   ]
  },
  {
   "cell_type": "code",
   "execution_count": 8,
   "id": "0e101c16",
   "metadata": {},
   "outputs": [
    {
     "data": {
      "text/html": [
       "<div>\n",
       "<style scoped>\n",
       "    .dataframe tbody tr th:only-of-type {\n",
       "        vertical-align: middle;\n",
       "    }\n",
       "\n",
       "    .dataframe tbody tr th {\n",
       "        vertical-align: top;\n",
       "    }\n",
       "\n",
       "    .dataframe thead th {\n",
       "        text-align: right;\n",
       "    }\n",
       "</style>\n",
       "<table border=\"1\" class=\"dataframe\">\n",
       "  <thead>\n",
       "    <tr style=\"text-align: right;\">\n",
       "      <th></th>\n",
       "      <th>age</th>\n",
       "      <th>sex</th>\n",
       "      <th>bmi</th>\n",
       "      <th>children</th>\n",
       "      <th>smoker</th>\n",
       "      <th>region</th>\n",
       "      <th>charges</th>\n",
       "    </tr>\n",
       "  </thead>\n",
       "  <tbody>\n",
       "    <tr>\n",
       "      <th>count</th>\n",
       "      <td>1338.000000</td>\n",
       "      <td>1338</td>\n",
       "      <td>1338.000000</td>\n",
       "      <td>1338.000000</td>\n",
       "      <td>1338</td>\n",
       "      <td>1338</td>\n",
       "      <td>1338.000000</td>\n",
       "    </tr>\n",
       "    <tr>\n",
       "      <th>unique</th>\n",
       "      <td>NaN</td>\n",
       "      <td>2</td>\n",
       "      <td>NaN</td>\n",
       "      <td>NaN</td>\n",
       "      <td>2</td>\n",
       "      <td>4</td>\n",
       "      <td>NaN</td>\n",
       "    </tr>\n",
       "    <tr>\n",
       "      <th>top</th>\n",
       "      <td>NaN</td>\n",
       "      <td>male</td>\n",
       "      <td>NaN</td>\n",
       "      <td>NaN</td>\n",
       "      <td>no</td>\n",
       "      <td>southeast</td>\n",
       "      <td>NaN</td>\n",
       "    </tr>\n",
       "    <tr>\n",
       "      <th>freq</th>\n",
       "      <td>NaN</td>\n",
       "      <td>676</td>\n",
       "      <td>NaN</td>\n",
       "      <td>NaN</td>\n",
       "      <td>1064</td>\n",
       "      <td>364</td>\n",
       "      <td>NaN</td>\n",
       "    </tr>\n",
       "    <tr>\n",
       "      <th>mean</th>\n",
       "      <td>39.207025</td>\n",
       "      <td>NaN</td>\n",
       "      <td>30.663397</td>\n",
       "      <td>1.094918</td>\n",
       "      <td>NaN</td>\n",
       "      <td>NaN</td>\n",
       "      <td>13270.422265</td>\n",
       "    </tr>\n",
       "    <tr>\n",
       "      <th>std</th>\n",
       "      <td>14.049960</td>\n",
       "      <td>NaN</td>\n",
       "      <td>6.098187</td>\n",
       "      <td>1.205493</td>\n",
       "      <td>NaN</td>\n",
       "      <td>NaN</td>\n",
       "      <td>12110.011237</td>\n",
       "    </tr>\n",
       "    <tr>\n",
       "      <th>min</th>\n",
       "      <td>18.000000</td>\n",
       "      <td>NaN</td>\n",
       "      <td>15.960000</td>\n",
       "      <td>0.000000</td>\n",
       "      <td>NaN</td>\n",
       "      <td>NaN</td>\n",
       "      <td>1121.873900</td>\n",
       "    </tr>\n",
       "    <tr>\n",
       "      <th>25%</th>\n",
       "      <td>27.000000</td>\n",
       "      <td>NaN</td>\n",
       "      <td>26.296250</td>\n",
       "      <td>0.000000</td>\n",
       "      <td>NaN</td>\n",
       "      <td>NaN</td>\n",
       "      <td>4740.287150</td>\n",
       "    </tr>\n",
       "    <tr>\n",
       "      <th>50%</th>\n",
       "      <td>39.000000</td>\n",
       "      <td>NaN</td>\n",
       "      <td>30.400000</td>\n",
       "      <td>1.000000</td>\n",
       "      <td>NaN</td>\n",
       "      <td>NaN</td>\n",
       "      <td>9382.033000</td>\n",
       "    </tr>\n",
       "    <tr>\n",
       "      <th>75%</th>\n",
       "      <td>51.000000</td>\n",
       "      <td>NaN</td>\n",
       "      <td>34.693750</td>\n",
       "      <td>2.000000</td>\n",
       "      <td>NaN</td>\n",
       "      <td>NaN</td>\n",
       "      <td>16639.912515</td>\n",
       "    </tr>\n",
       "    <tr>\n",
       "      <th>max</th>\n",
       "      <td>64.000000</td>\n",
       "      <td>NaN</td>\n",
       "      <td>53.130000</td>\n",
       "      <td>5.000000</td>\n",
       "      <td>NaN</td>\n",
       "      <td>NaN</td>\n",
       "      <td>63770.428010</td>\n",
       "    </tr>\n",
       "  </tbody>\n",
       "</table>\n",
       "</div>"
      ],
      "text/plain": [
       "                age   sex          bmi     children smoker     region  \\\n",
       "count   1338.000000  1338  1338.000000  1338.000000   1338       1338   \n",
       "unique          NaN     2          NaN          NaN      2          4   \n",
       "top             NaN  male          NaN          NaN     no  southeast   \n",
       "freq            NaN   676          NaN          NaN   1064        364   \n",
       "mean      39.207025   NaN    30.663397     1.094918    NaN        NaN   \n",
       "std       14.049960   NaN     6.098187     1.205493    NaN        NaN   \n",
       "min       18.000000   NaN    15.960000     0.000000    NaN        NaN   \n",
       "25%       27.000000   NaN    26.296250     0.000000    NaN        NaN   \n",
       "50%       39.000000   NaN    30.400000     1.000000    NaN        NaN   \n",
       "75%       51.000000   NaN    34.693750     2.000000    NaN        NaN   \n",
       "max       64.000000   NaN    53.130000     5.000000    NaN        NaN   \n",
       "\n",
       "             charges  \n",
       "count    1338.000000  \n",
       "unique           NaN  \n",
       "top              NaN  \n",
       "freq             NaN  \n",
       "mean    13270.422265  \n",
       "std     12110.011237  \n",
       "min      1121.873900  \n",
       "25%      4740.287150  \n",
       "50%      9382.033000  \n",
       "75%     16639.912515  \n",
       "max     63770.428010  "
      ]
     },
     "execution_count": 8,
     "metadata": {},
     "output_type": "execute_result"
    }
   ],
   "source": [
    "df.describe(include ='all')"
   ]
  },
  {
   "cell_type": "code",
   "execution_count": 9,
   "id": "49234d01",
   "metadata": {},
   "outputs": [
    {
     "data": {
      "text/plain": [
       "age         False\n",
       "sex         False\n",
       "bmi         False\n",
       "children    False\n",
       "smoker      False\n",
       "region      False\n",
       "charges     False\n",
       "dtype: bool"
      ]
     },
     "execution_count": 9,
     "metadata": {},
     "output_type": "execute_result"
    }
   ],
   "source": [
    "df.isnull().any()"
   ]
  },
  {
   "cell_type": "code",
   "execution_count": 10,
   "id": "25b77130",
   "metadata": {},
   "outputs": [
    {
     "data": {
      "text/plain": [
       "True"
      ]
     },
     "execution_count": 10,
     "metadata": {},
     "output_type": "execute_result"
    }
   ],
   "source": [
    "df.duplicated().any()"
   ]
  },
  {
   "cell_type": "code",
   "execution_count": 11,
   "id": "e8c0425f",
   "metadata": {},
   "outputs": [],
   "source": [
    "DF = df.drop_duplicates()"
   ]
  },
  {
   "cell_type": "code",
   "execution_count": 12,
   "id": "aa09932b",
   "metadata": {},
   "outputs": [
    {
     "data": {
      "text/plain": [
       "False"
      ]
     },
     "execution_count": 12,
     "metadata": {},
     "output_type": "execute_result"
    }
   ],
   "source": [
    "DF.duplicated().any()"
   ]
  },
  {
   "cell_type": "code",
   "execution_count": 13,
   "id": "22970288",
   "metadata": {},
   "outputs": [
    {
     "data": {
      "text/plain": [
       "age           int64\n",
       "sex          object\n",
       "bmi         float64\n",
       "children      int64\n",
       "smoker       object\n",
       "region       object\n",
       "charges     float64\n",
       "dtype: object"
      ]
     },
     "execution_count": 13,
     "metadata": {},
     "output_type": "execute_result"
    }
   ],
   "source": [
    "DF.dtypes"
   ]
  },
  {
   "cell_type": "code",
   "execution_count": 14,
   "id": "80e5b2cb",
   "metadata": {},
   "outputs": [
    {
     "data": {
      "text/html": [
       "<div>\n",
       "<style scoped>\n",
       "    .dataframe tbody tr th:only-of-type {\n",
       "        vertical-align: middle;\n",
       "    }\n",
       "\n",
       "    .dataframe tbody tr th {\n",
       "        vertical-align: top;\n",
       "    }\n",
       "\n",
       "    .dataframe thead th {\n",
       "        text-align: right;\n",
       "    }\n",
       "</style>\n",
       "<table border=\"1\" class=\"dataframe\">\n",
       "  <thead>\n",
       "    <tr style=\"text-align: right;\">\n",
       "      <th></th>\n",
       "      <th>age</th>\n",
       "      <th>sex</th>\n",
       "      <th>bmi</th>\n",
       "      <th>children</th>\n",
       "      <th>smoker</th>\n",
       "      <th>region</th>\n",
       "      <th>charges</th>\n",
       "    </tr>\n",
       "  </thead>\n",
       "  <tbody>\n",
       "    <tr>\n",
       "      <th>0</th>\n",
       "      <td>19</td>\n",
       "      <td>female</td>\n",
       "      <td>27.900</td>\n",
       "      <td>0</td>\n",
       "      <td>yes</td>\n",
       "      <td>southwest</td>\n",
       "      <td>16884.92400</td>\n",
       "    </tr>\n",
       "    <tr>\n",
       "      <th>1</th>\n",
       "      <td>18</td>\n",
       "      <td>male</td>\n",
       "      <td>33.770</td>\n",
       "      <td>1</td>\n",
       "      <td>no</td>\n",
       "      <td>southeast</td>\n",
       "      <td>1725.55230</td>\n",
       "    </tr>\n",
       "    <tr>\n",
       "      <th>2</th>\n",
       "      <td>28</td>\n",
       "      <td>male</td>\n",
       "      <td>33.000</td>\n",
       "      <td>3</td>\n",
       "      <td>no</td>\n",
       "      <td>southeast</td>\n",
       "      <td>4449.46200</td>\n",
       "    </tr>\n",
       "    <tr>\n",
       "      <th>3</th>\n",
       "      <td>33</td>\n",
       "      <td>male</td>\n",
       "      <td>22.705</td>\n",
       "      <td>0</td>\n",
       "      <td>no</td>\n",
       "      <td>northwest</td>\n",
       "      <td>21984.47061</td>\n",
       "    </tr>\n",
       "    <tr>\n",
       "      <th>4</th>\n",
       "      <td>32</td>\n",
       "      <td>male</td>\n",
       "      <td>28.880</td>\n",
       "      <td>0</td>\n",
       "      <td>no</td>\n",
       "      <td>northwest</td>\n",
       "      <td>3866.85520</td>\n",
       "    </tr>\n",
       "  </tbody>\n",
       "</table>\n",
       "</div>"
      ],
      "text/plain": [
       "   age     sex     bmi  children smoker     region      charges\n",
       "0   19  female  27.900         0    yes  southwest  16884.92400\n",
       "1   18    male  33.770         1     no  southeast   1725.55230\n",
       "2   28    male  33.000         3     no  southeast   4449.46200\n",
       "3   33    male  22.705         0     no  northwest  21984.47061\n",
       "4   32    male  28.880         0     no  northwest   3866.85520"
      ]
     },
     "execution_count": 14,
     "metadata": {},
     "output_type": "execute_result"
    }
   ],
   "source": [
    "DF.head()"
   ]
  },
  {
   "cell_type": "code",
   "execution_count": 15,
   "id": "d96b2cc6",
   "metadata": {},
   "outputs": [],
   "source": [
    "# data = pd.get_dummies(DF,drop_first =True)"
   ]
  },
  {
   "cell_type": "code",
   "execution_count": null,
   "id": "6bdd6301",
   "metadata": {},
   "outputs": [],
   "source": []
  },
  {
   "cell_type": "code",
   "execution_count": 16,
   "id": "67696484",
   "metadata": {},
   "outputs": [
    {
     "data": {
      "text/html": [
       "<div>\n",
       "<style scoped>\n",
       "    .dataframe tbody tr th:only-of-type {\n",
       "        vertical-align: middle;\n",
       "    }\n",
       "\n",
       "    .dataframe tbody tr th {\n",
       "        vertical-align: top;\n",
       "    }\n",
       "\n",
       "    .dataframe thead th {\n",
       "        text-align: right;\n",
       "    }\n",
       "</style>\n",
       "<table border=\"1\" class=\"dataframe\">\n",
       "  <thead>\n",
       "    <tr style=\"text-align: right;\">\n",
       "      <th></th>\n",
       "      <th>age</th>\n",
       "      <th>sex</th>\n",
       "      <th>bmi</th>\n",
       "      <th>children</th>\n",
       "      <th>smoker</th>\n",
       "      <th>region</th>\n",
       "      <th>charges</th>\n",
       "    </tr>\n",
       "  </thead>\n",
       "  <tbody>\n",
       "    <tr>\n",
       "      <th>0</th>\n",
       "      <td>19</td>\n",
       "      <td>female</td>\n",
       "      <td>27.900</td>\n",
       "      <td>0</td>\n",
       "      <td>yes</td>\n",
       "      <td>southwest</td>\n",
       "      <td>16884.92400</td>\n",
       "    </tr>\n",
       "    <tr>\n",
       "      <th>1</th>\n",
       "      <td>18</td>\n",
       "      <td>male</td>\n",
       "      <td>33.770</td>\n",
       "      <td>1</td>\n",
       "      <td>no</td>\n",
       "      <td>southeast</td>\n",
       "      <td>1725.55230</td>\n",
       "    </tr>\n",
       "    <tr>\n",
       "      <th>2</th>\n",
       "      <td>28</td>\n",
       "      <td>male</td>\n",
       "      <td>33.000</td>\n",
       "      <td>3</td>\n",
       "      <td>no</td>\n",
       "      <td>southeast</td>\n",
       "      <td>4449.46200</td>\n",
       "    </tr>\n",
       "    <tr>\n",
       "      <th>3</th>\n",
       "      <td>33</td>\n",
       "      <td>male</td>\n",
       "      <td>22.705</td>\n",
       "      <td>0</td>\n",
       "      <td>no</td>\n",
       "      <td>northwest</td>\n",
       "      <td>21984.47061</td>\n",
       "    </tr>\n",
       "    <tr>\n",
       "      <th>4</th>\n",
       "      <td>32</td>\n",
       "      <td>male</td>\n",
       "      <td>28.880</td>\n",
       "      <td>0</td>\n",
       "      <td>no</td>\n",
       "      <td>northwest</td>\n",
       "      <td>3866.85520</td>\n",
       "    </tr>\n",
       "  </tbody>\n",
       "</table>\n",
       "</div>"
      ],
      "text/plain": [
       "   age     sex     bmi  children smoker     region      charges\n",
       "0   19  female  27.900         0    yes  southwest  16884.92400\n",
       "1   18    male  33.770         1     no  southeast   1725.55230\n",
       "2   28    male  33.000         3     no  southeast   4449.46200\n",
       "3   33    male  22.705         0     no  northwest  21984.47061\n",
       "4   32    male  28.880         0     no  northwest   3866.85520"
      ]
     },
     "execution_count": 16,
     "metadata": {},
     "output_type": "execute_result"
    }
   ],
   "source": [
    "DF.head()"
   ]
  },
  {
   "cell_type": "code",
   "execution_count": 17,
   "id": "87497f57",
   "metadata": {},
   "outputs": [
    {
     "data": {
      "text/plain": [
       "no     1063\n",
       "yes     274\n",
       "Name: smoker, dtype: int64"
      ]
     },
     "execution_count": 17,
     "metadata": {},
     "output_type": "execute_result"
    }
   ],
   "source": [
    "DF['smoker'].value_counts()"
   ]
  },
  {
   "cell_type": "code",
   "execution_count": 18,
   "id": "d465ef35",
   "metadata": {},
   "outputs": [
    {
     "name": "stderr",
     "output_type": "stream",
     "text": [
      "C:\\Users\\alist\\AppData\\Local\\Temp\\ipykernel_6696\\2855172309.py:1: SettingWithCopyWarning: \n",
      "A value is trying to be set on a copy of a slice from a DataFrame.\n",
      "Try using .loc[row_indexer,col_indexer] = value instead\n",
      "\n",
      "See the caveats in the documentation: https://pandas.pydata.org/pandas-docs/stable/user_guide/indexing.html#returning-a-view-versus-a-copy\n",
      "  DF['smoker_num'] = DF['smoker'].map({'yes':1,'no':0})\n"
     ]
    }
   ],
   "source": [
    "DF['smoker_num'] = DF['smoker'].map({'yes':1,'no':0})"
   ]
  },
  {
   "cell_type": "code",
   "execution_count": 19,
   "id": "fe8d2bc7",
   "metadata": {},
   "outputs": [
    {
     "data": {
      "text/plain": [
       "0    1063\n",
       "1     274\n",
       "Name: smoker_num, dtype: int64"
      ]
     },
     "execution_count": 19,
     "metadata": {},
     "output_type": "execute_result"
    }
   ],
   "source": [
    "DF['smoker_num'].value_counts()"
   ]
  },
  {
   "cell_type": "code",
   "execution_count": 20,
   "id": "722f0de8",
   "metadata": {},
   "outputs": [
    {
     "data": {
      "text/plain": [
       "male      675\n",
       "female    662\n",
       "Name: sex, dtype: int64"
      ]
     },
     "execution_count": 20,
     "metadata": {},
     "output_type": "execute_result"
    }
   ],
   "source": [
    "DF['sex'].value_counts()"
   ]
  },
  {
   "cell_type": "code",
   "execution_count": 21,
   "id": "86ef5c9e",
   "metadata": {},
   "outputs": [
    {
     "name": "stderr",
     "output_type": "stream",
     "text": [
      "C:\\Users\\alist\\AppData\\Local\\Temp\\ipykernel_6696\\1925800785.py:1: SettingWithCopyWarning: \n",
      "A value is trying to be set on a copy of a slice from a DataFrame.\n",
      "Try using .loc[row_indexer,col_indexer] = value instead\n",
      "\n",
      "See the caveats in the documentation: https://pandas.pydata.org/pandas-docs/stable/user_guide/indexing.html#returning-a-view-versus-a-copy\n",
      "  DF['sex_num'] = DF['sex'].map({'male':1, 'female':0})\n"
     ]
    }
   ],
   "source": [
    "DF['sex_num'] = DF['sex'].map({'male':1, 'female':0})\n"
   ]
  },
  {
   "cell_type": "code",
   "execution_count": 22,
   "id": "93fe1248",
   "metadata": {},
   "outputs": [
    {
     "data": {
      "text/html": [
       "<div>\n",
       "<style scoped>\n",
       "    .dataframe tbody tr th:only-of-type {\n",
       "        vertical-align: middle;\n",
       "    }\n",
       "\n",
       "    .dataframe tbody tr th {\n",
       "        vertical-align: top;\n",
       "    }\n",
       "\n",
       "    .dataframe thead th {\n",
       "        text-align: right;\n",
       "    }\n",
       "</style>\n",
       "<table border=\"1\" class=\"dataframe\">\n",
       "  <thead>\n",
       "    <tr style=\"text-align: right;\">\n",
       "      <th></th>\n",
       "      <th>age</th>\n",
       "      <th>sex</th>\n",
       "      <th>bmi</th>\n",
       "      <th>children</th>\n",
       "      <th>smoker</th>\n",
       "      <th>region</th>\n",
       "      <th>charges</th>\n",
       "      <th>smoker_num</th>\n",
       "      <th>sex_num</th>\n",
       "    </tr>\n",
       "  </thead>\n",
       "  <tbody>\n",
       "    <tr>\n",
       "      <th>0</th>\n",
       "      <td>19</td>\n",
       "      <td>female</td>\n",
       "      <td>27.900</td>\n",
       "      <td>0</td>\n",
       "      <td>yes</td>\n",
       "      <td>southwest</td>\n",
       "      <td>16884.92400</td>\n",
       "      <td>1</td>\n",
       "      <td>0</td>\n",
       "    </tr>\n",
       "    <tr>\n",
       "      <th>1</th>\n",
       "      <td>18</td>\n",
       "      <td>male</td>\n",
       "      <td>33.770</td>\n",
       "      <td>1</td>\n",
       "      <td>no</td>\n",
       "      <td>southeast</td>\n",
       "      <td>1725.55230</td>\n",
       "      <td>0</td>\n",
       "      <td>1</td>\n",
       "    </tr>\n",
       "    <tr>\n",
       "      <th>2</th>\n",
       "      <td>28</td>\n",
       "      <td>male</td>\n",
       "      <td>33.000</td>\n",
       "      <td>3</td>\n",
       "      <td>no</td>\n",
       "      <td>southeast</td>\n",
       "      <td>4449.46200</td>\n",
       "      <td>0</td>\n",
       "      <td>1</td>\n",
       "    </tr>\n",
       "    <tr>\n",
       "      <th>3</th>\n",
       "      <td>33</td>\n",
       "      <td>male</td>\n",
       "      <td>22.705</td>\n",
       "      <td>0</td>\n",
       "      <td>no</td>\n",
       "      <td>northwest</td>\n",
       "      <td>21984.47061</td>\n",
       "      <td>0</td>\n",
       "      <td>1</td>\n",
       "    </tr>\n",
       "    <tr>\n",
       "      <th>4</th>\n",
       "      <td>32</td>\n",
       "      <td>male</td>\n",
       "      <td>28.880</td>\n",
       "      <td>0</td>\n",
       "      <td>no</td>\n",
       "      <td>northwest</td>\n",
       "      <td>3866.85520</td>\n",
       "      <td>0</td>\n",
       "      <td>1</td>\n",
       "    </tr>\n",
       "    <tr>\n",
       "      <th>...</th>\n",
       "      <td>...</td>\n",
       "      <td>...</td>\n",
       "      <td>...</td>\n",
       "      <td>...</td>\n",
       "      <td>...</td>\n",
       "      <td>...</td>\n",
       "      <td>...</td>\n",
       "      <td>...</td>\n",
       "      <td>...</td>\n",
       "    </tr>\n",
       "    <tr>\n",
       "      <th>1333</th>\n",
       "      <td>50</td>\n",
       "      <td>male</td>\n",
       "      <td>30.970</td>\n",
       "      <td>3</td>\n",
       "      <td>no</td>\n",
       "      <td>northwest</td>\n",
       "      <td>10600.54830</td>\n",
       "      <td>0</td>\n",
       "      <td>1</td>\n",
       "    </tr>\n",
       "    <tr>\n",
       "      <th>1334</th>\n",
       "      <td>18</td>\n",
       "      <td>female</td>\n",
       "      <td>31.920</td>\n",
       "      <td>0</td>\n",
       "      <td>no</td>\n",
       "      <td>northeast</td>\n",
       "      <td>2205.98080</td>\n",
       "      <td>0</td>\n",
       "      <td>0</td>\n",
       "    </tr>\n",
       "    <tr>\n",
       "      <th>1335</th>\n",
       "      <td>18</td>\n",
       "      <td>female</td>\n",
       "      <td>36.850</td>\n",
       "      <td>0</td>\n",
       "      <td>no</td>\n",
       "      <td>southeast</td>\n",
       "      <td>1629.83350</td>\n",
       "      <td>0</td>\n",
       "      <td>0</td>\n",
       "    </tr>\n",
       "    <tr>\n",
       "      <th>1336</th>\n",
       "      <td>21</td>\n",
       "      <td>female</td>\n",
       "      <td>25.800</td>\n",
       "      <td>0</td>\n",
       "      <td>no</td>\n",
       "      <td>southwest</td>\n",
       "      <td>2007.94500</td>\n",
       "      <td>0</td>\n",
       "      <td>0</td>\n",
       "    </tr>\n",
       "    <tr>\n",
       "      <th>1337</th>\n",
       "      <td>61</td>\n",
       "      <td>female</td>\n",
       "      <td>29.070</td>\n",
       "      <td>0</td>\n",
       "      <td>yes</td>\n",
       "      <td>northwest</td>\n",
       "      <td>29141.36030</td>\n",
       "      <td>1</td>\n",
       "      <td>0</td>\n",
       "    </tr>\n",
       "  </tbody>\n",
       "</table>\n",
       "<p>1337 rows × 9 columns</p>\n",
       "</div>"
      ],
      "text/plain": [
       "      age     sex     bmi  children smoker     region      charges  \\\n",
       "0      19  female  27.900         0    yes  southwest  16884.92400   \n",
       "1      18    male  33.770         1     no  southeast   1725.55230   \n",
       "2      28    male  33.000         3     no  southeast   4449.46200   \n",
       "3      33    male  22.705         0     no  northwest  21984.47061   \n",
       "4      32    male  28.880         0     no  northwest   3866.85520   \n",
       "...   ...     ...     ...       ...    ...        ...          ...   \n",
       "1333   50    male  30.970         3     no  northwest  10600.54830   \n",
       "1334   18  female  31.920         0     no  northeast   2205.98080   \n",
       "1335   18  female  36.850         0     no  southeast   1629.83350   \n",
       "1336   21  female  25.800         0     no  southwest   2007.94500   \n",
       "1337   61  female  29.070         0    yes  northwest  29141.36030   \n",
       "\n",
       "      smoker_num  sex_num  \n",
       "0              1        0  \n",
       "1              0        1  \n",
       "2              0        1  \n",
       "3              0        1  \n",
       "4              0        1  \n",
       "...          ...      ...  \n",
       "1333           0        1  \n",
       "1334           0        0  \n",
       "1335           0        0  \n",
       "1336           0        0  \n",
       "1337           1        0  \n",
       "\n",
       "[1337 rows x 9 columns]"
      ]
     },
     "execution_count": 22,
     "metadata": {},
     "output_type": "execute_result"
    }
   ],
   "source": [
    "DF"
   ]
  },
  {
   "cell_type": "code",
   "execution_count": 23,
   "id": "4b636051",
   "metadata": {},
   "outputs": [
    {
     "data": {
      "text/html": [
       "<div>\n",
       "<style scoped>\n",
       "    .dataframe tbody tr th:only-of-type {\n",
       "        vertical-align: middle;\n",
       "    }\n",
       "\n",
       "    .dataframe tbody tr th {\n",
       "        vertical-align: top;\n",
       "    }\n",
       "\n",
       "    .dataframe thead th {\n",
       "        text-align: right;\n",
       "    }\n",
       "</style>\n",
       "<table border=\"1\" class=\"dataframe\">\n",
       "  <thead>\n",
       "    <tr style=\"text-align: right;\">\n",
       "      <th></th>\n",
       "      <th>age</th>\n",
       "      <th>bmi</th>\n",
       "      <th>children</th>\n",
       "      <th>region</th>\n",
       "      <th>charges</th>\n",
       "      <th>smoker_num</th>\n",
       "      <th>sex_num</th>\n",
       "    </tr>\n",
       "  </thead>\n",
       "  <tbody>\n",
       "    <tr>\n",
       "      <th>0</th>\n",
       "      <td>19</td>\n",
       "      <td>27.900</td>\n",
       "      <td>0</td>\n",
       "      <td>southwest</td>\n",
       "      <td>16884.92400</td>\n",
       "      <td>1</td>\n",
       "      <td>0</td>\n",
       "    </tr>\n",
       "    <tr>\n",
       "      <th>1</th>\n",
       "      <td>18</td>\n",
       "      <td>33.770</td>\n",
       "      <td>1</td>\n",
       "      <td>southeast</td>\n",
       "      <td>1725.55230</td>\n",
       "      <td>0</td>\n",
       "      <td>1</td>\n",
       "    </tr>\n",
       "    <tr>\n",
       "      <th>2</th>\n",
       "      <td>28</td>\n",
       "      <td>33.000</td>\n",
       "      <td>3</td>\n",
       "      <td>southeast</td>\n",
       "      <td>4449.46200</td>\n",
       "      <td>0</td>\n",
       "      <td>1</td>\n",
       "    </tr>\n",
       "    <tr>\n",
       "      <th>3</th>\n",
       "      <td>33</td>\n",
       "      <td>22.705</td>\n",
       "      <td>0</td>\n",
       "      <td>northwest</td>\n",
       "      <td>21984.47061</td>\n",
       "      <td>0</td>\n",
       "      <td>1</td>\n",
       "    </tr>\n",
       "    <tr>\n",
       "      <th>4</th>\n",
       "      <td>32</td>\n",
       "      <td>28.880</td>\n",
       "      <td>0</td>\n",
       "      <td>northwest</td>\n",
       "      <td>3866.85520</td>\n",
       "      <td>0</td>\n",
       "      <td>1</td>\n",
       "    </tr>\n",
       "    <tr>\n",
       "      <th>...</th>\n",
       "      <td>...</td>\n",
       "      <td>...</td>\n",
       "      <td>...</td>\n",
       "      <td>...</td>\n",
       "      <td>...</td>\n",
       "      <td>...</td>\n",
       "      <td>...</td>\n",
       "    </tr>\n",
       "    <tr>\n",
       "      <th>1333</th>\n",
       "      <td>50</td>\n",
       "      <td>30.970</td>\n",
       "      <td>3</td>\n",
       "      <td>northwest</td>\n",
       "      <td>10600.54830</td>\n",
       "      <td>0</td>\n",
       "      <td>1</td>\n",
       "    </tr>\n",
       "    <tr>\n",
       "      <th>1334</th>\n",
       "      <td>18</td>\n",
       "      <td>31.920</td>\n",
       "      <td>0</td>\n",
       "      <td>northeast</td>\n",
       "      <td>2205.98080</td>\n",
       "      <td>0</td>\n",
       "      <td>0</td>\n",
       "    </tr>\n",
       "    <tr>\n",
       "      <th>1335</th>\n",
       "      <td>18</td>\n",
       "      <td>36.850</td>\n",
       "      <td>0</td>\n",
       "      <td>southeast</td>\n",
       "      <td>1629.83350</td>\n",
       "      <td>0</td>\n",
       "      <td>0</td>\n",
       "    </tr>\n",
       "    <tr>\n",
       "      <th>1336</th>\n",
       "      <td>21</td>\n",
       "      <td>25.800</td>\n",
       "      <td>0</td>\n",
       "      <td>southwest</td>\n",
       "      <td>2007.94500</td>\n",
       "      <td>0</td>\n",
       "      <td>0</td>\n",
       "    </tr>\n",
       "    <tr>\n",
       "      <th>1337</th>\n",
       "      <td>61</td>\n",
       "      <td>29.070</td>\n",
       "      <td>0</td>\n",
       "      <td>northwest</td>\n",
       "      <td>29141.36030</td>\n",
       "      <td>1</td>\n",
       "      <td>0</td>\n",
       "    </tr>\n",
       "  </tbody>\n",
       "</table>\n",
       "<p>1337 rows × 7 columns</p>\n",
       "</div>"
      ],
      "text/plain": [
       "      age     bmi  children     region      charges  smoker_num  sex_num\n",
       "0      19  27.900         0  southwest  16884.92400           1        0\n",
       "1      18  33.770         1  southeast   1725.55230           0        1\n",
       "2      28  33.000         3  southeast   4449.46200           0        1\n",
       "3      33  22.705         0  northwest  21984.47061           0        1\n",
       "4      32  28.880         0  northwest   3866.85520           0        1\n",
       "...   ...     ...       ...        ...          ...         ...      ...\n",
       "1333   50  30.970         3  northwest  10600.54830           0        1\n",
       "1334   18  31.920         0  northeast   2205.98080           0        0\n",
       "1335   18  36.850         0  southeast   1629.83350           0        0\n",
       "1336   21  25.800         0  southwest   2007.94500           0        0\n",
       "1337   61  29.070         0  northwest  29141.36030           1        0\n",
       "\n",
       "[1337 rows x 7 columns]"
      ]
     },
     "execution_count": 23,
     "metadata": {},
     "output_type": "execute_result"
    }
   ],
   "source": [
    "cols = ['sex','smoker']\n",
    "DF.drop(cols,axis = 1)"
   ]
  },
  {
   "cell_type": "code",
   "execution_count": 24,
   "id": "2081fff6",
   "metadata": {},
   "outputs": [
    {
     "data": {
      "text/plain": [
       "southeast    364\n",
       "southwest    325\n",
       "northwest    324\n",
       "northeast    324\n",
       "Name: region, dtype: int64"
      ]
     },
     "execution_count": 24,
     "metadata": {},
     "output_type": "execute_result"
    }
   ],
   "source": [
    "DF['region'].value_counts()"
   ]
  },
  {
   "cell_type": "code",
   "execution_count": 25,
   "id": "327af274",
   "metadata": {},
   "outputs": [
    {
     "name": "stderr",
     "output_type": "stream",
     "text": [
      "C:\\Users\\alist\\AppData\\Local\\Temp\\ipykernel_6696\\1935585031.py:1: SettingWithCopyWarning: \n",
      "A value is trying to be set on a copy of a slice from a DataFrame.\n",
      "Try using .loc[row_indexer,col_indexer] = value instead\n",
      "\n",
      "See the caveats in the documentation: https://pandas.pydata.org/pandas-docs/stable/user_guide/indexing.html#returning-a-view-versus-a-copy\n",
      "  DF['region'] = DF['region'].map({'southeast':0,'southwest':1,'northwest':2,'northeast':3})\n"
     ]
    }
   ],
   "source": [
    "DF['region'] = DF['region'].map({'southeast':0,'southwest':1,'northwest':2,'northeast':3})"
   ]
  },
  {
   "cell_type": "code",
   "execution_count": 26,
   "id": "0147e352",
   "metadata": {},
   "outputs": [
    {
     "data": {
      "text/html": [
       "<div>\n",
       "<style scoped>\n",
       "    .dataframe tbody tr th:only-of-type {\n",
       "        vertical-align: middle;\n",
       "    }\n",
       "\n",
       "    .dataframe tbody tr th {\n",
       "        vertical-align: top;\n",
       "    }\n",
       "\n",
       "    .dataframe thead th {\n",
       "        text-align: right;\n",
       "    }\n",
       "</style>\n",
       "<table border=\"1\" class=\"dataframe\">\n",
       "  <thead>\n",
       "    <tr style=\"text-align: right;\">\n",
       "      <th></th>\n",
       "      <th>age</th>\n",
       "      <th>sex</th>\n",
       "      <th>bmi</th>\n",
       "      <th>children</th>\n",
       "      <th>smoker</th>\n",
       "      <th>region</th>\n",
       "      <th>charges</th>\n",
       "      <th>smoker_num</th>\n",
       "      <th>sex_num</th>\n",
       "    </tr>\n",
       "  </thead>\n",
       "  <tbody>\n",
       "    <tr>\n",
       "      <th>0</th>\n",
       "      <td>19</td>\n",
       "      <td>female</td>\n",
       "      <td>27.900</td>\n",
       "      <td>0</td>\n",
       "      <td>yes</td>\n",
       "      <td>1</td>\n",
       "      <td>16884.92400</td>\n",
       "      <td>1</td>\n",
       "      <td>0</td>\n",
       "    </tr>\n",
       "    <tr>\n",
       "      <th>1</th>\n",
       "      <td>18</td>\n",
       "      <td>male</td>\n",
       "      <td>33.770</td>\n",
       "      <td>1</td>\n",
       "      <td>no</td>\n",
       "      <td>0</td>\n",
       "      <td>1725.55230</td>\n",
       "      <td>0</td>\n",
       "      <td>1</td>\n",
       "    </tr>\n",
       "    <tr>\n",
       "      <th>2</th>\n",
       "      <td>28</td>\n",
       "      <td>male</td>\n",
       "      <td>33.000</td>\n",
       "      <td>3</td>\n",
       "      <td>no</td>\n",
       "      <td>0</td>\n",
       "      <td>4449.46200</td>\n",
       "      <td>0</td>\n",
       "      <td>1</td>\n",
       "    </tr>\n",
       "    <tr>\n",
       "      <th>3</th>\n",
       "      <td>33</td>\n",
       "      <td>male</td>\n",
       "      <td>22.705</td>\n",
       "      <td>0</td>\n",
       "      <td>no</td>\n",
       "      <td>2</td>\n",
       "      <td>21984.47061</td>\n",
       "      <td>0</td>\n",
       "      <td>1</td>\n",
       "    </tr>\n",
       "    <tr>\n",
       "      <th>4</th>\n",
       "      <td>32</td>\n",
       "      <td>male</td>\n",
       "      <td>28.880</td>\n",
       "      <td>0</td>\n",
       "      <td>no</td>\n",
       "      <td>2</td>\n",
       "      <td>3866.85520</td>\n",
       "      <td>0</td>\n",
       "      <td>1</td>\n",
       "    </tr>\n",
       "    <tr>\n",
       "      <th>...</th>\n",
       "      <td>...</td>\n",
       "      <td>...</td>\n",
       "      <td>...</td>\n",
       "      <td>...</td>\n",
       "      <td>...</td>\n",
       "      <td>...</td>\n",
       "      <td>...</td>\n",
       "      <td>...</td>\n",
       "      <td>...</td>\n",
       "    </tr>\n",
       "    <tr>\n",
       "      <th>1333</th>\n",
       "      <td>50</td>\n",
       "      <td>male</td>\n",
       "      <td>30.970</td>\n",
       "      <td>3</td>\n",
       "      <td>no</td>\n",
       "      <td>2</td>\n",
       "      <td>10600.54830</td>\n",
       "      <td>0</td>\n",
       "      <td>1</td>\n",
       "    </tr>\n",
       "    <tr>\n",
       "      <th>1334</th>\n",
       "      <td>18</td>\n",
       "      <td>female</td>\n",
       "      <td>31.920</td>\n",
       "      <td>0</td>\n",
       "      <td>no</td>\n",
       "      <td>3</td>\n",
       "      <td>2205.98080</td>\n",
       "      <td>0</td>\n",
       "      <td>0</td>\n",
       "    </tr>\n",
       "    <tr>\n",
       "      <th>1335</th>\n",
       "      <td>18</td>\n",
       "      <td>female</td>\n",
       "      <td>36.850</td>\n",
       "      <td>0</td>\n",
       "      <td>no</td>\n",
       "      <td>0</td>\n",
       "      <td>1629.83350</td>\n",
       "      <td>0</td>\n",
       "      <td>0</td>\n",
       "    </tr>\n",
       "    <tr>\n",
       "      <th>1336</th>\n",
       "      <td>21</td>\n",
       "      <td>female</td>\n",
       "      <td>25.800</td>\n",
       "      <td>0</td>\n",
       "      <td>no</td>\n",
       "      <td>1</td>\n",
       "      <td>2007.94500</td>\n",
       "      <td>0</td>\n",
       "      <td>0</td>\n",
       "    </tr>\n",
       "    <tr>\n",
       "      <th>1337</th>\n",
       "      <td>61</td>\n",
       "      <td>female</td>\n",
       "      <td>29.070</td>\n",
       "      <td>0</td>\n",
       "      <td>yes</td>\n",
       "      <td>2</td>\n",
       "      <td>29141.36030</td>\n",
       "      <td>1</td>\n",
       "      <td>0</td>\n",
       "    </tr>\n",
       "  </tbody>\n",
       "</table>\n",
       "<p>1337 rows × 9 columns</p>\n",
       "</div>"
      ],
      "text/plain": [
       "      age     sex     bmi  children smoker  region      charges  smoker_num  \\\n",
       "0      19  female  27.900         0    yes       1  16884.92400           1   \n",
       "1      18    male  33.770         1     no       0   1725.55230           0   \n",
       "2      28    male  33.000         3     no       0   4449.46200           0   \n",
       "3      33    male  22.705         0     no       2  21984.47061           0   \n",
       "4      32    male  28.880         0     no       2   3866.85520           0   \n",
       "...   ...     ...     ...       ...    ...     ...          ...         ...   \n",
       "1333   50    male  30.970         3     no       2  10600.54830           0   \n",
       "1334   18  female  31.920         0     no       3   2205.98080           0   \n",
       "1335   18  female  36.850         0     no       0   1629.83350           0   \n",
       "1336   21  female  25.800         0     no       1   2007.94500           0   \n",
       "1337   61  female  29.070         0    yes       2  29141.36030           1   \n",
       "\n",
       "      sex_num  \n",
       "0           0  \n",
       "1           1  \n",
       "2           1  \n",
       "3           1  \n",
       "4           1  \n",
       "...       ...  \n",
       "1333        1  \n",
       "1334        0  \n",
       "1335        0  \n",
       "1336        0  \n",
       "1337        0  \n",
       "\n",
       "[1337 rows x 9 columns]"
      ]
     },
     "execution_count": 26,
     "metadata": {},
     "output_type": "execute_result"
    }
   ],
   "source": [
    "DF"
   ]
  },
  {
   "cell_type": "code",
   "execution_count": 27,
   "id": "d1475078",
   "metadata": {},
   "outputs": [
    {
     "name": "stderr",
     "output_type": "stream",
     "text": [
      "C:\\Users\\alist\\AppData\\Local\\Temp\\ipykernel_6696\\3227334555.py:2: SettingWithCopyWarning: \n",
      "A value is trying to be set on a copy of a slice from a DataFrame\n",
      "\n",
      "See the caveats in the documentation: https://pandas.pydata.org/pandas-docs/stable/user_guide/indexing.html#returning-a-view-versus-a-copy\n",
      "  DF.drop(cols,axis = 1,inplace = True)\n"
     ]
    }
   ],
   "source": [
    "cols = ['sex','smoker']\n",
    "DF.drop(cols,axis = 1,inplace = True)"
   ]
  },
  {
   "cell_type": "code",
   "execution_count": 28,
   "id": "60964949",
   "metadata": {},
   "outputs": [
    {
     "data": {
      "text/html": [
       "<div>\n",
       "<style scoped>\n",
       "    .dataframe tbody tr th:only-of-type {\n",
       "        vertical-align: middle;\n",
       "    }\n",
       "\n",
       "    .dataframe tbody tr th {\n",
       "        vertical-align: top;\n",
       "    }\n",
       "\n",
       "    .dataframe thead th {\n",
       "        text-align: right;\n",
       "    }\n",
       "</style>\n",
       "<table border=\"1\" class=\"dataframe\">\n",
       "  <thead>\n",
       "    <tr style=\"text-align: right;\">\n",
       "      <th></th>\n",
       "      <th>age</th>\n",
       "      <th>bmi</th>\n",
       "      <th>children</th>\n",
       "      <th>region</th>\n",
       "      <th>charges</th>\n",
       "      <th>smoker_num</th>\n",
       "      <th>sex_num</th>\n",
       "    </tr>\n",
       "  </thead>\n",
       "  <tbody>\n",
       "    <tr>\n",
       "      <th>0</th>\n",
       "      <td>19</td>\n",
       "      <td>27.900</td>\n",
       "      <td>0</td>\n",
       "      <td>1</td>\n",
       "      <td>16884.92400</td>\n",
       "      <td>1</td>\n",
       "      <td>0</td>\n",
       "    </tr>\n",
       "    <tr>\n",
       "      <th>1</th>\n",
       "      <td>18</td>\n",
       "      <td>33.770</td>\n",
       "      <td>1</td>\n",
       "      <td>0</td>\n",
       "      <td>1725.55230</td>\n",
       "      <td>0</td>\n",
       "      <td>1</td>\n",
       "    </tr>\n",
       "    <tr>\n",
       "      <th>2</th>\n",
       "      <td>28</td>\n",
       "      <td>33.000</td>\n",
       "      <td>3</td>\n",
       "      <td>0</td>\n",
       "      <td>4449.46200</td>\n",
       "      <td>0</td>\n",
       "      <td>1</td>\n",
       "    </tr>\n",
       "    <tr>\n",
       "      <th>3</th>\n",
       "      <td>33</td>\n",
       "      <td>22.705</td>\n",
       "      <td>0</td>\n",
       "      <td>2</td>\n",
       "      <td>21984.47061</td>\n",
       "      <td>0</td>\n",
       "      <td>1</td>\n",
       "    </tr>\n",
       "    <tr>\n",
       "      <th>4</th>\n",
       "      <td>32</td>\n",
       "      <td>28.880</td>\n",
       "      <td>0</td>\n",
       "      <td>2</td>\n",
       "      <td>3866.85520</td>\n",
       "      <td>0</td>\n",
       "      <td>1</td>\n",
       "    </tr>\n",
       "    <tr>\n",
       "      <th>...</th>\n",
       "      <td>...</td>\n",
       "      <td>...</td>\n",
       "      <td>...</td>\n",
       "      <td>...</td>\n",
       "      <td>...</td>\n",
       "      <td>...</td>\n",
       "      <td>...</td>\n",
       "    </tr>\n",
       "    <tr>\n",
       "      <th>1333</th>\n",
       "      <td>50</td>\n",
       "      <td>30.970</td>\n",
       "      <td>3</td>\n",
       "      <td>2</td>\n",
       "      <td>10600.54830</td>\n",
       "      <td>0</td>\n",
       "      <td>1</td>\n",
       "    </tr>\n",
       "    <tr>\n",
       "      <th>1334</th>\n",
       "      <td>18</td>\n",
       "      <td>31.920</td>\n",
       "      <td>0</td>\n",
       "      <td>3</td>\n",
       "      <td>2205.98080</td>\n",
       "      <td>0</td>\n",
       "      <td>0</td>\n",
       "    </tr>\n",
       "    <tr>\n",
       "      <th>1335</th>\n",
       "      <td>18</td>\n",
       "      <td>36.850</td>\n",
       "      <td>0</td>\n",
       "      <td>0</td>\n",
       "      <td>1629.83350</td>\n",
       "      <td>0</td>\n",
       "      <td>0</td>\n",
       "    </tr>\n",
       "    <tr>\n",
       "      <th>1336</th>\n",
       "      <td>21</td>\n",
       "      <td>25.800</td>\n",
       "      <td>0</td>\n",
       "      <td>1</td>\n",
       "      <td>2007.94500</td>\n",
       "      <td>0</td>\n",
       "      <td>0</td>\n",
       "    </tr>\n",
       "    <tr>\n",
       "      <th>1337</th>\n",
       "      <td>61</td>\n",
       "      <td>29.070</td>\n",
       "      <td>0</td>\n",
       "      <td>2</td>\n",
       "      <td>29141.36030</td>\n",
       "      <td>1</td>\n",
       "      <td>0</td>\n",
       "    </tr>\n",
       "  </tbody>\n",
       "</table>\n",
       "<p>1337 rows × 7 columns</p>\n",
       "</div>"
      ],
      "text/plain": [
       "      age     bmi  children  region      charges  smoker_num  sex_num\n",
       "0      19  27.900         0       1  16884.92400           1        0\n",
       "1      18  33.770         1       0   1725.55230           0        1\n",
       "2      28  33.000         3       0   4449.46200           0        1\n",
       "3      33  22.705         0       2  21984.47061           0        1\n",
       "4      32  28.880         0       2   3866.85520           0        1\n",
       "...   ...     ...       ...     ...          ...         ...      ...\n",
       "1333   50  30.970         3       2  10600.54830           0        1\n",
       "1334   18  31.920         0       3   2205.98080           0        0\n",
       "1335   18  36.850         0       0   1629.83350           0        0\n",
       "1336   21  25.800         0       1   2007.94500           0        0\n",
       "1337   61  29.070         0       2  29141.36030           1        0\n",
       "\n",
       "[1337 rows x 7 columns]"
      ]
     },
     "execution_count": 28,
     "metadata": {},
     "output_type": "execute_result"
    }
   ],
   "source": [
    "DF"
   ]
  },
  {
   "cell_type": "code",
   "execution_count": 29,
   "id": "05fa0583",
   "metadata": {},
   "outputs": [],
   "source": [
    "X = DF.drop('charges',axis = 1)\n",
    "Y = DF['charges']"
   ]
  },
  {
   "cell_type": "code",
   "execution_count": 30,
   "id": "7f7f7a95",
   "metadata": {},
   "outputs": [
    {
     "data": {
      "text/html": [
       "<div>\n",
       "<style scoped>\n",
       "    .dataframe tbody tr th:only-of-type {\n",
       "        vertical-align: middle;\n",
       "    }\n",
       "\n",
       "    .dataframe tbody tr th {\n",
       "        vertical-align: top;\n",
       "    }\n",
       "\n",
       "    .dataframe thead th {\n",
       "        text-align: right;\n",
       "    }\n",
       "</style>\n",
       "<table border=\"1\" class=\"dataframe\">\n",
       "  <thead>\n",
       "    <tr style=\"text-align: right;\">\n",
       "      <th></th>\n",
       "      <th>age</th>\n",
       "      <th>bmi</th>\n",
       "      <th>children</th>\n",
       "      <th>region</th>\n",
       "      <th>smoker_num</th>\n",
       "      <th>sex_num</th>\n",
       "    </tr>\n",
       "  </thead>\n",
       "  <tbody>\n",
       "    <tr>\n",
       "      <th>0</th>\n",
       "      <td>19</td>\n",
       "      <td>27.900</td>\n",
       "      <td>0</td>\n",
       "      <td>1</td>\n",
       "      <td>1</td>\n",
       "      <td>0</td>\n",
       "    </tr>\n",
       "    <tr>\n",
       "      <th>1</th>\n",
       "      <td>18</td>\n",
       "      <td>33.770</td>\n",
       "      <td>1</td>\n",
       "      <td>0</td>\n",
       "      <td>0</td>\n",
       "      <td>1</td>\n",
       "    </tr>\n",
       "    <tr>\n",
       "      <th>2</th>\n",
       "      <td>28</td>\n",
       "      <td>33.000</td>\n",
       "      <td>3</td>\n",
       "      <td>0</td>\n",
       "      <td>0</td>\n",
       "      <td>1</td>\n",
       "    </tr>\n",
       "    <tr>\n",
       "      <th>3</th>\n",
       "      <td>33</td>\n",
       "      <td>22.705</td>\n",
       "      <td>0</td>\n",
       "      <td>2</td>\n",
       "      <td>0</td>\n",
       "      <td>1</td>\n",
       "    </tr>\n",
       "    <tr>\n",
       "      <th>4</th>\n",
       "      <td>32</td>\n",
       "      <td>28.880</td>\n",
       "      <td>0</td>\n",
       "      <td>2</td>\n",
       "      <td>0</td>\n",
       "      <td>1</td>\n",
       "    </tr>\n",
       "    <tr>\n",
       "      <th>...</th>\n",
       "      <td>...</td>\n",
       "      <td>...</td>\n",
       "      <td>...</td>\n",
       "      <td>...</td>\n",
       "      <td>...</td>\n",
       "      <td>...</td>\n",
       "    </tr>\n",
       "    <tr>\n",
       "      <th>1333</th>\n",
       "      <td>50</td>\n",
       "      <td>30.970</td>\n",
       "      <td>3</td>\n",
       "      <td>2</td>\n",
       "      <td>0</td>\n",
       "      <td>1</td>\n",
       "    </tr>\n",
       "    <tr>\n",
       "      <th>1334</th>\n",
       "      <td>18</td>\n",
       "      <td>31.920</td>\n",
       "      <td>0</td>\n",
       "      <td>3</td>\n",
       "      <td>0</td>\n",
       "      <td>0</td>\n",
       "    </tr>\n",
       "    <tr>\n",
       "      <th>1335</th>\n",
       "      <td>18</td>\n",
       "      <td>36.850</td>\n",
       "      <td>0</td>\n",
       "      <td>0</td>\n",
       "      <td>0</td>\n",
       "      <td>0</td>\n",
       "    </tr>\n",
       "    <tr>\n",
       "      <th>1336</th>\n",
       "      <td>21</td>\n",
       "      <td>25.800</td>\n",
       "      <td>0</td>\n",
       "      <td>1</td>\n",
       "      <td>0</td>\n",
       "      <td>0</td>\n",
       "    </tr>\n",
       "    <tr>\n",
       "      <th>1337</th>\n",
       "      <td>61</td>\n",
       "      <td>29.070</td>\n",
       "      <td>0</td>\n",
       "      <td>2</td>\n",
       "      <td>1</td>\n",
       "      <td>0</td>\n",
       "    </tr>\n",
       "  </tbody>\n",
       "</table>\n",
       "<p>1337 rows × 6 columns</p>\n",
       "</div>"
      ],
      "text/plain": [
       "      age     bmi  children  region  smoker_num  sex_num\n",
       "0      19  27.900         0       1           1        0\n",
       "1      18  33.770         1       0           0        1\n",
       "2      28  33.000         3       0           0        1\n",
       "3      33  22.705         0       2           0        1\n",
       "4      32  28.880         0       2           0        1\n",
       "...   ...     ...       ...     ...         ...      ...\n",
       "1333   50  30.970         3       2           0        1\n",
       "1334   18  31.920         0       3           0        0\n",
       "1335   18  36.850         0       0           0        0\n",
       "1336   21  25.800         0       1           0        0\n",
       "1337   61  29.070         0       2           1        0\n",
       "\n",
       "[1337 rows x 6 columns]"
      ]
     },
     "execution_count": 30,
     "metadata": {},
     "output_type": "execute_result"
    }
   ],
   "source": [
    "X"
   ]
  },
  {
   "cell_type": "code",
   "execution_count": 31,
   "id": "e7529f5e",
   "metadata": {},
   "outputs": [
    {
     "data": {
      "text/plain": [
       "0       16884.92400\n",
       "1        1725.55230\n",
       "2        4449.46200\n",
       "3       21984.47061\n",
       "4        3866.85520\n",
       "           ...     \n",
       "1333    10600.54830\n",
       "1334     2205.98080\n",
       "1335     1629.83350\n",
       "1336     2007.94500\n",
       "1337    29141.36030\n",
       "Name: charges, Length: 1337, dtype: float64"
      ]
     },
     "execution_count": 31,
     "metadata": {},
     "output_type": "execute_result"
    }
   ],
   "source": [
    "Y"
   ]
  },
  {
   "cell_type": "code",
   "execution_count": 32,
   "id": "03a62e6d",
   "metadata": {},
   "outputs": [],
   "source": [
    "from imblearn.over_sampling import SMOTE"
   ]
  },
  {
   "cell_type": "code",
   "execution_count": 33,
   "id": "f9583685",
   "metadata": {},
   "outputs": [],
   "source": [
    "from sklearn.model_selection import train_test_split"
   ]
  },
  {
   "cell_type": "code",
   "execution_count": 34,
   "id": "dc2f6f32",
   "metadata": {},
   "outputs": [],
   "source": [
    "X_train,X_test,Y_train,Y_test = train_test_split(X,Y,test_size = 0.2, random_state=42)"
   ]
  },
  {
   "cell_type": "code",
   "execution_count": 35,
   "id": "f2e53b28",
   "metadata": {},
   "outputs": [
    {
     "data": {
      "text/html": [
       "<div>\n",
       "<style scoped>\n",
       "    .dataframe tbody tr th:only-of-type {\n",
       "        vertical-align: middle;\n",
       "    }\n",
       "\n",
       "    .dataframe tbody tr th {\n",
       "        vertical-align: top;\n",
       "    }\n",
       "\n",
       "    .dataframe thead th {\n",
       "        text-align: right;\n",
       "    }\n",
       "</style>\n",
       "<table border=\"1\" class=\"dataframe\">\n",
       "  <thead>\n",
       "    <tr style=\"text-align: right;\">\n",
       "      <th></th>\n",
       "      <th>age</th>\n",
       "      <th>bmi</th>\n",
       "      <th>children</th>\n",
       "      <th>region</th>\n",
       "      <th>smoker_num</th>\n",
       "      <th>sex_num</th>\n",
       "    </tr>\n",
       "  </thead>\n",
       "  <tbody>\n",
       "    <tr>\n",
       "      <th>1114</th>\n",
       "      <td>23</td>\n",
       "      <td>24.510</td>\n",
       "      <td>0</td>\n",
       "      <td>3</td>\n",
       "      <td>0</td>\n",
       "      <td>1</td>\n",
       "    </tr>\n",
       "    <tr>\n",
       "      <th>968</th>\n",
       "      <td>21</td>\n",
       "      <td>25.745</td>\n",
       "      <td>2</td>\n",
       "      <td>3</td>\n",
       "      <td>0</td>\n",
       "      <td>1</td>\n",
       "    </tr>\n",
       "    <tr>\n",
       "      <th>599</th>\n",
       "      <td>52</td>\n",
       "      <td>37.525</td>\n",
       "      <td>2</td>\n",
       "      <td>2</td>\n",
       "      <td>0</td>\n",
       "      <td>0</td>\n",
       "    </tr>\n",
       "    <tr>\n",
       "      <th>170</th>\n",
       "      <td>63</td>\n",
       "      <td>41.470</td>\n",
       "      <td>0</td>\n",
       "      <td>0</td>\n",
       "      <td>0</td>\n",
       "      <td>1</td>\n",
       "    </tr>\n",
       "    <tr>\n",
       "      <th>275</th>\n",
       "      <td>47</td>\n",
       "      <td>26.600</td>\n",
       "      <td>2</td>\n",
       "      <td>3</td>\n",
       "      <td>0</td>\n",
       "      <td>0</td>\n",
       "    </tr>\n",
       "    <tr>\n",
       "      <th>...</th>\n",
       "      <td>...</td>\n",
       "      <td>...</td>\n",
       "      <td>...</td>\n",
       "      <td>...</td>\n",
       "      <td>...</td>\n",
       "      <td>...</td>\n",
       "    </tr>\n",
       "    <tr>\n",
       "      <th>1096</th>\n",
       "      <td>51</td>\n",
       "      <td>34.960</td>\n",
       "      <td>2</td>\n",
       "      <td>3</td>\n",
       "      <td>1</td>\n",
       "      <td>0</td>\n",
       "    </tr>\n",
       "    <tr>\n",
       "      <th>1131</th>\n",
       "      <td>27</td>\n",
       "      <td>45.900</td>\n",
       "      <td>2</td>\n",
       "      <td>1</td>\n",
       "      <td>0</td>\n",
       "      <td>1</td>\n",
       "    </tr>\n",
       "    <tr>\n",
       "      <th>1295</th>\n",
       "      <td>20</td>\n",
       "      <td>22.000</td>\n",
       "      <td>1</td>\n",
       "      <td>1</td>\n",
       "      <td>0</td>\n",
       "      <td>1</td>\n",
       "    </tr>\n",
       "    <tr>\n",
       "      <th>861</th>\n",
       "      <td>38</td>\n",
       "      <td>28.000</td>\n",
       "      <td>3</td>\n",
       "      <td>1</td>\n",
       "      <td>0</td>\n",
       "      <td>0</td>\n",
       "    </tr>\n",
       "    <tr>\n",
       "      <th>1127</th>\n",
       "      <td>35</td>\n",
       "      <td>35.860</td>\n",
       "      <td>2</td>\n",
       "      <td>0</td>\n",
       "      <td>0</td>\n",
       "      <td>0</td>\n",
       "    </tr>\n",
       "  </tbody>\n",
       "</table>\n",
       "<p>1069 rows × 6 columns</p>\n",
       "</div>"
      ],
      "text/plain": [
       "      age     bmi  children  region  smoker_num  sex_num\n",
       "1114   23  24.510         0       3           0        1\n",
       "968    21  25.745         2       3           0        1\n",
       "599    52  37.525         2       2           0        0\n",
       "170    63  41.470         0       0           0        1\n",
       "275    47  26.600         2       3           0        0\n",
       "...   ...     ...       ...     ...         ...      ...\n",
       "1096   51  34.960         2       3           1        0\n",
       "1131   27  45.900         2       1           0        1\n",
       "1295   20  22.000         1       1           0        1\n",
       "861    38  28.000         3       1           0        0\n",
       "1127   35  35.860         2       0           0        0\n",
       "\n",
       "[1069 rows x 6 columns]"
      ]
     },
     "execution_count": 35,
     "metadata": {},
     "output_type": "execute_result"
    }
   ],
   "source": [
    "X_train\n"
   ]
  },
  {
   "cell_type": "code",
   "execution_count": 36,
   "id": "4f802de8",
   "metadata": {},
   "outputs": [
    {
     "data": {
      "text/plain": [
       "1114     2396.09590\n",
       "968      3279.86855\n",
       "599     33471.97189\n",
       "170     13405.39030\n",
       "275      9715.84100\n",
       "           ...     \n",
       "1096    44641.19740\n",
       "1131     3693.42800\n",
       "1295     1964.78000\n",
       "861      7151.09200\n",
       "1127     5836.52040\n",
       "Name: charges, Length: 1069, dtype: float64"
      ]
     },
     "execution_count": 36,
     "metadata": {},
     "output_type": "execute_result"
    }
   ],
   "source": [
    "Y_train"
   ]
  },
  {
   "cell_type": "code",
   "execution_count": 37,
   "id": "f4e09846",
   "metadata": {},
   "outputs": [
    {
     "data": {
      "text/plain": [
       "900      8688.85885\n",
       "1064     5708.86700\n",
       "1256    11436.73815\n",
       "298     38746.35510\n",
       "237      4463.20510\n",
       "           ...     \n",
       "534     13831.11520\n",
       "542     13887.20400\n",
       "760      3925.75820\n",
       "1284    47403.88000\n",
       "1285     8534.67180\n",
       "Name: charges, Length: 268, dtype: float64"
      ]
     },
     "execution_count": 37,
     "metadata": {},
     "output_type": "execute_result"
    }
   ],
   "source": [
    "Y_test"
   ]
  },
  {
   "cell_type": "code",
   "execution_count": 38,
   "id": "2174d709",
   "metadata": {},
   "outputs": [],
   "source": [
    "from sklearn.linear_model import LinearRegression\n",
    "from sklearn.svm import SVR                       #supportvectorregression                \n",
    "from sklearn.ensemble import RandomForestRegressor #average\n",
    "from sklearn.ensemble import GradientBoostingRegressor #combined"
   ]
  },
  {
   "cell_type": "markdown",
   "id": "3490db68",
   "metadata": {},
   "source": [
    "# Train Model "
   ]
  },
  {
   "cell_type": "code",
   "execution_count": 39,
   "id": "05f6bb86",
   "metadata": {},
   "outputs": [
    {
     "data": {
      "text/plain": [
       "LinearRegression()"
      ]
     },
     "execution_count": 39,
     "metadata": {},
     "output_type": "execute_result"
    }
   ],
   "source": [
    "lr = LinearRegression()\n",
    "lr.fit(X_train,Y_train)"
   ]
  },
  {
   "cell_type": "code",
   "execution_count": 40,
   "id": "11b8ae89",
   "metadata": {},
   "outputs": [],
   "source": [
    "y_pred = lr.predict(X_test)"
   ]
  },
  {
   "cell_type": "code",
   "execution_count": 41,
   "id": "2e8e00a3",
   "metadata": {},
   "outputs": [
    {
     "data": {
      "text/plain": [
       "array([ 8078.88343163,  5777.02082362, 14429.1629418 , 31815.19613046,\n",
       "        8917.2012333 , 13102.2532531 , 30406.91630632,  1496.00939292,\n",
       "       10585.68162384, 11371.11817014, 10425.02552886, 33182.38334399,\n",
       "       31034.12642525, 17470.15608802, 10751.55155272,  9571.6429809 ,\n",
       "        4210.73770511, 31694.45971304,  3258.92889458,  5177.98753414,\n",
       "        3502.67751614, 30235.01833548, 14856.9258212 , 30511.2886458 ,\n",
       "       31181.52812095,  5572.48830411, 35470.05253875, 36628.29944762,\n",
       "       11355.00686787, 14149.90001402,  6447.62469719, 12677.59872625,\n",
       "         342.27031517, 12129.74757042, 39633.65931297, 12388.44090092,\n",
       "        4786.8037088 ,  3965.01041568, 30809.56216292,  8903.94154501,\n",
       "        7008.17946853, 30055.36632807, 34741.77871131, 12235.04161824,\n",
       "        7402.95322862,  3464.26266068,  6167.49184652,  9028.9121507 ,\n",
       "        4317.56629324,  8968.37021414,  6551.99747307, 12035.29853403,\n",
       "       31193.38920692,  3506.07052596, 11096.75539915,  9681.60123861,\n",
       "       10777.44542999,  2479.97873334, 31125.87585212,  9461.26937849,\n",
       "       15534.43023443,  8143.54345702, 12657.19088568,  1540.77942065,\n",
       "       17057.15689327, 10632.53938946, 10527.67916659, 30811.84564045,\n",
       "       24824.75746207, 16524.16026661,  7311.22324232,  2918.26701022,\n",
       "        7081.48054408,   -56.52536661, 11632.5922024 , -1070.37626111,\n",
       "       17176.27619103,  8569.59003504,  7768.71772081, 12751.77655123,\n",
       "        5835.41062282, 18498.70302815, 15424.03622969, 10910.2461845 ,\n",
       "       36413.38384677, 13087.10152814,  4305.77498471,  2276.1424509 ,\n",
       "        6622.39437532,  4004.33176376, 14957.37174621, 28237.7325559 ,\n",
       "        5543.39640642,  3319.39667939,  2222.00109393, 35864.55287232,\n",
       "       14296.30218711,  8798.45761033,  4142.97605133,  8636.50710981,\n",
       "       14066.70726702, 15198.61125939, 32076.69611602, 14614.04498413,\n",
       "       32818.70785182,   114.03485284, 31085.87905865, 26810.27884817,\n",
       "       13978.54646224,  6046.76490597,  8081.94249803, 11624.09669448,\n",
       "        8422.58604295, 10210.46553592,  6252.57242889,  5307.30125009,\n",
       "        2023.6618626 ,  3009.81024682,  6993.04324624,  8986.98774957,\n",
       "       35978.88386954,  8177.9238907 , 11505.26969285,  9140.8926841 ,\n",
       "        9082.37723653,  9697.89142676,  4671.14667295, 12419.71315505,\n",
       "       29767.01763815, 39041.05739698, 36064.24409556, 12229.30728256,\n",
       "        2320.59072626, 11539.13971103, 10488.72417744,  5441.59032529,\n",
       "       35004.15679741, 29832.09022197, 25582.0450591 ,  4811.64987844,\n",
       "        6799.65520692,  5724.65426912, 36517.45335056, 10793.03775458,\n",
       "        5506.26336748,  8431.23220423, 10182.29061993,  8509.88640172,\n",
       "       34983.07922342, 14371.60055882,  9886.67747883,  6758.47319186,\n",
       "        7133.56908142, 16840.05887307,  6860.69247928, 26378.1339254 ,\n",
       "       36818.47064881, 16669.47474979,  9852.5791276 , 11146.39377759,\n",
       "       12670.84989064,  4105.01809893, 12863.92933041, 13628.29145332,\n",
       "       35739.7884569 , 33282.89000597, 12794.5231132 , 25154.20872631,\n",
       "        2529.51687935,  1998.8596901 ,  4959.8657871 ,  4975.45068428,\n",
       "        5197.39717819,  9661.62084485, 10089.98716974, 26319.12500503,\n",
       "        2451.28007602, 10555.80535878,  6895.38667413, 12069.06464382,\n",
       "       14970.47074049,  5161.50012068, 10827.49062457, 10100.56989019,\n",
       "       33102.08690791, 10929.44828719,  7329.96494047,  5923.51247813,\n",
       "         459.05847574, 31615.5732446 ,  8238.43528332, 32784.14972235,\n",
       "       12604.9192746 ,  5922.37795285,  1703.60352001,  1990.13221162,\n",
       "       32745.86825652,  5071.94358878, 13123.58957668, 17451.06532112,\n",
       "       26451.68492642, 25690.9153635 ,  6488.24302562, 12085.14147624,\n",
       "       28549.25313385,  8010.40438477, 10352.89157198, 10322.01102065,\n",
       "        3243.20768207, 34274.67686775, 31626.60229009,  9685.36354652,\n",
       "        5748.57235371,  7700.60359772, 10720.46210893,  4694.16019181,\n",
       "        5176.27438335, 11995.84015882,  9294.03195502,  2979.00018473,\n",
       "        4169.31259113, 37525.52520042, 37091.47478777, 13295.20594335,\n",
       "       10675.40492606, 37688.02846211, 34391.36435948,  6971.99334099,\n",
       "       26997.79846383,  4134.77048968, 15685.60196584, 29537.61924501,\n",
       "        5830.41704671,  9489.07447106,  8727.79470896,  9417.77514147,\n",
       "        9574.27605253,  4237.06314155,  5774.02930731,  4539.0810501 ,\n",
       "        6346.64374104,  4826.87138084,  5925.91410455,  8859.19607385,\n",
       "        1207.23199403,  8465.46867028,  3836.81807219, 10972.81039675,\n",
       "        2614.60113767, 10337.83614154,  3967.12344693, 11861.34691781,\n",
       "       12293.24589146, 14454.350004  , 37056.29564869, 23171.60846967,\n",
       "       10074.91571128,  7861.84343422,  9240.03783886, 12458.31772435,\n",
       "       29480.5302295 , 37826.67274969, 14672.79716591, 16709.28191836,\n",
       "       15227.11286441,  6402.29600987, 38527.33801152,  8261.67923519])"
      ]
     },
     "execution_count": 41,
     "metadata": {},
     "output_type": "execute_result"
    }
   ],
   "source": [
    "y_pred "
   ]
  },
  {
   "cell_type": "code",
   "execution_count": 42,
   "id": "187c6f10",
   "metadata": {},
   "outputs": [
    {
     "data": {
      "text/plain": [
       "SVR()"
      ]
     },
     "execution_count": 42,
     "metadata": {},
     "output_type": "execute_result"
    }
   ],
   "source": [
    "sv_r = SVR()\n",
    "sv_r.fit(X_train,Y_train)"
   ]
  },
  {
   "cell_type": "code",
   "execution_count": 43,
   "id": "dc106aa2",
   "metadata": {},
   "outputs": [],
   "source": [
    "y_predsvm = sv_r.predict(X_test)"
   ]
  },
  {
   "cell_type": "code",
   "execution_count": 44,
   "id": "c16fc7a6",
   "metadata": {},
   "outputs": [
    {
     "data": {
      "text/plain": [
       "array([9285.1360257 , 9161.12103062, 9303.98039249, 9174.3943885 ,\n",
       "       9177.24268092, 9291.40735731, 9140.5728103 , 9132.86985443,\n",
       "       9250.96357733, 9288.92402492, 9346.98833021, 9307.40698238,\n",
       "       9179.39364796, 9350.21320561, 9200.05874124, 9261.99701539,\n",
       "       9128.08052263, 9204.36422893, 9147.4856524 , 9161.0578747 ,\n",
       "       9128.20978895, 9201.30171166, 9291.11765243, 9220.92769257,\n",
       "       9186.29990911, 9131.31159109, 9246.30488695, 9351.9177946 ,\n",
       "       9289.91826886, 9284.65837996, 9172.24371285, 9297.73052571,\n",
       "       9123.75785782, 9345.15144636, 9316.36663855, 9303.76917219,\n",
       "       9125.37211537, 9167.61550608, 9307.93250577, 9268.46710468,\n",
       "       9140.80515735, 9245.05762753, 9251.32335415, 9303.31954523,\n",
       "       9264.23562668, 9155.77070283, 9131.63489957, 9248.70062951,\n",
       "       9155.7733292 , 9222.34137359, 9157.72392481, 9228.07829238,\n",
       "       9247.0755784 , 9128.42719009, 9244.27801558, 9255.90581201,\n",
       "       9301.30698226, 9143.99837204, 9186.43261069, 9235.2601433 ,\n",
       "       9291.14693504, 9197.26621385, 9309.34991947, 9122.59522736,\n",
       "       9307.78165994, 9310.58137901, 9218.24538903, 9248.01465154,\n",
       "       9124.43199913, 9359.32154824, 9299.56991112, 9122.55905877,\n",
       "       9232.88405704, 9136.79648804, 9325.66888746, 9129.94172733,\n",
       "       9350.86319606, 9186.25683491, 9284.23837713, 9350.21432418,\n",
       "       9151.93873552, 9306.08544258, 9351.37032181, 9250.85559705,\n",
       "       9361.42954687, 9346.26719141, 9165.85474054, 9122.27952428,\n",
       "       9136.26642651, 9136.86502887, 9351.54910837, 9166.45167765,\n",
       "       9156.93287809, 9129.81990791, 9124.21491148, 9316.03574751,\n",
       "       9314.81142244, 9268.31116392, 9134.38000448, 9259.86582867,\n",
       "       9363.28906519, 9332.56840092, 9309.87500636, 9315.93603245,\n",
       "       9197.63039758, 9126.80974068, 9190.2581156 , 9130.38523686,\n",
       "       9327.30343806, 9194.4227569 , 9208.40996591, 9340.18901809,\n",
       "       9190.70247886, 9186.90428775, 9140.20427147, 9142.89294705,\n",
       "       9124.53188649, 9123.9585769 , 9146.86376988, 9292.11939012,\n",
       "       9327.37769231, 9185.97904132, 9258.57405945, 9197.49526462,\n",
       "       9261.55156412, 9235.89285784, 9144.37866711, 9354.19167591,\n",
       "       9147.9940818 , 9362.52291685, 9354.85312879, 9265.42678827,\n",
       "       9142.92267892, 9295.11168745, 9188.87843785, 9123.6535959 ,\n",
       "       9259.10537404, 9251.62097022, 9124.48919469, 9141.34528126,\n",
       "       9177.26637048, 9147.26657874, 9254.48453017, 9317.76405343,\n",
       "       9132.8453863 , 9222.518399  , 9192.17045366, 9254.58360239,\n",
       "       9278.43850303, 9359.69461233, 9216.89548357, 9206.70839242,\n",
       "       9195.43665943, 9364.31582562, 9226.41084356, 9126.1409296 ,\n",
       "       9219.83374494, 9272.45763981, 9283.27870069, 9296.90483466,\n",
       "       9321.44129105, 9200.54192369, 9337.54289159, 9342.80155421,\n",
       "       9337.46587924, 9256.48632246, 9303.38634136, 9126.93271365,\n",
       "       9143.71308742, 9133.2845039 , 9171.00020677, 9129.93578905,\n",
       "       9165.96228203, 9335.95994285, 9249.08766308, 9179.02594691,\n",
       "       9129.29051096, 9284.04170457, 9270.38365558, 9283.25730077,\n",
       "       9355.94355252, 9140.85506092, 9306.44164233, 9331.71932126,\n",
       "       9229.57487959, 9324.93311137, 9140.7955823 , 9137.13694372,\n",
       "       9126.22669552, 9175.61458628, 9153.16342626, 9305.17636609,\n",
       "       9315.73646002, 9177.17060681, 9122.54369245, 9122.47478738,\n",
       "       9229.60670534, 9155.81203368, 9345.04466043, 9358.71107224,\n",
       "       9125.39933656, 9151.69650687, 9201.55663841, 9327.02189125,\n",
       "       9143.51201557, 9190.80803184, 9236.30717798, 9249.82786806,\n",
       "       9135.40745261, 9219.2497648 , 9247.60244735, 9267.42942251,\n",
       "       9182.6031154 , 9220.16266097, 9346.82206548, 9128.7789155 ,\n",
       "       9132.97774534, 9259.07864299, 9294.15561031, 9122.60994201,\n",
       "       9142.96031169, 9272.64357059, 9260.21936567, 9362.91559914,\n",
       "       9302.34678599, 9366.68503619, 9296.93345421, 9293.52276503,\n",
       "       9124.43854531, 9165.87513688, 9358.1769393 , 9189.62546594,\n",
       "       9147.59507065, 9243.52287634, 9325.74979165, 9282.39116865,\n",
       "       9338.93670452, 9127.08512659, 9145.50769164, 9147.21843471,\n",
       "       9135.36827736, 9147.61033765, 9161.18834289, 9293.60484425,\n",
       "       9124.76492891, 9285.24535493, 9143.48105713, 9230.54615139,\n",
       "       9122.37604938, 9248.87245842, 9125.06993333, 9330.89444249,\n",
       "       9350.4317998 , 9342.45924532, 9310.07143643, 9125.42039098,\n",
       "       9330.63653769, 9172.22700175, 9227.73765774, 9296.89254333,\n",
       "       9130.75070935, 9363.27042849, 9332.20859933, 9363.51031249,\n",
       "       9362.86435553, 9135.16450674, 9355.85443748, 9273.32862784])"
      ]
     },
     "execution_count": 44,
     "metadata": {},
     "output_type": "execute_result"
    }
   ],
   "source": [
    "y_predsvm"
   ]
  },
  {
   "cell_type": "code",
   "execution_count": 45,
   "id": "27cc658f",
   "metadata": {},
   "outputs": [],
   "source": [
    "min_age = DF['bmi'].min()"
   ]
  },
  {
   "cell_type": "code",
   "execution_count": 46,
   "id": "3877b19b",
   "metadata": {},
   "outputs": [],
   "source": [
    "max_age = DF['bmi'].max()"
   ]
  },
  {
   "cell_type": "code",
   "execution_count": 47,
   "id": "3f7f9b44",
   "metadata": {},
   "outputs": [],
   "source": [
    "example = DF.copy()"
   ]
  },
  {
   "cell_type": "code",
   "execution_count": 48,
   "id": "eb087291",
   "metadata": {},
   "outputs": [
    {
     "name": "stdout",
     "output_type": "stream",
     "text": [
      "Bmi_Group\tFrequency\n",
      "15–20\t\t41\n",
      "20–25\t\t206\n",
      "25–30\t\t386\n",
      "30–35\t\t388\n",
      "35–40\t\t225\n",
      "40–45\t\t71\n",
      "45–50\t\t17\n",
      "50–55\t\t3\n"
     ]
    },
    {
     "name": "stderr",
     "output_type": "stream",
     "text": [
      "C:\\Users\\alist\\AppData\\Local\\Temp\\ipykernel_6696\\3608721965.py:5: FutureWarning: The default value of regex will change from True to False in a future version. In addition, single character regular expressions will *not* be treated as literal strings when regex=True.\n",
      "  example['bmi_Group'] = pd.cut(df['bmi'], bins).astype(str).str.replace(\"(\", \"\").str.replace(\"]\", \"\").str.replace(\", \", \"–\")\n"
     ]
    }
   ],
   "source": [
    "step = 5\n",
    "bin_start = (int(min_age) // step) * step\n",
    "bin_end = (int(max_age )// step + 1) * step\n",
    "bins = [i for i in range(bin_start, bin_end + 1, step)]\n",
    "example['bmi_Group'] = pd.cut(df['bmi'], bins).astype(str).str.replace(\"(\", \"\").str.replace(\"]\", \"\").str.replace(\", \", \"–\")\n",
    "distribution = example['bmi_Group'].value_counts().sort_index()\n",
    "print(\"Bmi_Group\\tFrequency\")\n",
    "for group, frequency in distribution.items():\n",
    "    print(f\"{group}\\t\\t{frequency}\")\n"
   ]
  },
  {
   "cell_type": "code",
   "execution_count": 49,
   "id": "a7c10fef",
   "metadata": {},
   "outputs": [],
   "source": [
    "d = DF[(DF['bmi'] >= 15) & (DF['bmi'] <= 20)].count()[['bmi']]"
   ]
  },
  {
   "cell_type": "code",
   "execution_count": 50,
   "id": "70d4e0f6",
   "metadata": {},
   "outputs": [
    {
     "data": {
      "text/plain": [
       "bmi    41\n",
       "dtype: int64"
      ]
     },
     "execution_count": 50,
     "metadata": {},
     "output_type": "execute_result"
    }
   ],
   "source": [
    "d"
   ]
  },
  {
   "cell_type": "code",
   "execution_count": 51,
   "id": "ad9f555a",
   "metadata": {},
   "outputs": [
    {
     "data": {
      "text/plain": [
       "RandomForestRegressor()"
      ]
     },
     "execution_count": 51,
     "metadata": {},
     "output_type": "execute_result"
    }
   ],
   "source": [
    "RFR = RandomForestRegressor()\n",
    "RFR.fit(X_train,Y_train)"
   ]
  },
  {
   "cell_type": "code",
   "execution_count": 52,
   "id": "84c8d90f",
   "metadata": {},
   "outputs": [],
   "source": [
    "y_predrfr = RFR.predict(X_test)"
   ]
  },
  {
   "cell_type": "code",
   "execution_count": 53,
   "id": "62593b17",
   "metadata": {},
   "outputs": [
    {
     "data": {
      "text/plain": [
       "array([10572.8298016,  5923.8100099, 12264.9658548, 43739.4661191,\n",
       "        5793.9179946,  9875.0883525, 39014.88233  ,  2133.5135695,\n",
       "        8440.552335 , 10984.7234257, 13871.7230529, 23948.9914864,\n",
       "       43415.0708089, 15494.0919799,  7175.3365759,  8873.5712064,\n",
       "        8992.2386757, 39432.352902 ,  4318.0544055,  4359.7288695,\n",
       "        7091.5692   , 20664.6005628,  9808.7489481, 20785.128831 ,\n",
       "       40206.5141094, 19113.2956576, 43910.7884   , 45579.5951815,\n",
       "       10550.437212 , 15565.7789833,  4060.219804 ,  9448.7590747,\n",
       "        2306.2307368, 14177.0929594, 48106.1520167,  9747.5378755,\n",
       "        7793.0199836,  5465.9939325, 23161.4030577,  9015.0057171,\n",
       "        3501.3747105, 20329.7017423, 41687.8257714, 10174.3300397,\n",
       "        9336.6270136,  3811.5723504,  3861.9348465,  7655.3425294,\n",
       "        5453.0775432, 11987.1295785,  4666.3420152, 10043.6769574,\n",
       "       21965.3435206,  6429.6942044,  7493.5258939,  8884.2887981,\n",
       "       11890.85853  ,  5864.47596  , 42117.4105363,  7478.0125268,\n",
       "       11373.5714504,  5604.9506451, 15310.6090643,  1726.4412145,\n",
       "       13981.4916695, 14506.4632505,  6687.3694427, 22478.519331 ,\n",
       "       16985.3595263, 16036.3095322, 12424.0489618, 13682.0430225,\n",
       "        7391.212743 ,  7208.4283721, 11598.408548 ,  3344.7630947,\n",
       "       14212.4377038,  5574.6998301, 11154.5366042, 12785.1581905,\n",
       "       11016.4144588, 18233.8529314, 14038.1962351,  9532.7109763,\n",
       "       28673.7855225, 15961.4573234,  3672.4820792,  2579.8032171,\n",
       "        7164.1632875,  5034.8912993, 16412.7294112, 18004.2363098,\n",
       "        5179.5869023,  7324.1949602,  1763.901699 , 43838.9751095,\n",
       "       13197.5176512,  9946.8037083,  3223.6875948,  8970.5142909,\n",
       "       13669.3231945, 16566.6031046, 24134.9567671, 15907.0567521,\n",
       "       40117.0599859,  1626.811202 , 40576.0253421, 18394.4387923,\n",
       "       13100.0894256,  5426.164944 ,  6670.844751 , 12349.9046033,\n",
       "        7696.4072998,  7109.1272201,  2194.942309 ,  2386.8168339,\n",
       "        3356.3663078,  5137.815718 ,  2485.3647849, 13067.6592266,\n",
       "       43980.6392235,  5014.847421 ,  7691.4315159,  6167.3068343,\n",
       "        9215.5759654,  7505.3071038,  5248.8464105, 13215.9428912,\n",
       "       39484.1017334, 48596.5967789, 28483.663145 , 10160.7936291,\n",
       "        3940.8109275, 11964.700431 ,  6278.0689911, 12709.0848178,\n",
       "       46926.4797227, 21533.4537282, 19040.9686354,  3854.3085534,\n",
       "        6038.0600328, 11550.6484447, 43930.8394776, 12043.6665295,\n",
       "        1564.8552415,  5988.0626115,  5779.6912836,  7980.3896499,\n",
       "       43263.8743745, 13635.0750465,  6626.3466506,  9066.4740006,\n",
       "        5543.6886408, 14303.7491155,  9467.9363417, 35932.1749426,\n",
       "       43955.013245 , 12937.29769  , 10953.7289548,  9313.2838312,\n",
       "       11907.2718658,  6107.2005193, 11868.8666517, 12156.155046 ,\n",
       "       44201.7287714, 39837.0963516, 11704.1227434, 19741.444353 ,\n",
       "        4082.2943242,  4829.876205 ,  4707.9726143,  2240.1982205,\n",
       "        4044.79456  , 16364.8102601,  9492.4433143, 16899.409418 ,\n",
       "        2396.1473375, 10272.1512877,  9771.7413721, 10700.0480528,\n",
       "       17245.1313832,  5075.1624922, 14734.6935343, 12114.3471106,\n",
       "       39596.2850565, 11958.9251595,  4594.6661823,  5342.085338 ,\n",
       "        2102.626061 , 46109.4886107,  3229.9770306, 23358.264613 ,\n",
       "       14305.9667334,  5189.5612755,  2312.3086515,  7760.7230463,\n",
       "       39315.8294175,  4818.3968216, 15174.384161 , 16955.1756618,\n",
       "       34274.2844632, 19108.9357747,  5285.181392 , 10901.0429493,\n",
       "       20176.1175236,  6325.4103765,  7649.6949953,  8465.2492816,\n",
       "        9059.2646333, 42973.7793863, 23798.835329 ,  9587.3372258,\n",
       "        4931.9217208,  7327.1324232, 16725.9369144,  1768.539335 ,\n",
       "        2131.035242 ,  8713.1193771, 10379.4046767,  7229.2432265,\n",
       "        3003.223521 , 45067.3211921, 46775.6315618, 20467.4657368,\n",
       "       10007.3687248, 46614.9312975, 41631.621021 , 10426.8522197,\n",
       "       35330.8798968,  5774.6313674, 13140.512616 , 37817.4338   ,\n",
       "        5734.7813782,  7388.4739901, 11517.7026871, 12759.738819 ,\n",
       "       13712.4224071,  1868.985421 ,  3031.3289323,  3866.6661173,\n",
       "        6106.4879689,  2969.0101502,  5509.7215525, 10359.5930918,\n",
       "        1632.7600345, 11325.0709752,  5655.3912621,  8706.9719811,\n",
       "        4438.5953498,  9628.9149415,  5154.3436495, 11644.0847605,\n",
       "       12493.8368895, 14531.5646239, 44315.590583 , 14035.6518028,\n",
       "       12190.4768431,  7465.2983984,  8047.9264417, 11870.1926939,\n",
       "       37085.5094893, 46533.496646 , 18230.5383509, 14202.5673768,\n",
       "       14414.5133083, 13194.0038833, 47266.67885  , 14523.210199 ])"
      ]
     },
     "execution_count": 53,
     "metadata": {},
     "output_type": "execute_result"
    }
   ],
   "source": [
    "y_predrfr"
   ]
  },
  {
   "cell_type": "code",
   "execution_count": 54,
   "id": "aab3a6bb",
   "metadata": {},
   "outputs": [
    {
     "data": {
      "text/plain": [
       "GradientBoostingRegressor()"
      ]
     },
     "execution_count": 54,
     "metadata": {},
     "output_type": "execute_result"
    }
   ],
   "source": [
    "GBR = GradientBoostingRegressor()\n",
    "GBR.fit(X_train,Y_train)"
   ]
  },
  {
   "cell_type": "code",
   "execution_count": 55,
   "id": "86d95a14",
   "metadata": {},
   "outputs": [],
   "source": [
    "y_predgbr = GBR.predict(X_test)"
   ]
  },
  {
   "cell_type": "code",
   "execution_count": 56,
   "id": "e6a0de50",
   "metadata": {},
   "outputs": [
    {
     "data": {
      "text/plain": [
       "array([10341.9836037 ,  7089.44026442, 13139.74833741, 38773.44352076,\n",
       "        5635.88337065, 11133.8691981 , 40172.53404388,  3760.02698479,\n",
       "        9143.25279943, 11087.96905613, 13382.7531741 , 24811.48377762,\n",
       "       38878.21446872, 13986.51366234, 12701.60474007,  8370.02241275,\n",
       "        4723.67573864, 39627.66902807,  5655.41998707,  5945.67100285,\n",
       "        3270.36223041, 19971.33497986, 10172.5726896 , 21180.28609634,\n",
       "       38904.10012535,  7247.62464052, 42492.03566181, 44757.74527286,\n",
       "       11668.92199611, 15773.0904913 ,  5222.67296064, 10673.20597914,\n",
       "        4223.48327076, 15310.09126617, 46440.98265948, 10712.74609428,\n",
       "        9025.32714856,  6134.82812571, 22749.18180456,  9439.48900497,\n",
       "        3893.59017641, 20635.9059492 , 40821.26930682, 10850.73107819,\n",
       "        8433.6365328 ,  4094.42809493,  4091.11360205,  8449.4220709 ,\n",
       "        5692.23492486,  7672.71178439,  6427.37636437,  7203.94213105,\n",
       "       23517.83926043,  3178.90801286,  8326.79800086,  8853.46546464,\n",
       "       10850.30030019,  6000.99986246, 40119.84260019,  8104.091     ,\n",
       "       15540.43823951,  5892.46221971, 14098.99151578,  2224.28647043,\n",
       "       12753.02296205, 14377.72052612,  7236.29426901, 23661.75842025,\n",
       "       17654.28456849, 16980.35449888, 13817.67927944,  8967.17586817,\n",
       "        7500.84263613,  3101.77863507, 11385.51008656,  4343.92168643,\n",
       "       13925.04935731,  7307.42783817,  9702.33997797, 13313.89642688,\n",
       "        6392.29544291, 16028.52160568, 15177.17236742, 18932.59935155,\n",
       "       26865.60570378, 17621.46841184,  4189.96398037,  2797.78201352,\n",
       "        3684.4881503 ,  3948.1126422 , 17781.46095099, 18105.82110039,\n",
       "        6395.67599582,  2759.13956316,  2455.33786301, 42387.09489437,\n",
       "       13789.59928801,  9506.81304913,  3178.90801286,  9261.88634132,\n",
       "       14142.2153136 , 15678.51884715, 25722.61198104, 15478.06803904,\n",
       "       39048.6237371 ,  3316.69621622, 39350.51831129, 17462.92262744,\n",
       "       14218.37919141,  5736.218422  ,  7479.48477492, 12577.29855085,\n",
       "        6932.21535978,  9179.81663223,  2719.06485945,  4223.3377003 ,\n",
       "        4259.51177829,  2697.84556184,  5757.90145713, 12923.10631025,\n",
       "       42874.03117035,  4818.68841893,  8933.57311314,  7073.00354553,\n",
       "        9164.93792876,  7652.28918039,  6157.18925843, 14141.7845356 ,\n",
       "       38873.64205905, 47030.03615588, 27934.23101621,  9618.17239279,\n",
       "        3810.50758978, 12597.91093016,  6288.39722909, 11241.51589537,\n",
       "       45226.04326837, 20839.4409683 , 19064.78369557,  4061.81196578,\n",
       "        7562.44293524,  7959.5311813 , 43119.81371107, 12164.26889442,\n",
       "        2558.31418754,  6676.25935577,  4650.07827849,  9047.89410526,\n",
       "       44618.48113656, 13672.44617829,  8298.84461805,  7846.76986424,\n",
       "        5613.32117134, 13766.56311161,  7799.89162632, 35021.81819375,\n",
       "       43156.50099219,  9914.16182184, 10562.39913682, 10295.45101099,\n",
       "       12258.74221017,  4919.54892715, 12256.9070926 , 12256.9070926 ,\n",
       "       43398.91616984, 42167.36654326, 11878.57719825, 18730.05703447,\n",
       "        5227.46568492,  5073.99172707,  5169.52260875,  2422.39066066,\n",
       "        5222.24218264, 13740.8433639 ,  9526.18039105, 15774.05628631,\n",
       "        3683.77490367, 10562.39913682,  8937.25029147, 11741.0533579 ,\n",
       "       17091.41530164,  4775.85086649, 13287.15207829, 12581.12503448,\n",
       "       39237.40949752, 11795.67004059,  6061.45716526,  6033.9408707 ,\n",
       "        3168.33670195, 41894.07136561,  4938.46154741, 25208.28626532,\n",
       "       12571.32728152,  5945.67100285,  3024.70029537,  7300.75769122,\n",
       "       39248.49959171,  6544.63546099, 17527.21551309, 21333.4293853 ,\n",
       "       34810.86226966, 18575.14626406,  4822.80412084, 13053.37680541,\n",
       "       21174.52148434,  5921.94829634,  8412.71812501,  8765.75144643,\n",
       "        4775.42008849, 42056.66882691, 23783.84474551,  9279.5719421 ,\n",
       "        5837.45756427,  7978.62219551, 15926.74427228,  1998.98277653,\n",
       "        3385.91771008,  9233.0144022 ,  9967.70915785,  4000.32968439,\n",
       "        4864.12320923, 45202.85930259, 45194.09694569, 17688.50516249,\n",
       "       10476.12976744, 48732.80428027, 42131.34453539, 10545.77387414,\n",
       "       34831.90254094,  5544.6407437 , 14659.04778552, 38756.76522863,\n",
       "        7432.07395035,  6298.14648418, 13340.4378735 , 10043.54429363,\n",
       "       15832.61719041,  2178.78165769,  4260.57413345,  4982.7592386 ,\n",
       "        6433.06902589,  4232.19528181,  7496.92213041, 10559.18692491,\n",
       "        2825.04046582, 11072.20883112,  7277.91739829,  7884.52381544,\n",
       "        3373.33984567,  9217.55326604,  4898.05192352, 11900.19245876,\n",
       "       13218.38859171, 14068.16108781, 43190.91417834, 13584.92066597,\n",
       "       11602.20184454,  7856.10245073,  7949.69767712, 12410.63436797,\n",
       "       37613.47460504, 44470.62219602, 17198.32226953, 13797.57365502,\n",
       "       15095.85046362,  7782.7140474 , 49338.44427155, 12418.94202807])"
      ]
     },
     "execution_count": 56,
     "metadata": {},
     "output_type": "execute_result"
    }
   ],
   "source": [
    "y_predgbr"
   ]
  },
  {
   "cell_type": "code",
   "execution_count": 57,
   "id": "4d807188",
   "metadata": {},
   "outputs": [],
   "source": [
    "data = pd.DataFrame({'Actual':Y_test,'LR':y_pred,'SVR':y_predsvm,'RFR':y_predrfr,'GBR':y_predgbr})"
   ]
  },
  {
   "cell_type": "code",
   "execution_count": 58,
   "id": "496ac774",
   "metadata": {},
   "outputs": [
    {
     "data": {
      "text/html": [
       "<div>\n",
       "<style scoped>\n",
       "    .dataframe tbody tr th:only-of-type {\n",
       "        vertical-align: middle;\n",
       "    }\n",
       "\n",
       "    .dataframe tbody tr th {\n",
       "        vertical-align: top;\n",
       "    }\n",
       "\n",
       "    .dataframe thead th {\n",
       "        text-align: right;\n",
       "    }\n",
       "</style>\n",
       "<table border=\"1\" class=\"dataframe\">\n",
       "  <thead>\n",
       "    <tr style=\"text-align: right;\">\n",
       "      <th></th>\n",
       "      <th>Actual</th>\n",
       "      <th>LR</th>\n",
       "      <th>SVR</th>\n",
       "      <th>RFR</th>\n",
       "      <th>GBR</th>\n",
       "    </tr>\n",
       "  </thead>\n",
       "  <tbody>\n",
       "    <tr>\n",
       "      <th>900</th>\n",
       "      <td>8688.85885</td>\n",
       "      <td>8078.883432</td>\n",
       "      <td>9285.136026</td>\n",
       "      <td>10572.829802</td>\n",
       "      <td>10341.983604</td>\n",
       "    </tr>\n",
       "    <tr>\n",
       "      <th>1064</th>\n",
       "      <td>5708.86700</td>\n",
       "      <td>5777.020824</td>\n",
       "      <td>9161.121031</td>\n",
       "      <td>5923.810010</td>\n",
       "      <td>7089.440264</td>\n",
       "    </tr>\n",
       "    <tr>\n",
       "      <th>1256</th>\n",
       "      <td>11436.73815</td>\n",
       "      <td>14429.162942</td>\n",
       "      <td>9303.980392</td>\n",
       "      <td>12264.965855</td>\n",
       "      <td>13139.748337</td>\n",
       "    </tr>\n",
       "    <tr>\n",
       "      <th>298</th>\n",
       "      <td>38746.35510</td>\n",
       "      <td>31815.196130</td>\n",
       "      <td>9174.394389</td>\n",
       "      <td>43739.466119</td>\n",
       "      <td>38773.443521</td>\n",
       "    </tr>\n",
       "    <tr>\n",
       "      <th>237</th>\n",
       "      <td>4463.20510</td>\n",
       "      <td>8917.201233</td>\n",
       "      <td>9177.242681</td>\n",
       "      <td>5793.917995</td>\n",
       "      <td>5635.883371</td>\n",
       "    </tr>\n",
       "    <tr>\n",
       "      <th>...</th>\n",
       "      <td>...</td>\n",
       "      <td>...</td>\n",
       "      <td>...</td>\n",
       "      <td>...</td>\n",
       "      <td>...</td>\n",
       "    </tr>\n",
       "    <tr>\n",
       "      <th>534</th>\n",
       "      <td>13831.11520</td>\n",
       "      <td>16709.281918</td>\n",
       "      <td>9363.510312</td>\n",
       "      <td>14202.567377</td>\n",
       "      <td>13797.573655</td>\n",
       "    </tr>\n",
       "    <tr>\n",
       "      <th>542</th>\n",
       "      <td>13887.20400</td>\n",
       "      <td>15227.112864</td>\n",
       "      <td>9362.864356</td>\n",
       "      <td>14414.513308</td>\n",
       "      <td>15095.850464</td>\n",
       "    </tr>\n",
       "    <tr>\n",
       "      <th>760</th>\n",
       "      <td>3925.75820</td>\n",
       "      <td>6402.296010</td>\n",
       "      <td>9135.164507</td>\n",
       "      <td>13194.003883</td>\n",
       "      <td>7782.714047</td>\n",
       "    </tr>\n",
       "    <tr>\n",
       "      <th>1284</th>\n",
       "      <td>47403.88000</td>\n",
       "      <td>38527.338012</td>\n",
       "      <td>9355.854437</td>\n",
       "      <td>47266.678850</td>\n",
       "      <td>49338.444272</td>\n",
       "    </tr>\n",
       "    <tr>\n",
       "      <th>1285</th>\n",
       "      <td>8534.67180</td>\n",
       "      <td>8261.679235</td>\n",
       "      <td>9273.328628</td>\n",
       "      <td>14523.210199</td>\n",
       "      <td>12418.942028</td>\n",
       "    </tr>\n",
       "  </tbody>\n",
       "</table>\n",
       "<p>268 rows × 5 columns</p>\n",
       "</div>"
      ],
      "text/plain": [
       "           Actual            LR          SVR           RFR           GBR\n",
       "900    8688.85885   8078.883432  9285.136026  10572.829802  10341.983604\n",
       "1064   5708.86700   5777.020824  9161.121031   5923.810010   7089.440264\n",
       "1256  11436.73815  14429.162942  9303.980392  12264.965855  13139.748337\n",
       "298   38746.35510  31815.196130  9174.394389  43739.466119  38773.443521\n",
       "237    4463.20510   8917.201233  9177.242681   5793.917995   5635.883371\n",
       "...           ...           ...          ...           ...           ...\n",
       "534   13831.11520  16709.281918  9363.510312  14202.567377  13797.573655\n",
       "542   13887.20400  15227.112864  9362.864356  14414.513308  15095.850464\n",
       "760    3925.75820   6402.296010  9135.164507  13194.003883   7782.714047\n",
       "1284  47403.88000  38527.338012  9355.854437  47266.678850  49338.444272\n",
       "1285   8534.67180   8261.679235  9273.328628  14523.210199  12418.942028\n",
       "\n",
       "[268 rows x 5 columns]"
      ]
     },
     "execution_count": 58,
     "metadata": {},
     "output_type": "execute_result"
    }
   ],
   "source": [
    "data"
   ]
  },
  {
   "cell_type": "code",
   "execution_count": 59,
   "id": "edfa015d",
   "metadata": {},
   "outputs": [
    {
     "data": {
      "text/plain": [
       "<AxesSubplot:xlabel='Actual', ylabel='LR'>"
      ]
     },
     "execution_count": 59,
     "metadata": {},
     "output_type": "execute_result"
    },
    {
     "data": {
      "image/png": "[encoded data removed]",
      "text/plain": [
       "<Figure size 800x700 with 1 Axes>"
      ]
     },
     "metadata": {},
     "output_type": "display_data"
    }
   ],
   "source": [
    "plt.figure(figsize = (8,7))\n",
    "sns.lineplot(x = 'Actual', y='LR' ,data = data)"
   ]
  },
  {
   "cell_type": "code",
   "execution_count": 60,
   "id": "e7ee0e60",
   "metadata": {},
   "outputs": [
    {
     "data": {
      "text/plain": [
       "<AxesSubplot:xlabel='Actual', ylabel='SVR'>"
      ]
     },
     "execution_count": 60,
     "metadata": {},
     "output_type": "execute_result"
    },
    {
     "data": {
      "image/png": "[encoded data removed]",
      "text/plain": [
       "<Figure size 800x700 with 1 Axes>"
      ]
     },
     "metadata": {},
     "output_type": "display_data"
    }
   ],
   "source": [
    "plt.figure(figsize = (8,7))\n",
    "sns.lineplot(x = 'Actual', y='SVR' ,data = data)"
   ]
  },
  {
   "cell_type": "code",
   "execution_count": 61,
   "id": "b27c05a2",
   "metadata": {},
   "outputs": [
    {
     "data": {
      "text/plain": [
       "<AxesSubplot:xlabel='Actual', ylabel='RFR'>"
      ]
     },
     "execution_count": 61,
     "metadata": {},
     "output_type": "execute_result"
    },
    {
     "data": {
      "image/png": "[encoded data removed]",
      "text/plain": [
       "<Figure size 800x700 with 1 Axes>"
      ]
     },
     "metadata": {},
     "output_type": "display_data"
    }
   ],
   "source": [
    "plt.figure(figsize = (8,7))\n",
    "sns.lineplot(x = 'Actual', y='RFR' ,data = data)"
   ]
  },
  {
   "cell_type": "code",
   "execution_count": 62,
   "id": "cbedc7fe",
   "metadata": {},
   "outputs": [
    {
     "data": {
      "text/plain": [
       "<AxesSubplot:xlabel='Actual', ylabel='GBR'>"
      ]
     },
     "execution_count": 62,
     "metadata": {},
     "output_type": "execute_result"
    },
    {
     "data": {
      "image/png": "[encoded data removed]",
      "text/plain": [
       "<Figure size 800x700 with 1 Axes>"
      ]
     },
     "metadata": {},
     "output_type": "display_data"
    }
   ],
   "source": [
    "plt.figure(figsize = (8,7))\n",
    "sns.lineplot(x = 'Actual', y='GBR' ,data = data)"
   ]
  },
  {
   "cell_type": "code",
   "execution_count": 63,
   "id": "b9241126",
   "metadata": {},
   "outputs": [
    {
     "data": {
      "text/plain": [
       "<matplotlib.legend.Legend at 0x253f5cdc370>"
      ]
     },
     "execution_count": 63,
     "metadata": {},
     "output_type": "execute_result"
    },
    {
     "data": {
      "image/png": "[encoded data removed]",
      "text/plain": [
       "<Figure size 640x480 with 4 Axes>"
      ]
     },
     "metadata": {},
     "output_type": "display_data"
    }
   ],
   "source": [
    "plt.subplot(221)\n",
    "plt.plot(data['Actual'].iloc[0:11],label ='Actual')\n",
    "plt.plot(data['SVR'].iloc[0:11],label = 'SVM')\n",
    "plt.legend()\n",
    "#SVM\n",
    "plt.subplot(222)\n",
    "plt.plot(data['Actual'].iloc[0:22],label ='Actual')\n",
    "plt.plot(data['LR'].iloc[0:22],label = 'LR')\n",
    "plt.legend()\n",
    "#RFR\n",
    "plt.subplot(223)\n",
    "plt.plot(data['Actual'].iloc[0:22],label ='Actual')\n",
    "plt.plot(data['RFR'].iloc[0:22],label = 'RFR')\n",
    "plt.legend()\n",
    "#GBR\n",
    "plt.subplot(224)\n",
    "plt.plot(data['Actual'].iloc[0:22],label ='Actual')\n",
    "plt.plot(data['GBR'].iloc[0:22],label = 'GBR')\n",
    "plt.legend()"
   ]
  },
  {
   "cell_type": "code",
   "execution_count": 64,
   "id": "9a5bb553",
   "metadata": {},
   "outputs": [],
   "source": [
    "from sklearn import metrics"
   ]
  },
  {
   "cell_type": "markdown",
   "id": "7f10253e",
   "metadata": {},
   "source": [
    "# Eavluating the algorthom"
   ]
  },
  {
   "cell_type": "code",
   "execution_count": 65,
   "id": "89ae6154",
   "metadata": {},
   "outputs": [],
   "source": [
    "score1 = metrics.r2_score(Y_test, y_pred)\n",
    "score2 =metrics.r2_score(Y_test, y_predsvm)\n",
    "score3 = metrics.r2_score(Y_test, y_predrfr)\n",
    "score4 = metrics.r2_score(Y_test, y_predgbr)"
   ]
  },
  {
   "cell_type": "code",
   "execution_count": 66,
   "id": "085d5133",
   "metadata": {},
   "outputs": [
    {
     "name": "stdout",
     "output_type": "stream",
     "text": [
      "0.8068900372589176 -0.1344469585614272 0.8825847058074459 0.9014450682648614\n"
     ]
    }
   ],
   "source": [
    "print(score1,score2,score3,score4)"
   ]
  },
  {
   "cell_type": "code",
   "execution_count": 67,
   "id": "63b5f85b",
   "metadata": {},
   "outputs": [],
   "source": [
    "## Errors \n",
    "## Mean Square Error \n",
    "mse1 = metrics.mean_squared_error(Y_test, y_pred)\n",
    "mse2 = metrics.mean_squared_error(Y_test, y_predsvm)\n",
    "mse3 = metrics.mean_squared_error(Y_test, y_predrfr)\n",
    "mse4 = metrics.mean_squared_error(Y_test, y_predgbr)"
   ]
  },
  {
   "cell_type": "code",
   "execution_count": 68,
   "id": "fbc29a08",
   "metadata": {},
   "outputs": [
    {
     "name": "stdout",
     "output_type": "stream",
     "text": [
      "35485126.68042464 208461507.96864402 21575772.3190515 18110066.347488318\n"
     ]
    }
   ],
   "source": [
    "print(mse1,mse2,mse3,mse4)"
   ]
  },
  {
   "cell_type": "code",
   "execution_count": 69,
   "id": "0d97c983",
   "metadata": {},
   "outputs": [],
   "source": [
    "#mean absolute precentage error"
   ]
  },
  {
   "cell_type": "code",
   "execution_count": 70,
   "id": "31282ed8",
   "metadata": {},
   "outputs": [],
   "source": [
    "s1 = metrics.mean_absolute_percentage_error(Y_test, y_pred)\n",
    "s2 = metrics.mean_absolute_percentage_error(Y_test, y_predsvm)\n",
    "s3 = metrics.mean_absolute_percentage_error(Y_test, y_predrfr)\n",
    "s4 = metrics.mean_absolute_percentage_error(Y_test, y_predgbr)"
   ]
  },
  {
   "cell_type": "code",
   "execution_count": 71,
   "id": "198ae0b2",
   "metadata": {},
   "outputs": [
    {
     "name": "stdout",
     "output_type": "stream",
     "text": [
      "0.4127170975863137 1.0219824978763867 0.3623206176891765 0.33145725252768654\n"
     ]
    }
   ],
   "source": [
    "print(s1,s2,s3,s4)"
   ]
  },
  {
   "cell_type": "code",
   "execution_count": 72,
   "id": "aff464a0",
   "metadata": {},
   "outputs": [
    {
     "data": {
      "text/plain": [
       "Index(['age', 'bmi', 'children', 'region', 'charges', 'smoker_num', 'sex_num'], dtype='object')"
      ]
     },
     "execution_count": 72,
     "metadata": {},
     "output_type": "execute_result"
    }
   ],
   "source": [
    "#predicting charges for new customer\n",
    "DF.columns"
   ]
  },
  {
   "cell_type": "code",
   "execution_count": 73,
   "id": "4167bbe3",
   "metadata": {},
   "outputs": [
    {
     "data": {
      "text/html": [
       "<div>\n",
       "<style scoped>\n",
       "    .dataframe tbody tr th:only-of-type {\n",
       "        vertical-align: middle;\n",
       "    }\n",
       "\n",
       "    .dataframe tbody tr th {\n",
       "        vertical-align: top;\n",
       "    }\n",
       "\n",
       "    .dataframe thead th {\n",
       "        text-align: right;\n",
       "    }\n",
       "</style>\n",
       "<table border=\"1\" class=\"dataframe\">\n",
       "  <thead>\n",
       "    <tr style=\"text-align: right;\">\n",
       "      <th></th>\n",
       "      <th>age</th>\n",
       "      <th>bmi</th>\n",
       "      <th>children</th>\n",
       "      <th>region</th>\n",
       "      <th>charges</th>\n",
       "      <th>smoker_num</th>\n",
       "      <th>sex_num</th>\n",
       "    </tr>\n",
       "  </thead>\n",
       "  <tbody>\n",
       "    <tr>\n",
       "      <th>0</th>\n",
       "      <td>19</td>\n",
       "      <td>27.90</td>\n",
       "      <td>0</td>\n",
       "      <td>1</td>\n",
       "      <td>16884.9240</td>\n",
       "      <td>1</td>\n",
       "      <td>0</td>\n",
       "    </tr>\n",
       "    <tr>\n",
       "      <th>1</th>\n",
       "      <td>18</td>\n",
       "      <td>33.77</td>\n",
       "      <td>1</td>\n",
       "      <td>0</td>\n",
       "      <td>1725.5523</td>\n",
       "      <td>0</td>\n",
       "      <td>1</td>\n",
       "    </tr>\n",
       "  </tbody>\n",
       "</table>\n",
       "</div>"
      ],
      "text/plain": [
       "   age    bmi  children  region     charges  smoker_num  sex_num\n",
       "0   19  27.90         0       1  16884.9240           1        0\n",
       "1   18  33.77         1       0   1725.5523           0        1"
      ]
     },
     "execution_count": 73,
     "metadata": {},
     "output_type": "execute_result"
    }
   ],
   "source": [
    "DF.head(2)"
   ]
  },
  {
   "cell_type": "code",
   "execution_count": 74,
   "id": "3e7ff43e",
   "metadata": {},
   "outputs": [
    {
     "data": {
      "text/html": [
       "<div>\n",
       "<style scoped>\n",
       "    .dataframe tbody tr th:only-of-type {\n",
       "        vertical-align: middle;\n",
       "    }\n",
       "\n",
       "    .dataframe tbody tr th {\n",
       "        vertical-align: top;\n",
       "    }\n",
       "\n",
       "    .dataframe thead th {\n",
       "        text-align: right;\n",
       "    }\n",
       "</style>\n",
       "<table border=\"1\" class=\"dataframe\">\n",
       "  <thead>\n",
       "    <tr style=\"text-align: right;\">\n",
       "      <th></th>\n",
       "      <th>age</th>\n",
       "      <th>bmi</th>\n",
       "      <th>children</th>\n",
       "      <th>region</th>\n",
       "      <th>smoker_num</th>\n",
       "      <th>sex_num</th>\n",
       "    </tr>\n",
       "  </thead>\n",
       "  <tbody>\n",
       "    <tr>\n",
       "      <th>0</th>\n",
       "      <td>22</td>\n",
       "      <td>33.22</td>\n",
       "      <td>1</td>\n",
       "      <td>0</td>\n",
       "      <td>0</td>\n",
       "      <td>1</td>\n",
       "    </tr>\n",
       "  </tbody>\n",
       "</table>\n",
       "</div>"
      ],
      "text/plain": [
       "   age    bmi  children  region  smoker_num  sex_num\n",
       "0   22  33.22         1       0           0        1"
      ]
     },
     "execution_count": 74,
     "metadata": {},
     "output_type": "execute_result"
    }
   ],
   "source": [
    "df1 = {'age':22,'bmi':33.22,'children':1,'region':0,'smoker_num':0,'sex_num':1}\n",
    "new_data = pd.DataFrame(df1 , index = [0])\n",
    "new_data"
   ]
  },
  {
   "cell_type": "code",
   "execution_count": null,
   "id": "b7e9fcfe",
   "metadata": {},
   "outputs": [],
   "source": []
  },
  {
   "cell_type": "code",
   "execution_count": 75,
   "id": "b009f88c",
   "metadata": {},
   "outputs": [
    {
     "data": {
      "text/plain": [
       "GradientBoostingRegressor()"
      ]
     },
     "execution_count": 75,
     "metadata": {},
     "output_type": "execute_result"
    }
   ],
   "source": [
    "gr = GradientBoostingRegressor()\n",
    "gr.fit(X,Y)"
   ]
  },
  {
   "cell_type": "code",
   "execution_count": 83,
   "id": "d773244f",
   "metadata": {},
   "outputs": [
    {
     "name": "stdout",
     "output_type": "stream",
     "text": [
      "[3841.98000609]\n"
     ]
    }
   ],
   "source": [
    "new_pred = gr.predict(new_data)\n",
    "print(new_pred)"
   ]
  },
  {
   "cell_type": "markdown",
   "id": "163a1972",
   "metadata": {},
   "source": [
    "# Save Model using JOblib"
   ]
  },
  {
   "cell_type": "code",
   "execution_count": 77,
   "id": "0c85e8e9",
   "metadata": {},
   "outputs": [],
   "source": [
    "import joblib"
   ]
  },
  {
   "cell_type": "code",
   "execution_count": 78,
   "id": "4ecbb7c5",
   "metadata": {},
   "outputs": [
    {
     "data": {
      "text/plain": [
       "['model_joblib_gr']"
      ]
     },
     "execution_count": 78,
     "metadata": {},
     "output_type": "execute_result"
    }
   ],
   "source": [
    "joblib.dump(gr,'model_joblib_gr')"
   ]
  },
  {
   "cell_type": "code",
   "execution_count": 79,
   "id": "767e19ef",
   "metadata": {},
   "outputs": [],
   "source": [
    "model = joblib.load('model_joblib_gr')"
   ]
  },
  {
   "cell_type": "code",
   "execution_count": 80,
   "id": "5d516a82",
   "metadata": {},
   "outputs": [
    {
     "name": "stdout",
     "output_type": "stream",
     "text": [
      "[3841.98000609]\n"
     ]
    }
   ],
   "source": [
    "model_predict = model.predict(new_data)\n",
    "print(model_predict)"
   ]
  },
  {
   "cell_type": "code",
   "execution_count": null,
   "id": "db34d7de",
   "metadata": {},
   "outputs": [],
   "source": []
  },
  {
   "cell_type": "code",
   "execution_count": null,
   "id": "b0589864",
   "metadata": {},
   "outputs": [],
   "source": []
  }
 ],
 "metadata": {
  "kernelspec": {
   "display_name": "Python 3 (ipykernel)",
   "language": "python",
   "name": "python3"
  },
  "language_info": {
   "codemirror_mode": {
    "name": "ipython",
    "version": 3
   },
   "file_extension": ".py",
   "mimetype": "text/x-python",
   "name": "python",
   "nbconvert_exporter": "python",
   "pygments_lexer": "ipython3",
   "version": "3.9.13"
  }
 },
 "nbformat": 4,
 "nbformat_minor": 5
}
