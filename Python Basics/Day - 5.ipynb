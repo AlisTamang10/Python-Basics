{
 "cells": [
  {
   "cell_type": "code",
   "execution_count": 1,
   "id": "1e9c3872",
   "metadata": {},
   "outputs": [],
   "source": [
    "#access specifier \n",
    "#Public\n",
    "#Protected\n",
    "#Private \n"
   ]
  },
  {
   "cell_type": "code",
   "execution_count": 3,
   "id": "d5ef64a4",
   "metadata": {},
   "outputs": [
    {
     "data": {
      "text/plain": [
       "'This is public class'"
      ]
     },
     "execution_count": 3,
     "metadata": {},
     "output_type": "execute_result"
    }
   ],
   "source": [
    "class MyClass:\n",
    "    def __init__(self):\n",
    "        self.public_vairable = \"I am public\"\n",
    "        \n",
    "    def public_method(self):\n",
    "        return \"This is public class\"\n",
    "obj = MyClass()\n",
    "obj.public_method()"
   ]
  },
  {
   "cell_type": "code",
   "execution_count": 4,
   "id": "0930c99a",
   "metadata": {},
   "outputs": [
    {
     "data": {
      "text/plain": [
       "'this is protected'"
      ]
     },
     "execution_count": 4,
     "metadata": {},
     "output_type": "execute_result"
    }
   ],
   "source": [
    "class Myclass:\n",
    "    def __init__(self):\n",
    "        self.protected_vairable = \"I am protected\"\n",
    "        \n",
    "    def protected_method(self):\n",
    "        self._protected = \"this is protected\"\n",
    "        return self._protected\n",
    "    \n",
    "obj = Myclass()\n",
    "obj.protected_method()"
   ]
  },
  {
   "cell_type": "code",
   "execution_count": 9,
   "id": "d3e16d4b",
   "metadata": {},
   "outputs": [
    {
     "data": {
      "text/plain": [
       "10000"
      ]
     },
     "execution_count": 9,
     "metadata": {},
     "output_type": "execute_result"
    }
   ],
   "source": [
    "class Employe:\n",
    "    \n",
    "    def __init__(self,name,employe_id,salary):\n",
    "        #public variables \n",
    "        self.name = name\n",
    "        self.employe_id = employe_id\n",
    "        self.salary = salary\n",
    "        \n",
    "        #protected variable\n",
    "        self._department = 'HR'\n",
    "        #private variable \n",
    "        self.__bonus = 10000\n",
    "        \n",
    "        #public ,method\n",
    "    def get_details(self):\n",
    "            print(\"Name:\",self.name,\"ID:\",self.employe_id,\"Salary:\",self.salary)\n",
    "            \n",
    "    def departmanet(self):\n",
    "            print(\"department is:\",self._department)\n",
    "            \n",
    "        #private method\n",
    "        \n",
    "    def bonus_1(self):\n",
    "            print(\"bonus is:\",self.__bonus)\n",
    "            \n",
    "            \n",
    "obj = Employe('abc',123,1000)\n",
    "obj._Employe__bonus\n",
    "            \n",
    "            "
   ]
  },
  {
   "cell_type": "code",
   "execution_count": 13,
   "id": "c7021ee5",
   "metadata": {},
   "outputs": [
    {
     "name": "stdout",
     "output_type": "stream",
     "text": [
      "Enter the name: sabin\n",
      "sabin is odd\n"
     ]
    }
   ],
   "source": [
    "def even_or_odd(name):\n",
    "    count = len(name)\n",
    "    if count%2 == 0 :\n",
    "        print(name,\"is even\")\n",
    "    else:\n",
    "        print(name, \"is odd\")\n",
    "        \n",
    "name = input(\"Enter the name: \")\n",
    "even_or_odd(name)"
   ]
  },
  {
   "cell_type": "code",
   "execution_count": 17,
   "id": "37e86303",
   "metadata": {},
   "outputs": [
    {
     "name": "stdout",
     "output_type": "stream",
     "text": [
      "['even', 'odd', 'odd']\n"
     ]
    }
   ],
   "source": [
    "#MAp\n",
    "def even_or_odd(name):\n",
    "    count = len(name)\n",
    "    if count%2 == 0 :\n",
    "        return 'even'\n",
    "    else:\n",
    "        return 'odd'\n",
    "        \n",
    "name = ['alis','sabin','pradeep']\n",
    "x = list(map(even_or_odd,name))\n",
    "print(x)"
   ]
  },
  {
   "cell_type": "code",
   "execution_count": 19,
   "id": "0d581fc4",
   "metadata": {},
   "outputs": [
    {
     "name": "stdout",
     "output_type": "stream",
     "text": [
      "[1, 4, 9, 16, 25, 36, 49, 64, 81]\n"
     ]
    }
   ],
   "source": [
    "# square\n",
    "\n",
    "def square(A):\n",
    "    \n",
    "    return A**2\n",
    "\n",
    "A = [1,2,3,4,5,6,7,8,9]\n",
    "x = list(map(square,A))\n",
    "print(x)"
   ]
  },
  {
   "cell_type": "markdown",
   "id": "ad77f8b6",
   "metadata": {},
   "source": [
    "# Filter "
   ]
  },
  {
   "cell_type": "code",
   "execution_count": 22,
   "id": "d09d8610",
   "metadata": {},
   "outputs": [
    {
     "data": {
      "text/plain": [
       "[2, 4, 6]"
      ]
     },
     "execution_count": 22,
     "metadata": {},
     "output_type": "execute_result"
    }
   ],
   "source": [
    "#find even num using filter\n",
    "\n",
    "def even_num(even):\n",
    "    \n",
    "    if even%2 == 0:\n",
    "        return True\n",
    "even = [1,2,3,4,6]\n",
    "total = list(filter(even_num,even))\n",
    "total"
   ]
  },
  {
   "cell_type": "code",
   "execution_count": 23,
   "id": "e0cc8184",
   "metadata": {},
   "outputs": [
    {
     "data": {
      "text/plain": [
       "[5, 10, 15, 30, 20, 25]"
      ]
     },
     "execution_count": 23,
     "metadata": {},
     "output_type": "execute_result"
    }
   ],
   "source": [
    "#find divisible by 5\n",
    "\n",
    "def div_by_5(num):\n",
    "    if num%5 == 0:\n",
    "        return True\n",
    "\n",
    "num = [6,7,5,4,10,11,12,15,16,30,20,25]\n",
    "x = list(filter(div_by_5,num))\n",
    "x"
   ]
  },
  {
   "cell_type": "markdown",
   "id": "05bb9c7c",
   "metadata": {},
   "source": [
    "# File Handling\n",
    "- open file\n",
    "- perform operation\n",
    "- close \n",
    "- Mode (Read, Write, Append)"
   ]
  },
  {
   "cell_type": "code",
   "execution_count": 31,
   "id": "20f2797c",
   "metadata": {},
   "outputs": [
    {
     "name": "stdout",
     "output_type": "stream",
     "text": [
      "\n",
      "Certainly! Could you please provide more details or specify the topic or theme you would like a passage about? That way, I can generate a passage that is more relevant and helpful for you.\n"
     ]
    }
   ],
   "source": [
    "var = open(r\"new_txt.txt\",'r+')\n",
    "print(var.read())\n",
    "#print(var)\n"
   ]
  },
  {
   "cell_type": "code",
   "execution_count": 33,
   "id": "a9baf69c",
   "metadata": {},
   "outputs": [
    {
     "name": "stdout",
     "output_type": "stream",
     "text": [
      "inly! Could you please provide more details or specify the topic or theme you would like a passage about? That way, I can generate a passage that is more relevant and helpful for you.\n"
     ]
    }
   ],
   "source": [
    "var.seek(5)\n",
    "print(var.read())"
   ]
  },
  {
   "cell_type": "code",
   "execution_count": null,
   "id": "2a0d1053",
   "metadata": {},
   "outputs": [],
   "source": []
  }
 ],
 "metadata": {
  "kernelspec": {
   "display_name": "Python 3 (ipykernel)",
   "language": "python",
   "name": "python3"
  },
  "language_info": {
   "codemirror_mode": {
    "name": "ipython",
    "version": 3
   },
   "file_extension": ".py",
   "mimetype": "text/x-python",
   "name": "python",
   "nbconvert_exporter": "python",
   "pygments_lexer": "ipython3",
   "version": "3.9.13"
  }
 },
 "nbformat": 4,
 "nbformat_minor": 5
}
