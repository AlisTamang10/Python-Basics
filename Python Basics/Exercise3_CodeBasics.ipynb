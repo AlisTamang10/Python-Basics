{
 "cells": [
  {
   "cell_type": "markdown",
   "id": "2948371b",
   "metadata": {},
   "source": [
    "# Functions\n",
    "    1. Write a function called calculate_area that takes base and height as an input and returns and area of a triangle. Equation of an area of a triangle is,\n",
    "    area = (1/2)*base*height"
   ]
  },
  {
   "cell_type": "code",
   "execution_count": 1,
   "id": "2089a3de",
   "metadata": {},
   "outputs": [
    {
     "name": "stdout",
     "output_type": "stream",
     "text": [
      "Enter the base of Triangle: 2\n",
      "Enter the height of Triangle: 4\n",
      "Area of Triangle is 4.0\n"
     ]
    }
   ],
   "source": [
    "def calculate_area(base,height):\n",
    "    \n",
    "    area = (1/2)*base*height\n",
    "    return area\n",
    "base = int(input(\"Enter the base of Triangle: \"))\n",
    "height = int(input(\"Enter the height of Triangle: \"))\n",
    "display = calculate_area(base,height)\n",
    "print(f'Area of Triangle is {display}')\n",
    "    "
   ]
  },
  {
   "cell_type": "markdown",
   "id": "450477b7",
   "metadata": {},
   "source": [
    "    Modify above function to take third parameter shape type. It can be either \"triangle\" or \"rectangle\". Based on shape type it will calculate area. Equation of rectangle's area is,\n",
    "    rectangle area=length*width"
   ]
  },
  {
   "cell_type": "code",
   "execution_count": 8,
   "id": "4dc1c9e3",
   "metadata": {},
   "outputs": [
    {
     "name": "stdout",
     "output_type": "stream",
     "text": [
      "Enter the dimension one:3\n",
      "Enter the  dimension two: 3\n",
      "Area of Triangle is 4.5\n",
      "Area of rectangle is 9\n"
     ]
    }
   ],
   "source": [
    "def calculate_area(dim1,dim2,shape):\n",
    "    \n",
    "    if shape == 'triangle':\n",
    "        area = (1/2)*dim1*dim2\n",
    "        return area\n",
    "    elif shape == 'rectangle':\n",
    "        area = dim1 * dim2\n",
    "        return area\n",
    "    else:\n",
    "        print(\"choose the shape appropriately\")\n",
    "        \n",
    "dim1 = int(input(\"Enter the dimension one:\"))\n",
    "dim2 = int(input(\"Enter the  dimension two: \"))\n",
    "display_traingle = calculate_area(dim1,dim2,'triangle')\n",
    "print(f'Area of Triangle is {display_traingle}')\n",
    "\n",
    "display_retangle = calculate_area(dim1,dim2,'rectangle')\n",
    "print(f'Area of rectangle is {display_retangle}')\n",
    "    "
   ]
  },
  {
   "cell_type": "markdown",
   "id": "bc7b4412",
   "metadata": {},
   "source": [
    "    Write a function called print_pattern that takes integer number as an argument and prints following pattern if input number is 3,\n",
    "    *\n",
    "    **\n",
    "    ***\n"
   ]
  },
  {
   "cell_type": "code",
   "execution_count": 22,
   "id": "891aed76",
   "metadata": {},
   "outputs": [
    {
     "name": "stdout",
     "output_type": "stream",
     "text": [
      "Enter the number: 3\n",
      "*\n",
      "**\n",
      "***\n"
     ]
    }
   ],
   "source": [
    "def print_pattern(num=5):\n",
    "    \n",
    "    for i in range(1,num+1):\n",
    "        pattern = '*'* i\n",
    "        print(pattern)\n",
    "        \n",
    "input1 = int(input(\"Enter the number: \"))  \n",
    "print_pattern(input1)\n",
    "# print_pattern()\n",
    "\n"
   ]
  },
  {
   "cell_type": "code",
   "execution_count": null,
   "id": "48de9b58",
   "metadata": {},
   "outputs": [],
   "source": []
  }
 ],
 "metadata": {
  "kernelspec": {
   "display_name": "Python 3 (ipykernel)",
   "language": "python",
   "name": "python3"
  },
  "language_info": {
   "codemirror_mode": {
    "name": "ipython",
    "version": 3
   },
   "file_extension": ".py",
   "mimetype": "text/x-python",
   "name": "python",
   "nbconvert_exporter": "python",
   "pygments_lexer": "ipython3",
   "version": "3.9.13"
  }
 },
 "nbformat": 4,
 "nbformat_minor": 5
}
