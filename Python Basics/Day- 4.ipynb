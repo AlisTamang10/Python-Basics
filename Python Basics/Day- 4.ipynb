{
 "cells": [
  {
   "cell_type": "markdown",
   "id": "b20d301f",
   "metadata": {},
   "source": [
    "# Inheritance "
   ]
  },
  {
   "cell_type": "code",
   "execution_count": 1,
   "id": "d8bbeb3b",
   "metadata": {},
   "outputs": [],
   "source": [
    "#single\n",
    "#parent class __--> derived class\n",
    "#Multiple class ---> double parent class\n",
    "#multilevel ___> base class --> derived class -- derived class\n",
    "#hybrid class ---> base class and its two derived class then three of the can inherit on new hypbrid derived class\n"
   ]
  },
  {
   "cell_type": "code",
   "execution_count": 4,
   "id": "36759edb",
   "metadata": {},
   "outputs": [
    {
     "name": "stdout",
     "output_type": "stream",
     "text": [
      "animal\n",
      "Dog\n",
      "animal can speak\n",
      "animal can eat\n"
     ]
    }
   ],
   "source": [
    "#single inheritance\n",
    "class Animal():\n",
    "    \n",
    "    def ___init___(self):\n",
    "        print(\"animal was created\")\n",
    "    \n",
    "    def whois(self):\n",
    "        print(\"animal\")\n",
    "    def eat(self):\n",
    "        print(\"animal can eat\")\n",
    "    def speak(self):\n",
    "        print(\"animal can speak\")\n",
    "        \n",
    "#derived class\n",
    "\n",
    "class Dog(Animal):\n",
    "    \n",
    "    def whois(self):\n",
    "        print('Dog')\n",
    "        \n",
    "\n",
    "b = Dog()\n",
    "b.whois()\n",
    "b.speak()\n",
    "b.eat()\n",
    "        "
   ]
  },
  {
   "cell_type": "code",
   "execution_count": 8,
   "id": "bf8e48e2",
   "metadata": {},
   "outputs": [
    {
     "name": "stdout",
     "output_type": "stream",
     "text": [
      "bird chirp\n",
      "make sound\n"
     ]
    }
   ],
   "source": [
    "#multiple inheritance\n",
    "\n",
    "class Bird:\n",
    "    \n",
    "    def Chirp(self):\n",
    "        print(\"bird chirp\")\n",
    "        \n",
    "class Mammal:\n",
    "    def make_sound(self):\n",
    "        print(\"make sound\")\n",
    "        \n",
    "class Bat(Bird,Mammal):\n",
    "    pass\n",
    "\n",
    "b = Bat()\n",
    "b.Chirp()\n",
    "b.make_sound()\n"
   ]
  },
  {
   "cell_type": "code",
   "execution_count": 11,
   "id": "e4278b5a",
   "metadata": {},
   "outputs": [
    {
     "name": "stdout",
     "output_type": "stream",
     "text": [
      "Animal can eat\n",
      "Mammal can breath\n",
      "Dolphin can swim\n"
     ]
    }
   ],
   "source": [
    "#multilevel inheritance\n",
    "\n",
    "class Animal:\n",
    "    \n",
    "    def eat(self):\n",
    "        print(\"Animal can eat\")\n",
    "        \n",
    "class Mammal(Animal):\n",
    "    \n",
    "    def breath(self):\n",
    "        print(\"Mammal can breath\")\n",
    "        \n",
    "class Dolhpin(Mammal):\n",
    "    \n",
    "    def swim(self):\n",
    "        print(\"Dolphin can swim\")\n",
    "        \n",
    "d = Dolhpin()\n",
    "d.eat()\n",
    "d.breath()\n",
    "d.swim()"
   ]
  },
  {
   "cell_type": "code",
   "execution_count": 12,
   "id": "5d25123b",
   "metadata": {},
   "outputs": [
    {
     "name": "stdout",
     "output_type": "stream",
     "text": [
      "animal can eat\n",
      "they can breath\n",
      "Bat can fly\n"
     ]
    }
   ],
   "source": [
    "#hierachical inheritance\n",
    "class Animal:\n",
    "    def eat(self):\n",
    "        print(\"animal can eat\")\n",
    "        \n",
    "class Mammal(Animal):\n",
    "    def breath(self):\n",
    "        print(\"they can breath\")\n",
    "        \n",
    "class Cat(Animal):\n",
    "    def eat(self):\n",
    "        print('cat can eat food')\n",
    "        \n",
    "class Dog(Mammal):\n",
    "    def eyes(self):\n",
    "        print (\"dogs can see\")\n",
    "        \n",
    "class Bat(Mammal):\n",
    "    def fly(self):\n",
    "        print(\"Bat can fly\")\n",
    "        \n",
    "b = Bat()\n",
    "b.eat()\n",
    "b.breath()\n",
    "b.fly()\n",
    "        \n",
    "        "
   ]
  },
  {
   "cell_type": "code",
   "execution_count": 13,
   "id": "e33b2c9a",
   "metadata": {},
   "outputs": [
    {
     "name": "stdout",
     "output_type": "stream",
     "text": [
      "Can eat\n",
      "dog can walk\n",
      "animal can breathe\n"
     ]
    }
   ],
   "source": [
    "#hybrid inheritance\n",
    "\n",
    "class Animal:\n",
    "    def eat(self):\n",
    "        print(\"Animal can eat\")\n",
    "        \n",
    "class Mammal(Animal):\n",
    "    def breathe(self):\n",
    "        print(\"animal can breathe\")\n",
    "class Cat(Animal):\n",
    "    def eat(self):\n",
    "        print(\"Can eat\")\n",
    "        \n",
    "class Dog(Mammal,Cat):\n",
    "    def walk(self):\n",
    "        print(\"dog can walk\")\n",
    "        \n",
    "d = Dog()\n",
    "d.eat()\n",
    "d.walk()\n",
    "d.breathe()"
   ]
  },
  {
   "cell_type": "code",
   "execution_count": 14,
   "id": "00be05d3",
   "metadata": {},
   "outputs": [],
   "source": [
    "#implemet a simple banking system using inheritance (with function overriding),with classes such  as account, saving account and \n",
    "#checking account"
   ]
  },
  {
   "cell_type": "markdown",
   "id": "f06b5ee8",
   "metadata": {},
   "source": [
    "## Types of arguments"
   ]
  },
  {
   "cell_type": "code",
   "execution_count": 16,
   "id": "a2abb4a1",
   "metadata": {},
   "outputs": [
    {
     "data": {
      "text/plain": [
       "5"
      ]
     },
     "execution_count": 16,
     "metadata": {},
     "output_type": "execute_result"
    }
   ],
   "source": [
    "#positional argument\n",
    "def add(x,y):\n",
    "    return x + y\n",
    "r = add(2,3)\n",
    "r"
   ]
  },
  {
   "cell_type": "code",
   "execution_count": 17,
   "id": "4b6d512f",
   "metadata": {},
   "outputs": [
    {
     "name": "stdout",
     "output_type": "stream",
     "text": [
      "hello,Arpit! Nothing is there\n"
     ]
    }
   ],
   "source": [
    "#keyword arguments\n",
    "def great(name,message):\n",
    "    print(f\"hello,{name}!{message}\")\n",
    "    \n",
    "great(message=\" Nothing is there\",name = 'Arpit')\n"
   ]
  },
  {
   "cell_type": "code",
   "execution_count": 18,
   "id": "1f36f17b",
   "metadata": {},
   "outputs": [
    {
     "data": {
      "text/plain": [
       "9"
      ]
     },
     "execution_count": 18,
     "metadata": {},
     "output_type": "execute_result"
    }
   ],
   "source": [
    "# default argument\n",
    "def add (x,y=6):\n",
    "    return x +y\n",
    "r = add(3)\n",
    "r"
   ]
  },
  {
   "cell_type": "code",
   "execution_count": null,
   "id": "3390f5d7",
   "metadata": {},
   "outputs": [],
   "source": []
  },
  {
   "cell_type": "code",
   "execution_count": null,
   "id": "af673729",
   "metadata": {},
   "outputs": [],
   "source": []
  }
 ],
 "metadata": {
  "kernelspec": {
   "display_name": "Python 3 (ipykernel)",
   "language": "python",
   "name": "python3"
  },
  "language_info": {
   "codemirror_mode": {
    "name": "ipython",
    "version": 3
   },
   "file_extension": ".py",
   "mimetype": "text/x-python",
   "name": "python",
   "nbconvert_exporter": "python",
   "pygments_lexer": "ipython3",
   "version": "3.9.13"
  }
 },
 "nbformat": 4,
 "nbformat_minor": 5
}
