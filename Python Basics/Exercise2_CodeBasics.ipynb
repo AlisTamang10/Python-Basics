{
 "cells": [
  {
   "cell_type": "markdown",
   "id": "f3a9eed1",
   "metadata": {},
   "source": [
    "# List\n",
    "1. Let us say your expense for every month are listed below,\n",
    "   i. January - 2200\n",
    "   ii.February - 2350\n",
    "   iii. March - 2600\n",
    "   iv. April - 2130\n",
    "   v. May - 2190\n",
    "   \n",
    "Create a list to store these monthly expenses and using that find out,\n",
    "\n",
    "1. In Feb, how many dollars you spent extra compare to January?\n",
    "2. Find out your total expense in first quarter (first three months) of the year.\n",
    "3. Find out if you spent exactly 2000 dollars in any month\n",
    "4. June month just finished and your expense is 1980 dollar. Add this item to our monthly expense list\n",
    "5. You returned an item that you bought in a month of April and\n",
    "got a refund of 200$. Make a correction to your monthly expense list\n",
    "based on this"
   ]
  },
  {
   "cell_type": "code",
   "execution_count": 4,
   "id": "9c81cffb",
   "metadata": {},
   "outputs": [
    {
     "name": "stdout",
     "output_type": "stream",
     "text": [
      "extra expense used in feb 150\n"
     ]
    }
   ],
   "source": [
    "#1\n",
    "month_exp = [2200,2350,2600,2130,2190]\n",
    "extra_compare_january = month_exp[1] - month_exp[0]\n",
    "print(f'extra expense used in feb {extra_compare_january}')"
   ]
  },
  {
   "cell_type": "code",
   "execution_count": 5,
   "id": "a976b97d",
   "metadata": {},
   "outputs": [
    {
     "data": {
      "text/plain": [
       "[2200, 2350, 2600]"
      ]
     },
     "execution_count": 5,
     "metadata": {},
     "output_type": "execute_result"
    }
   ],
   "source": [
    "#2\n",
    "first_quater = month_exp[:-2]\n",
    "first_quater"
   ]
  },
  {
   "cell_type": "code",
   "execution_count": 12,
   "id": "2e3466c5",
   "metadata": {},
   "outputs": [
    {
     "data": {
      "text/plain": [
       "7150"
      ]
     },
     "execution_count": 12,
     "metadata": {},
     "output_type": "execute_result"
    }
   ],
   "source": [
    "sum_first_quarter = month_exp[0]+month_exp[1]+month_exp[2]\n",
    "sum_first_quarter\n",
    "    "
   ]
  },
  {
   "cell_type": "code",
   "execution_count": 11,
   "id": "29315475",
   "metadata": {},
   "outputs": [
    {
     "name": "stdout",
     "output_type": "stream",
     "text": [
      "7150\n"
     ]
    }
   ],
   "source": [
    "total_sum = 0\n",
    "for i in first_quater:\n",
    "    total_sum = total_sum + i\n",
    "print(total_sum)"
   ]
  },
  {
   "cell_type": "code",
   "execution_count": 15,
   "id": "c6483307",
   "metadata": {},
   "outputs": [
    {
     "data": {
      "text/plain": [
       "False"
      ]
     },
     "execution_count": 15,
     "metadata": {},
     "output_type": "execute_result"
    }
   ],
   "source": [
    "#3 \n",
    "guess = 2000 in month_exp\n",
    "guess"
   ]
  },
  {
   "cell_type": "code",
   "execution_count": 17,
   "id": "e2bd7e42",
   "metadata": {},
   "outputs": [
    {
     "data": {
      "text/plain": [
       "[2200, 2350, 2600, 2130, 2190, 1980, 1980]"
      ]
     },
     "execution_count": 17,
     "metadata": {},
     "output_type": "execute_result"
    }
   ],
   "source": [
    "#4\n",
    "month_exp.append(1980)\n",
    "month_exp"
   ]
  },
  {
   "cell_type": "code",
   "execution_count": 18,
   "id": "c98bcded",
   "metadata": {},
   "outputs": [
    {
     "data": {
      "text/plain": [
       "[2200, 2350, 2600, 1930, 2190, 1980, 1980]"
      ]
     },
     "execution_count": 18,
     "metadata": {},
     "output_type": "execute_result"
    }
   ],
   "source": [
    "#5\n",
    "month_exp[3] = month_exp[3] - 200\n",
    "month_exp"
   ]
  },
  {
   "cell_type": "markdown",
   "id": "1960b982",
   "metadata": {},
   "source": [
    "   You have a list of your favourite marvel super heros.\n",
    "   heros=['spider man','thor','hulk','iron man','captain america']\n",
    "   Using this find out,\n",
    "\n",
    "1. Length of the list\n",
    "2. Add 'black panther' at the end of this list\n",
    "3. You realize that you need to add 'black panther' after 'hulk',\n",
    "   so remove it from the list first and then add it after 'hulk'\n",
    "4. Now you don't like thor and hulk because they get angry easily :)\n",
    "   So you want to remove thor and hulk from list and replace them with doctor strange (because he is cool).\n",
    "   Do that with one line of code.\n",
    "5. Sort the heros list in alphabetical order (Hint. Use dir() functions to list down all functions available in list)"
   ]
  },
  {
   "cell_type": "code",
   "execution_count": 19,
   "id": "e59d8b03",
   "metadata": {},
   "outputs": [
    {
     "data": {
      "text/plain": [
       "5"
      ]
     },
     "execution_count": 19,
     "metadata": {},
     "output_type": "execute_result"
    }
   ],
   "source": [
    "#1\n",
    "heros = ['spider man','thor','hulk','iron man','captain america']\n",
    "length = len(heros)\n",
    "length"
   ]
  },
  {
   "cell_type": "code",
   "execution_count": 20,
   "id": "52dc804b",
   "metadata": {},
   "outputs": [
    {
     "data": {
      "text/plain": [
       "['spider man', 'thor', 'hulk', 'iron man', 'captain america', 'black panther']"
      ]
     },
     "execution_count": 20,
     "metadata": {},
     "output_type": "execute_result"
    }
   ],
   "source": [
    "#2\n",
    "heros.append('black panther')\n",
    "heros"
   ]
  },
  {
   "cell_type": "code",
   "execution_count": 23,
   "id": "217dac9e",
   "metadata": {},
   "outputs": [
    {
     "data": {
      "text/plain": [
       "['spider man', 'thor', 'hulk', 'black panther', 'iron man', 'captain america']"
      ]
     },
     "execution_count": 23,
     "metadata": {},
     "output_type": "execute_result"
    }
   ],
   "source": [
    "#3\n",
    "#heros.remove('black panther')\n",
    "heros.insert(3,'black panther')\n",
    "heros\n"
   ]
  },
  {
   "cell_type": "code",
   "execution_count": 24,
   "id": "c2a63eba",
   "metadata": {},
   "outputs": [
    {
     "data": {
      "text/plain": [
       "['spider man',\n",
       " 'thor',\n",
       " 'doctor strange',\n",
       " 'black panther',\n",
       " 'iron man',\n",
       " 'captain america']"
      ]
     },
     "execution_count": 24,
     "metadata": {},
     "output_type": "execute_result"
    }
   ],
   "source": [
    "#4 \n",
    "heros[2] = 'doctor strange'\n",
    "heros"
   ]
  },
  {
   "cell_type": "code",
   "execution_count": 25,
   "id": "b2866a2d",
   "metadata": {},
   "outputs": [
    {
     "data": {
      "text/plain": [
       "['black panther',\n",
       " 'captain america',\n",
       " 'doctor strange',\n",
       " 'iron man',\n",
       " 'spider man',\n",
       " 'thor']"
      ]
     },
     "execution_count": 25,
     "metadata": {},
     "output_type": "execute_result"
    }
   ],
   "source": [
    "# 5\n",
    "heros.sort()\n",
    "heros"
   ]
  },
  {
   "cell_type": "markdown",
   "id": "5a01321f",
   "metadata": {},
   "source": [
    "# If Condition"
   ]
  },
  {
   "cell_type": "markdown",
   "id": "591737c8",
   "metadata": {},
   "source": [
    "    Using following list of cities per country,\n",
    "    india = [\"mumbai\", \"banglore\", \"chennai\", \"delhi\"]\n",
    "    pakistan = [\"lahore\",\"karachi\",\"islamabad\"]\n",
    "    bangladesh = [\"dhaka\", \"khulna\", \"rangpur\"]\n",
    "    \n",
    "    Write a program that asks user to enter a city name and it should tell which country the city belongs to\n",
    "    Write a program that asks user to enter two cities and it tells you if they both are in same country or not. For example if     I enter mumbai and chennai, it will print \"Both cities are in India\" but if I enter mumbai and dhaka it should print \"They       don't belong to same country\""
   ]
  },
  {
   "cell_type": "code",
   "execution_count": 30,
   "id": "29cf64e0",
   "metadata": {},
   "outputs": [
    {
     "name": "stdout",
     "output_type": "stream",
     "text": [
      "Enter the city: chennai\n",
      "chennai belongs to india\n"
     ]
    }
   ],
   "source": [
    "#1\n",
    "india = [\"mumbai\", \"banglore\", \"chennai\", \"delhi\"]\n",
    "pakistan = [\"lahore\",\"karachi\",\"islamabad\"]\n",
    "bangladesh = [\"dhaka\", \"khulna\", \"rangpur\"]\n",
    "user = input(\"Enter the city: \")\n",
    "\n",
    "if user in india:\n",
    "    print(user,\"belongs to india\")\n",
    "elif user in pakistan:\n",
    "    print(user,\"belongs to pakistan\")\n",
    "elif user in bangladesh:\n",
    "    print(user,\"belongs to bangladesh\")\n",
    "else:\n",
    "    print(\"enter appropriate city\")\n",
    "    "
   ]
  },
  {
   "cell_type": "code",
   "execution_count": 36,
   "id": "3f3cbe8a",
   "metadata": {},
   "outputs": [
    {
     "name": "stdout",
     "output_type": "stream",
     "text": [
      "Enter the city1: mumbai\n",
      "Enter the city2: chennai\n",
      "both cities belongs to india\n"
     ]
    }
   ],
   "source": [
    "#2\n",
    "user1 = input(\"Enter the city1: \")\n",
    "user2 = input(\"Enter the city2: \")\n",
    "\n",
    "if user1 and user2 in india:\n",
    "    print(\"both cities belongs to india\")\n",
    "elif user1 and user2 in pakistan:\n",
    "    print(\"both cities belongs to pakistan\")\n",
    "    \n",
    "elif user1 and user2 in bangladesh:\n",
    "    print(\"both cities belongs to bangladesh\")\n",
    "else:\n",
    "    print(\"doesn't belongs to same country\")\n",
    "    \n"
   ]
  },
  {
   "cell_type": "markdown",
   "id": "759cb35d",
   "metadata": {},
   "source": [
    "    Write a python program that can tell you if your sugar is normal or not. Normal fasting level sugar range is 80 to 100.\n",
    "    i. Ask user to enter his fasting sugar level\n",
    "    ii. If it is below 80 to 100 range then print that sugar is low\n",
    "    iii.If it is above 100 then print that it is high otherwise print that it is normal"
   ]
  },
  {
   "cell_type": "code",
   "execution_count": 40,
   "id": "cda94496",
   "metadata": {},
   "outputs": [
    {
     "name": "stdout",
     "output_type": "stream",
     "text": [
      "Enter the level of your sugar: 104\n",
      "suger is high\n"
     ]
    }
   ],
   "source": [
    "user_sugar_level = int(input(\"Enter the level of your sugar: \"))\n",
    "\n",
    "if user_sugar_level < 80:\n",
    "    print(\"sugar is low\")\n",
    "elif user_sugar_level > 100:\n",
    "    print(\"suger is high\")\n",
    "elif user_sugar_level in range (80,100):\n",
    "    print(\"sugar is normal\")\n"
   ]
  },
  {
   "cell_type": "markdown",
   "id": "afb0207d",
   "metadata": {},
   "source": [
    "# For Loop\n",
    "1. After flipping a coin 10 times you got this result,\n",
    "    result = [\"heads\",\"tails\",\"tails\",\"heads\",\"tails\",\"heads\",\"heads\",\"tails\",\"tails\",\"tails\"]\n",
    "    Using for loop figure out how many times you got heads"
   ]
  },
  {
   "cell_type": "code",
   "execution_count": 43,
   "id": "5e7cfcf9",
   "metadata": {},
   "outputs": [
    {
     "name": "stdout",
     "output_type": "stream",
     "text": [
      "4\n"
     ]
    }
   ],
   "source": [
    "result = [\"heads\",\"tails\",\"tails\",\"heads\",\"tails\",\"heads\",\"heads\",\"tails\",\"tails\",\"tails\"] \n",
    "count = 0\n",
    "for i in result:\n",
    "    if i == \"heads\":\n",
    "        count = count + 1\n",
    "print(count)\n",
    "    "
   ]
  },
  {
   "cell_type": "code",
   "execution_count": 45,
   "id": "db9856f9",
   "metadata": {},
   "outputs": [
    {
     "name": "stdout",
     "output_type": "stream",
     "text": [
      "5\n"
     ]
    }
   ],
   "source": [
    "#After rolling a six-sided die 15 times, the outcomes were recorded in the list roll_results. \n",
    "#Use a for loop to count how many times the number 4 appeared.\n",
    "roll_results = [3, 6, 4, 2, 4, 5, 1, 4, 3, 2, 6, 4, 1, 5, 4]\n",
    "count1 = 0\n",
    "for i in roll_results:\n",
    "    if i == 4:\n",
    "        count1 = count1 + 1\n",
    "print(count1)"
   ]
  },
  {
   "cell_type": "code",
   "execution_count": 48,
   "id": "7d0c430f",
   "metadata": {},
   "outputs": [
    {
     "data": {
      "text/plain": [
       "88.0"
      ]
     },
     "execution_count": 48,
     "metadata": {},
     "output_type": "execute_result"
    }
   ],
   "source": [
    "#A list grades contains the scores of students in a class. Calculate the average grade using a for loop.\n",
    "grades = [85, 90, 78, 92, 88, 95]\n",
    "sum_grades = 0\n",
    "for i in grades:\n",
    "    sum_grades = sum_grades + i\n",
    "\n",
    "average_grades = sum_grades/len(grades)\n",
    "average_grades"
   ]
  },
  {
   "cell_type": "markdown",
   "id": "58ffb569",
   "metadata": {},
   "source": [
    "2. Print square of all numbers between 1 to 10 except even numbers"
   ]
  },
  {
   "cell_type": "code",
   "execution_count": 51,
   "id": "576c5769",
   "metadata": {},
   "outputs": [
    {
     "name": "stdout",
     "output_type": "stream",
     "text": [
      "4\n",
      "16\n",
      "36\n",
      "64\n",
      "100\n"
     ]
    }
   ],
   "source": [
    "for i in range(1,11):\n",
    "    if i % 2 == 0:\n",
    "        square = i ** 2\n",
    "        print(square)"
   ]
  },
  {
   "cell_type": "markdown",
   "id": "64d88276",
   "metadata": {},
   "source": [
    "    Your monthly expense list (from Jan to May) looks like this,\n",
    "    expense_list = [2340, 2500, 2100, 3100, 2980]\n",
    "    Write a program that asks you to enter an expense amount and program should tell you in which month that expense occurred. If expense is not found then it should print that as well."
   ]
  },
  {
   "cell_type": "code",
   "execution_count": 2,
   "id": "bcf2c537",
   "metadata": {},
   "outputs": [
    {
     "name": "stdout",
     "output_type": "stream",
     "text": [
      "Enter the expense: 2100\n",
      "Expence occured in  March Month\n"
     ]
    }
   ],
   "source": [
    "\n",
    "expense_list = [2340, 2500, 2100, 3100, 2980]\n",
    "month_list = [\"January\", \"February\", \"March\", \"April\", \"May\"]\n",
    "\n",
    "user_input = int(input(\"Enter the expense: \"))\n",
    "if user_input in expense_list:\n",
    "    for i in range(len(expense_list)):\n",
    "        if user_input == expense_list[i]:\n",
    "            print(\"Expence occured in \",month_list[i],\"Month\")\n",
    "else:\n",
    "    print(\"Expense not found\")\n",
    "\n",
    "    \n"
   ]
  },
  {
   "cell_type": "markdown",
   "id": "ecffbcc1",
   "metadata": {},
   "source": [
    "    Lets say you are running a 5 km race. Write a program that,\n",
    "\n",
    "    Upon completing each 1 km asks you \"are you tired?\"\n",
    "    If you reply \"yes\" then it should break and print \"you didn't finish the race\"\n",
    "    If you reply \"no\" then it should continue and ask \"are you tired\" on every km\n",
    "    If you finish all 5 km then it should print congratulations message\n"
   ]
  },
  {
   "cell_type": "code",
   "execution_count": 6,
   "id": "f5b5199d",
   "metadata": {},
   "outputs": [
    {
     "name": "stdout",
     "output_type": "stream",
     "text": [
      "completed 1 KM\n",
      "Are you tired ?: yes\n",
      "try your best\n"
     ]
    }
   ],
   "source": [
    "for i in range(5):\n",
    "    print(\"completed 1 KM\")\n",
    "    user_ans = input(\"Are you tired ?: \")\n",
    "    if user_ans == 'no':\n",
    "        continue\n",
    "    elif user_ans == 'yes':\n",
    "        break\n",
    "if i == 4:\n",
    "    print(\"congrats\")\n",
    "else:\n",
    "    print('try your best')"
   ]
  },
  {
   "cell_type": "markdown",
   "id": "0eca6e56",
   "metadata": {},
   "source": [
    "    Write a program that prints following shape\n",
    "\n",
    "    *\n",
    "    **\n",
    "    ***\n",
    "    ****\n",
    "    *****\n"
   ]
  },
  {
   "cell_type": "code",
   "execution_count": 16,
   "id": "a2ef4d2c",
   "metadata": {},
   "outputs": [
    {
     "name": "stdout",
     "output_type": "stream",
     "text": [
      "*\n",
      "**\n",
      "***\n",
      "****\n",
      "*****\n"
     ]
    }
   ],
   "source": [
    "a = '*'\n",
    "for i in range(1,6):\n",
    "    print(a*i)"
   ]
  },
  {
   "cell_type": "code",
   "execution_count": null,
   "id": "ace40e8c",
   "metadata": {},
   "outputs": [],
   "source": []
  }
 ],
 "metadata": {
  "kernelspec": {
   "display_name": "Python 3 (ipykernel)",
   "language": "python",
   "name": "python3"
  },
  "language_info": {
   "codemirror_mode": {
    "name": "ipython",
    "version": 3
   },
   "file_extension": ".py",
   "mimetype": "text/x-python",
   "name": "python",
   "nbconvert_exporter": "python",
   "pygments_lexer": "ipython3",
   "version": "3.9.13"
  }
 },
 "nbformat": 4,
 "nbformat_minor": 5
}
