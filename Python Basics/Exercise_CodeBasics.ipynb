{
 "cells": [
  {
   "cell_type": "markdown",
   "id": "5db53315",
   "metadata": {},
   "source": [
    "# Variables\n",
    "1. Create a variable called break and assign it a value 5. See what happens and find out the reason behind the behavior that you see.\n",
    "\n",
    "2. Create two variables. One to store your birth year and another one to store current year. Now calculate your age using these two variables\n",
    "\n",
    "3. Store your first, middle and last name in three different variables and then print your full name using these variables\n",
    "\n",
    "4. Answer which of these are invalid variable names: _nation 1record record1 record_one record-one record^one continue"
   ]
  },
  {
   "cell_type": "code",
   "execution_count": 1,
   "id": "a5c1f0b2",
   "metadata": {},
   "outputs": [
    {
     "ename": "SyntaxError",
     "evalue": "invalid syntax (4028869155.py, line 2)",
     "output_type": "error",
     "traceback": [
      "\u001b[1;36m  File \u001b[1;32m\"C:\\Users\\alist\\AppData\\Local\\Temp\\ipykernel_12944\\4028869155.py\"\u001b[1;36m, line \u001b[1;32m2\u001b[0m\n\u001b[1;33m    break = 5\u001b[0m\n\u001b[1;37m          ^\u001b[0m\n\u001b[1;31mSyntaxError\u001b[0m\u001b[1;31m:\u001b[0m invalid syntax\n"
     ]
    }
   ],
   "source": [
    "#1\n",
    "break = 5\n",
    "print(break)\n",
    "#break is a reserved keyword in Python used for control flow in loops, \n",
    "#and reassigning it as a variable can lead to unexpected behavior and errors in your code."
   ]
  },
  {
   "cell_type": "code",
   "execution_count": 2,
   "id": "9688ae3c",
   "metadata": {},
   "outputs": [
    {
     "data": {
      "text/plain": [
       "22"
      ]
     },
     "execution_count": 2,
     "metadata": {},
     "output_type": "execute_result"
    }
   ],
   "source": [
    "#2\n",
    "birth_year = 2002\n",
    "current_year = 2024\n",
    "age = current_year - birth_year\n",
    "age"
   ]
  },
  {
   "cell_type": "code",
   "execution_count": 4,
   "id": "dee1fd9c",
   "metadata": {},
   "outputs": [
    {
     "data": {
      "text/plain": [
       "'Alis D.Tamang'"
      ]
     },
     "execution_count": 4,
     "metadata": {},
     "output_type": "execute_result"
    }
   ],
   "source": [
    "#3 \n",
    "first_name = 'Alis '\n",
    "mid_name = 'D.'\n",
    "last_name = 'Tamang'\n",
    "join = first_name + mid_name + last_name\n",
    "join"
   ]
  },
  {
   "cell_type": "code",
   "execution_count": 8,
   "id": "0f871b31",
   "metadata": {},
   "outputs": [
    {
     "ename": "SyntaxError",
     "evalue": "cannot assign to operator (3697234220.py, line 8)",
     "output_type": "error",
     "traceback": [
      "\u001b[1;36m  File \u001b[1;32m\"C:\\Users\\alist\\AppData\\Local\\Temp\\ipykernel_12944\\3697234220.py\"\u001b[1;36m, line \u001b[1;32m8\u001b[0m\n\u001b[1;33m    record-one = 22 # invalid\u001b[0m\n\u001b[1;37m    ^\u001b[0m\n\u001b[1;31mSyntaxError\u001b[0m\u001b[1;31m:\u001b[0m cannot assign to operator\n"
     ]
    }
   ],
   "source": [
    "#4 Answer which of these are invalid variable names: _nation 1record record1 record_one record-one record^one continue\n",
    "\n",
    "_nation = 1 #valid\n",
    "record = 0 #invalid\n",
    "record1 = 2 # valid\n",
    "record_one = 12 #valid\n",
    "record-one = 22 # invalid\n",
    "record^one = 11 #invalid\n"
   ]
  },
  {
   "cell_type": "markdown",
   "id": "7b11d2c3",
   "metadata": {},
   "source": [
    "# Numbers in python\n",
    "1. You have a football field that is 92 meter long and 48.8 meter wide. Find out total area using python and print it.\n",
    "1. You bought 9 packets of potato chips from a store. Each packet costs 1.49 dollar and you gave shopkeeper 20 dollar. Find out using python, how many dollars is the shopkeeper going to give you back?\n",
    "3. You want to replace tiles in your bathroom which is exactly square and 5.5 feet is its length. If tiles cost 500 rs per square feet, how much will be the total cost to replace all tiles. Calculate and print the cost using python (Hint: Use power operator ** to find area of a square)\n",
    "4. Print binary representation of number 17"
   ]
  },
  {
   "cell_type": "code",
   "execution_count": 9,
   "id": "74fb238e",
   "metadata": {},
   "outputs": [
    {
     "data": {
      "text/plain": [
       "4489.599999999999"
      ]
     },
     "execution_count": 9,
     "metadata": {},
     "output_type": "execute_result"
    }
   ],
   "source": [
    "#1\n",
    "length = 92\n",
    "width = 48.8\n",
    "Area = length * width\n",
    "Area"
   ]
  },
  {
   "cell_type": "code",
   "execution_count": 11,
   "id": "330bed45",
   "metadata": {},
   "outputs": [
    {
     "data": {
      "text/plain": [
       "6.59"
      ]
     },
     "execution_count": 11,
     "metadata": {},
     "output_type": "execute_result"
    }
   ],
   "source": [
    "#2\n",
    "potato_chip = 9\n",
    "price_per_packet = 1.49\n",
    "given_money = 20\n",
    "Total_price_chips = 9 * 1.49\n",
    "return_money = given_money - Total_price_chips \n",
    "return_money"
   ]
  },
  {
   "cell_type": "code",
   "execution_count": 12,
   "id": "a3ade575",
   "metadata": {},
   "outputs": [
    {
     "data": {
      "text/plain": [
       "15125.0"
      ]
     },
     "execution_count": 12,
     "metadata": {},
     "output_type": "execute_result"
    }
   ],
   "source": [
    "#3\n",
    "bathroom_length = 5.5\n",
    "area_of_bathroom = bathroom_length ** 2\n",
    "cost_to_replaceall = area_of_bathroom * 500\n",
    "cost_to_replaceall\n"
   ]
  },
  {
   "cell_type": "code",
   "execution_count": 13,
   "id": "a9d944c1",
   "metadata": {},
   "outputs": [
    {
     "name": "stdout",
     "output_type": "stream",
     "text": [
      "The binary representation of 42 is: 0b101010\n"
     ]
    }
   ],
   "source": [
    "decimal_number = 42\n",
    "binary_representation = bin(decimal_number)\n",
    "\n",
    "print(f\"The binary representation of {decimal_number} is: {binary_representation}\")\n"
   ]
  },
  {
   "cell_type": "code",
   "execution_count": 14,
   "id": "2c293196",
   "metadata": {},
   "outputs": [
    {
     "data": {
      "text/plain": [
       "42"
      ]
     },
     "execution_count": 14,
     "metadata": {},
     "output_type": "execute_result"
    }
   ],
   "source": [
    "binary_num = \"0b101010\"\n",
    "decimal = int(binary_num,2) #base = 2 \n",
    "decimal\n"
   ]
  },
  {
   "cell_type": "markdown",
   "id": "e4da4a21",
   "metadata": {},
   "source": [
    "# String in Python\n",
    "1. Create 3 variables to store street, city and country, now create address variable to store entire address. Use two ways of creating this variable, one using + operator and the other using f-string. Now Print the address in such a way that the street, city and country prints in a separate line\n",
    "2. Create a variable to store the string \"Earth revolves around the sun\"\n",
    "   i. Print \"revolves\" using slice operator\n",
    "   ii. Print \"sun\" using negative index\n",
    "3. Create two variables to store how many fruits and vegetables you eat in a day. Now Print \"I eat x veggies and y fruits daily\" where x and y presents vegetables and fruits that you eat everyday. Use python f string for this.\n",
    "4. I have a string variable called s='maine 200 banana khaye'. This of course is a wrong statement, the correct statement is 'maine 10 samosa khaye'. Replace incorrect words in original strong with new ones and print the new string. Also try to do this in one line."
   ]
  },
  {
   "cell_type": "code",
   "execution_count": 24,
   "id": "1e951a22",
   "metadata": {},
   "outputs": [
    {
     "name": "stdout",
     "output_type": "stream",
     "text": [
      "using + operator\n",
      " jupiter\n",
      "lalitpur\n",
      "nepal\n",
      "using f operator\n",
      " jupiter\n",
      "lalitpur\n",
      "nepal\n"
     ]
    }
   ],
   "source": [
    "#1 \n",
    "street = 'jupiter'\n",
    "city = 'lalitpur'\n",
    "country = 'nepal'\n",
    "address1 = street+'\\n'+ city + '\\n' + country\n",
    "print(\"using + operator\\n\",address1)\n",
    "address2 = f'{street}\\n{city}\\n{country}'\n",
    "print(\"using f operator\\n\",address2)\n"
   ]
  },
  {
   "cell_type": "code",
   "execution_count": 34,
   "id": "6f957c94",
   "metadata": {},
   "outputs": [
    {
     "name": "stdout",
     "output_type": "stream",
     "text": [
      "revolves \n",
      "sun\n"
     ]
    }
   ],
   "source": [
    "var1 = \"Earth revolves around the sun\"\n",
    "cut1 = var1[6:-14]\n",
    "print(cut1)\n",
    "cut2= var1[-3:]\n",
    "print(cut2)"
   ]
  },
  {
   "cell_type": "code",
   "execution_count": 37,
   "id": "37038964",
   "metadata": {},
   "outputs": [
    {
     "name": "stdout",
     "output_type": "stream",
     "text": [
      "I eat 5 veggies and 2 fruits daily\n"
     ]
    }
   ],
   "source": [
    "veg = 5\n",
    "fruits = 2\n",
    "formatf = f\"I eat {veg} veggies and {fruits} fruits daily\"\n",
    "print(formatf)"
   ]
  },
  {
   "cell_type": "code",
   "execution_count": 40,
   "id": "e39933a2",
   "metadata": {},
   "outputs": [
    {
     "name": "stdout",
     "output_type": "stream",
     "text": [
      "maine 10 samosa khaye\n"
     ]
    }
   ],
   "source": [
    "#I have a string variable called s='maine 200 banana khaye'. \n",
    "#This of course is a wrong statement, the correct statement is 'maine 10 samosa khaye'. \n",
    "#Replace incorrect words in original strong with new ones and print the new string. Also try to do this in one line.\n",
    "\n",
    "s = 'maine 200 banana khaye'\n",
    "s = s.replace(\"200\",\"10\")\n",
    "s = s.replace(\"banana\",\"samosa\")\n",
    "print(s)"
   ]
  },
  {
   "cell_type": "code",
   "execution_count": null,
   "id": "e44d9594",
   "metadata": {},
   "outputs": [],
   "source": []
  }
 ],
 "metadata": {
  "kernelspec": {
   "display_name": "Python 3 (ipykernel)",
   "language": "python",
   "name": "python3"
  },
  "language_info": {
   "codemirror_mode": {
    "name": "ipython",
    "version": 3
   },
   "file_extension": ".py",
   "mimetype": "text/x-python",
   "name": "python",
   "nbconvert_exporter": "python",
   "pygments_lexer": "ipython3",
   "version": "3.9.13"
  }
 },
 "nbformat": 4,
 "nbformat_minor": 5
}
